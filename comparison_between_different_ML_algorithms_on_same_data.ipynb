{
  "nbformat": 4,
  "nbformat_minor": 0,
  "metadata": {
    "colab": {
      "name": "comparison between different ML algorithms on same data.ipynb",
      "provenance": [],
      "collapsed_sections": [],
      "include_colab_link": true
    },
    "kernelspec": {
      "display_name": "Python 3",
      "language": "python",
      "name": "python3"
    },
    "language_info": {
      "codemirror_mode": {
        "name": "ipython",
        "version": 3
      },
      "file_extension": ".py",
      "mimetype": "text/x-python",
      "name": "python",
      "nbconvert_exporter": "python",
      "pygments_lexer": "ipython3",
      "version": "3.7.6"
    }
  },
  "cells": [
    {
      "cell_type": "markdown",
      "metadata": {
        "id": "view-in-github",
        "colab_type": "text"
      },
      "source": [
        "<a href=\"https://colab.research.google.com/github/ksh168/ML/blob/master/comparison_between_different_ML_algorithms_on_same_data.ipynb\" target=\"_parent\"><img src=\"https://colab.research.google.com/assets/colab-badge.svg\" alt=\"Open In Colab\"/></a>"
      ]
    },
    {
      "cell_type": "code",
      "metadata": {
        "colab_type": "code",
        "id": "q5RCysOH9jUp",
        "colab": {
          "base_uri": "https://localhost:8080/",
          "height": 71
        },
        "outputId": "fdd4d12d-610b-4c8b-ea6c-c89d743a38a2"
      },
      "source": [
        "import numpy as np\n",
        "import pandas as pd\n",
        "import matplotlib.pyplot as plt\n",
        "import seaborn as sns"
      ],
      "execution_count": 1,
      "outputs": [
        {
          "output_type": "stream",
          "text": [
            "/usr/local/lib/python3.6/dist-packages/statsmodels/tools/_testing.py:19: FutureWarning: pandas.util.testing is deprecated. Use the functions in the public API at pandas.testing instead.\n",
            "  import pandas.util.testing as tm\n"
          ],
          "name": "stderr"
        }
      ]
    },
    {
      "cell_type": "markdown",
      "metadata": {
        "colab_type": "text",
        "id": "rVRV4pYw9jUt"
      },
      "source": [
        "It is highly recommended to read the documentation before implementing any alogorithm.\n",
        "\n",
        "LINEAR REGRESSION : \n",
        "https://scikit-learn.org/stable/modules/generated/sklearn.linear_model.LinearRegression.html <br>\n",
        "LOGISTIC REGRESSION :\n",
        "https://scikit-learn.org/stable/modules/generated/sklearn.linear_model.LogisticRegression.html<br>\n",
        "SVM REGRESSOR :\n",
        "http://scikit-learn.org/stable/modules/generated/sklearn.svm.SVR.html<br>\n",
        "SVM CLASSIFIER :\n",
        "http://scikit-learn.org/stable/modules/generated/sklearn.svm.SVC.html<br>\n",
        "DECISION TREE CLASSIFIER :\n",
        "https://scikit-learn.org/stable/modules/generated/sklearn.tree.DecisionTreeClassifier.html<br>\n",
        "DECISION TREE Regressor :\n",
        "https://scikit-learn.org/stable/modules/generated/sklearn.tree.DecisionTreeRegressor.html<br>\n",
        "RANDOM FOREST CLASSIFIER :\n",
        "https://scikit-learn.org/stable/modules/generated/sklearn.ensemble.RandomForestClassifier.html<br>\n",
        "RANDOM FOREST CLASSIFIER :\n",
        "https://scikit-learn.org/stable/modules/generated/sklearn.ensemble.RandomForestRegressor.html<br>\n",
        "\n",
        "METRICS:\n",
        "R2_SCORE : http://scikit-learn.org/stable/modules/generated/sklearn.metrics.r2_score.html<br>\n",
        "MSE : http://scikit-learn.org/stable/modules/generated/sklearn.metrics.mean_squared_error.html<br>\n",
        "MAE : http://scikit-learn.org/stable/modules/generated/sklearn.metrics.mean_absolute_error.html<br>\n",
        "Confusion Matrix : https://scikit-learn.org/stable/modules/generated/sklearn.metrics.confusion_matrix.html<br>"
      ]
    },
    {
      "cell_type": "markdown",
      "metadata": {
        "colab_type": "text",
        "id": "_lclLEtp9jUu"
      },
      "source": [
        "WRITE THE CODE FOR IMPORTING THE DATA"
      ]
    },
    {
      "cell_type": "code",
      "metadata": {
        "id": "wj9erVZu_N0j",
        "colab_type": "code",
        "colab": {
          "base_uri": "https://localhost:8080/",
          "height": 34
        },
        "outputId": "825d6a58-55ca-4661-f642-b095124a4154"
      },
      "source": [
        "from google.colab import drive\n",
        "drive.mount('/content/drive')"
      ],
      "execution_count": 2,
      "outputs": [
        {
          "output_type": "stream",
          "text": [
            "Drive already mounted at /content/drive; to attempt to forcibly remount, call drive.mount(\"/content/drive\", force_remount=True).\n"
          ],
          "name": "stdout"
        }
      ]
    },
    {
      "cell_type": "code",
      "metadata": {
        "colab_type": "code",
        "id": "JRV20Tv-9jUu",
        "colab": {}
      },
      "source": [
        "#WRITE CODE HERE IMPORT THE DATA AS 'data'\n",
        "data = pd.read_csv('/content/drive/My Drive/datasets/data_WEEK4.csv')"
      ],
      "execution_count": 0,
      "outputs": []
    },
    {
      "cell_type": "code",
      "metadata": {
        "colab_type": "code",
        "id": "fmude2rPzgyy",
        "colab": {
          "base_uri": "https://localhost:8080/",
          "height": 241
        },
        "outputId": "09d13a75-d3d2-4f54-b767-540775907eae"
      },
      "source": [
        "data.head()"
      ],
      "execution_count": 4,
      "outputs": [
        {
          "output_type": "execute_result",
          "data": {
            "text/html": [
              "<div>\n",
              "<style scoped>\n",
              "    .dataframe tbody tr th:only-of-type {\n",
              "        vertical-align: middle;\n",
              "    }\n",
              "\n",
              "    .dataframe tbody tr th {\n",
              "        vertical-align: top;\n",
              "    }\n",
              "\n",
              "    .dataframe thead th {\n",
              "        text-align: right;\n",
              "    }\n",
              "</style>\n",
              "<table border=\"1\" class=\"dataframe\">\n",
              "  <thead>\n",
              "    <tr style=\"text-align: right;\">\n",
              "      <th></th>\n",
              "      <th>price</th>\n",
              "      <th>year</th>\n",
              "      <th>mileage</th>\n",
              "      <th>color</th>\n",
              "      <th>AGE_IN_YEARS</th>\n",
              "      <th>chevrolet</th>\n",
              "      <th>dodge</th>\n",
              "      <th>gmc</th>\n",
              "      <th>jeep</th>\n",
              "      <th>nissan</th>\n",
              "      <th>salvage insurance</th>\n",
              "      <th>black</th>\n",
              "      <th>blue</th>\n",
              "      <th>gray</th>\n",
              "      <th>no_color</th>\n",
              "      <th>silver</th>\n",
              "      <th>white</th>\n",
              "      <th>Goa</th>\n",
              "      <th>MP</th>\n",
              "      <th>Maharashtra</th>\n",
              "      <th>UP</th>\n",
              "    </tr>\n",
              "  </thead>\n",
              "  <tbody>\n",
              "    <tr>\n",
              "      <th>0</th>\n",
              "      <td>2899</td>\n",
              "      <td>2011</td>\n",
              "      <td>190552.0</td>\n",
              "      <td>silver</td>\n",
              "      <td>3</td>\n",
              "      <td>0</td>\n",
              "      <td>0</td>\n",
              "      <td>0</td>\n",
              "      <td>0</td>\n",
              "      <td>0</td>\n",
              "      <td>0</td>\n",
              "      <td>0</td>\n",
              "      <td>0</td>\n",
              "      <td>0</td>\n",
              "      <td>0</td>\n",
              "      <td>1</td>\n",
              "      <td>0</td>\n",
              "      <td>0</td>\n",
              "      <td>0</td>\n",
              "      <td>0</td>\n",
              "      <td>1</td>\n",
              "    </tr>\n",
              "    <tr>\n",
              "      <th>1</th>\n",
              "      <td>5350</td>\n",
              "      <td>2018</td>\n",
              "      <td>39590.0</td>\n",
              "      <td>silver</td>\n",
              "      <td>2</td>\n",
              "      <td>0</td>\n",
              "      <td>1</td>\n",
              "      <td>0</td>\n",
              "      <td>0</td>\n",
              "      <td>0</td>\n",
              "      <td>0</td>\n",
              "      <td>0</td>\n",
              "      <td>0</td>\n",
              "      <td>0</td>\n",
              "      <td>0</td>\n",
              "      <td>1</td>\n",
              "      <td>0</td>\n",
              "      <td>0</td>\n",
              "      <td>1</td>\n",
              "      <td>0</td>\n",
              "      <td>0</td>\n",
              "    </tr>\n",
              "    <tr>\n",
              "      <th>2</th>\n",
              "      <td>25000</td>\n",
              "      <td>2014</td>\n",
              "      <td>64146.0</td>\n",
              "      <td>blue</td>\n",
              "      <td>2</td>\n",
              "      <td>0</td>\n",
              "      <td>0</td>\n",
              "      <td>0</td>\n",
              "      <td>0</td>\n",
              "      <td>0</td>\n",
              "      <td>0</td>\n",
              "      <td>0</td>\n",
              "      <td>1</td>\n",
              "      <td>0</td>\n",
              "      <td>0</td>\n",
              "      <td>0</td>\n",
              "      <td>0</td>\n",
              "      <td>0</td>\n",
              "      <td>0</td>\n",
              "      <td>0</td>\n",
              "      <td>1</td>\n",
              "    </tr>\n",
              "    <tr>\n",
              "      <th>3</th>\n",
              "      <td>27700</td>\n",
              "      <td>2018</td>\n",
              "      <td>6654.0</td>\n",
              "      <td>red</td>\n",
              "      <td>3</td>\n",
              "      <td>1</td>\n",
              "      <td>0</td>\n",
              "      <td>0</td>\n",
              "      <td>0</td>\n",
              "      <td>0</td>\n",
              "      <td>0</td>\n",
              "      <td>0</td>\n",
              "      <td>0</td>\n",
              "      <td>0</td>\n",
              "      <td>0</td>\n",
              "      <td>0</td>\n",
              "      <td>0</td>\n",
              "      <td>0</td>\n",
              "      <td>0</td>\n",
              "      <td>1</td>\n",
              "      <td>0</td>\n",
              "    </tr>\n",
              "    <tr>\n",
              "      <th>4</th>\n",
              "      <td>5700</td>\n",
              "      <td>2018</td>\n",
              "      <td>45561.0</td>\n",
              "      <td>white</td>\n",
              "      <td>1</td>\n",
              "      <td>0</td>\n",
              "      <td>1</td>\n",
              "      <td>0</td>\n",
              "      <td>0</td>\n",
              "      <td>0</td>\n",
              "      <td>0</td>\n",
              "      <td>0</td>\n",
              "      <td>0</td>\n",
              "      <td>0</td>\n",
              "      <td>0</td>\n",
              "      <td>0</td>\n",
              "      <td>1</td>\n",
              "      <td>0</td>\n",
              "      <td>0</td>\n",
              "      <td>0</td>\n",
              "      <td>1</td>\n",
              "    </tr>\n",
              "  </tbody>\n",
              "</table>\n",
              "</div>"
            ],
            "text/plain": [
              "   price  year   mileage   color  AGE_IN_YEARS  ...  white  Goa  MP  Maharashtra  UP\n",
              "0   2899  2011  190552.0  silver             3  ...      0    0   0            0   1\n",
              "1   5350  2018   39590.0  silver             2  ...      0    0   1            0   0\n",
              "2  25000  2014   64146.0    blue             2  ...      0    0   0            0   1\n",
              "3  27700  2018    6654.0     red             3  ...      0    0   0            1   0\n",
              "4   5700  2018   45561.0   white             1  ...      1    0   0            0   1\n",
              "\n",
              "[5 rows x 21 columns]"
            ]
          },
          "metadata": {
            "tags": []
          },
          "execution_count": 4
        }
      ]
    },
    {
      "cell_type": "markdown",
      "metadata": {
        "colab_type": "text",
        "id": "vFgdtQPl9jUx"
      },
      "source": [
        "ONE HOT ENCODING THE COLOR COLUMN AND THEN DROPPING THE COLOR COLUMN"
      ]
    },
    {
      "cell_type": "code",
      "metadata": {
        "colab_type": "code",
        "id": "wr-anAzs9jUy",
        "colab": {}
      },
      "source": [
        "#ONE HOT ENCODING THE COLOR COLUMN\n",
        "data = pd.concat([data,pd.get_dummies(data['color']).drop('white',axis=1)],axis = 1)\n",
        "data = data.drop('color',axis = 1)"
      ],
      "execution_count": 0,
      "outputs": []
    },
    {
      "cell_type": "code",
      "metadata": {
        "colab_type": "code",
        "id": "dAxfI_kg9jU0",
        "colab": {
          "base_uri": "https://localhost:8080/",
          "height": 241
        },
        "outputId": "503b203a-dad4-47ee-bc83-9c617c3ac3e6"
      },
      "source": [
        "# VIEWING THE DATA ONCE\n",
        "data.head()"
      ],
      "execution_count": 6,
      "outputs": [
        {
          "output_type": "execute_result",
          "data": {
            "text/html": [
              "<div>\n",
              "<style scoped>\n",
              "    .dataframe tbody tr th:only-of-type {\n",
              "        vertical-align: middle;\n",
              "    }\n",
              "\n",
              "    .dataframe tbody tr th {\n",
              "        vertical-align: top;\n",
              "    }\n",
              "\n",
              "    .dataframe thead th {\n",
              "        text-align: right;\n",
              "    }\n",
              "</style>\n",
              "<table border=\"1\" class=\"dataframe\">\n",
              "  <thead>\n",
              "    <tr style=\"text-align: right;\">\n",
              "      <th></th>\n",
              "      <th>price</th>\n",
              "      <th>year</th>\n",
              "      <th>mileage</th>\n",
              "      <th>AGE_IN_YEARS</th>\n",
              "      <th>chevrolet</th>\n",
              "      <th>dodge</th>\n",
              "      <th>gmc</th>\n",
              "      <th>jeep</th>\n",
              "      <th>nissan</th>\n",
              "      <th>salvage insurance</th>\n",
              "      <th>black</th>\n",
              "      <th>blue</th>\n",
              "      <th>gray</th>\n",
              "      <th>no_color</th>\n",
              "      <th>silver</th>\n",
              "      <th>white</th>\n",
              "      <th>Goa</th>\n",
              "      <th>MP</th>\n",
              "      <th>Maharashtra</th>\n",
              "      <th>UP</th>\n",
              "      <th>black</th>\n",
              "      <th>blue</th>\n",
              "      <th>gray</th>\n",
              "      <th>no_color</th>\n",
              "      <th>red</th>\n",
              "      <th>silver</th>\n",
              "    </tr>\n",
              "  </thead>\n",
              "  <tbody>\n",
              "    <tr>\n",
              "      <th>0</th>\n",
              "      <td>2899</td>\n",
              "      <td>2011</td>\n",
              "      <td>190552.0</td>\n",
              "      <td>3</td>\n",
              "      <td>0</td>\n",
              "      <td>0</td>\n",
              "      <td>0</td>\n",
              "      <td>0</td>\n",
              "      <td>0</td>\n",
              "      <td>0</td>\n",
              "      <td>0</td>\n",
              "      <td>0</td>\n",
              "      <td>0</td>\n",
              "      <td>0</td>\n",
              "      <td>1</td>\n",
              "      <td>0</td>\n",
              "      <td>0</td>\n",
              "      <td>0</td>\n",
              "      <td>0</td>\n",
              "      <td>1</td>\n",
              "      <td>0</td>\n",
              "      <td>0</td>\n",
              "      <td>0</td>\n",
              "      <td>0</td>\n",
              "      <td>0</td>\n",
              "      <td>1</td>\n",
              "    </tr>\n",
              "    <tr>\n",
              "      <th>1</th>\n",
              "      <td>5350</td>\n",
              "      <td>2018</td>\n",
              "      <td>39590.0</td>\n",
              "      <td>2</td>\n",
              "      <td>0</td>\n",
              "      <td>1</td>\n",
              "      <td>0</td>\n",
              "      <td>0</td>\n",
              "      <td>0</td>\n",
              "      <td>0</td>\n",
              "      <td>0</td>\n",
              "      <td>0</td>\n",
              "      <td>0</td>\n",
              "      <td>0</td>\n",
              "      <td>1</td>\n",
              "      <td>0</td>\n",
              "      <td>0</td>\n",
              "      <td>1</td>\n",
              "      <td>0</td>\n",
              "      <td>0</td>\n",
              "      <td>0</td>\n",
              "      <td>0</td>\n",
              "      <td>0</td>\n",
              "      <td>0</td>\n",
              "      <td>0</td>\n",
              "      <td>1</td>\n",
              "    </tr>\n",
              "    <tr>\n",
              "      <th>2</th>\n",
              "      <td>25000</td>\n",
              "      <td>2014</td>\n",
              "      <td>64146.0</td>\n",
              "      <td>2</td>\n",
              "      <td>0</td>\n",
              "      <td>0</td>\n",
              "      <td>0</td>\n",
              "      <td>0</td>\n",
              "      <td>0</td>\n",
              "      <td>0</td>\n",
              "      <td>0</td>\n",
              "      <td>1</td>\n",
              "      <td>0</td>\n",
              "      <td>0</td>\n",
              "      <td>0</td>\n",
              "      <td>0</td>\n",
              "      <td>0</td>\n",
              "      <td>0</td>\n",
              "      <td>0</td>\n",
              "      <td>1</td>\n",
              "      <td>0</td>\n",
              "      <td>1</td>\n",
              "      <td>0</td>\n",
              "      <td>0</td>\n",
              "      <td>0</td>\n",
              "      <td>0</td>\n",
              "    </tr>\n",
              "    <tr>\n",
              "      <th>3</th>\n",
              "      <td>27700</td>\n",
              "      <td>2018</td>\n",
              "      <td>6654.0</td>\n",
              "      <td>3</td>\n",
              "      <td>1</td>\n",
              "      <td>0</td>\n",
              "      <td>0</td>\n",
              "      <td>0</td>\n",
              "      <td>0</td>\n",
              "      <td>0</td>\n",
              "      <td>0</td>\n",
              "      <td>0</td>\n",
              "      <td>0</td>\n",
              "      <td>0</td>\n",
              "      <td>0</td>\n",
              "      <td>0</td>\n",
              "      <td>0</td>\n",
              "      <td>0</td>\n",
              "      <td>1</td>\n",
              "      <td>0</td>\n",
              "      <td>0</td>\n",
              "      <td>0</td>\n",
              "      <td>0</td>\n",
              "      <td>0</td>\n",
              "      <td>1</td>\n",
              "      <td>0</td>\n",
              "    </tr>\n",
              "    <tr>\n",
              "      <th>4</th>\n",
              "      <td>5700</td>\n",
              "      <td>2018</td>\n",
              "      <td>45561.0</td>\n",
              "      <td>1</td>\n",
              "      <td>0</td>\n",
              "      <td>1</td>\n",
              "      <td>0</td>\n",
              "      <td>0</td>\n",
              "      <td>0</td>\n",
              "      <td>0</td>\n",
              "      <td>0</td>\n",
              "      <td>0</td>\n",
              "      <td>0</td>\n",
              "      <td>0</td>\n",
              "      <td>0</td>\n",
              "      <td>1</td>\n",
              "      <td>0</td>\n",
              "      <td>0</td>\n",
              "      <td>0</td>\n",
              "      <td>1</td>\n",
              "      <td>0</td>\n",
              "      <td>0</td>\n",
              "      <td>0</td>\n",
              "      <td>0</td>\n",
              "      <td>0</td>\n",
              "      <td>0</td>\n",
              "    </tr>\n",
              "  </tbody>\n",
              "</table>\n",
              "</div>"
            ],
            "text/plain": [
              "   price  year   mileage  AGE_IN_YEARS  ...  gray  no_color  red  silver\n",
              "0   2899  2011  190552.0             3  ...     0         0    0       1\n",
              "1   5350  2018   39590.0             2  ...     0         0    0       1\n",
              "2  25000  2014   64146.0             2  ...     0         0    0       0\n",
              "3  27700  2018    6654.0             3  ...     0         0    1       0\n",
              "4   5700  2018   45561.0             1  ...     0         0    0       0\n",
              "\n",
              "[5 rows x 26 columns]"
            ]
          },
          "metadata": {
            "tags": []
          },
          "execution_count": 6
        }
      ]
    },
    {
      "cell_type": "markdown",
      "metadata": {
        "colab_type": "text",
        "id": "-ZcVR3RC9jU4"
      },
      "source": [
        "WE USE THE train_test_split_function TO SPLIT THE DATA INTO TRAIN AND TEST <br>\n",
        "HERE WE IMPORT IT FROM SKLEARN"
      ]
    },
    {
      "cell_type": "code",
      "metadata": {
        "colab_type": "code",
        "id": "di5Jh08_9jU4",
        "colab": {}
      },
      "source": [
        "from sklearn.model_selection import train_test_split as tts"
      ],
      "execution_count": 0,
      "outputs": []
    },
    {
      "cell_type": "markdown",
      "metadata": {
        "colab_type": "text",
        "id": "ll5Q2xCm9jU7"
      },
      "source": [
        "LET US LOOK AT THE PRICES DISTRIBUTION"
      ]
    },
    {
      "cell_type": "code",
      "metadata": {
        "colab_type": "code",
        "id": "SZu32pba9jU7",
        "colab": {
          "base_uri": "https://localhost:8080/",
          "height": 265
        },
        "outputId": "6b2bd3a4-2519-43f3-df98-e09d9f79377f"
      },
      "source": [
        "plt.hist(data['price']);"
      ],
      "execution_count": 8,
      "outputs": [
        {
          "output_type": "display_data",
          "data": {
            "image/png": "[encoded data removed]",
            "text/plain": [
              "<Figure size 432x288 with 1 Axes>"
            ]
          },
          "metadata": {
            "tags": [],
            "needs_background": "light"
          }
        }
      ]
    },
    {
      "cell_type": "markdown",
      "metadata": {
        "colab_type": "text",
        "id": "jn6ZMkZd9jU_"
      },
      "source": [
        "IT IS LEFT-SKEWED<br>\n",
        "We will either use log transform or sqrt transform"
      ]
    },
    {
      "cell_type": "code",
      "metadata": {
        "colab_type": "code",
        "id": "nC13GB_f9jU_",
        "colab": {
          "base_uri": "https://localhost:8080/",
          "height": 545
        },
        "outputId": "2a29cede-77b6-4394-c1fc-4790def41ca6"
      },
      "source": [
        "#WE HAVE WRITTEN THE CODE FOR PLOTTING THE HISTOGRAM FOR THE LOG-TRANSFORMED PRICE COLUMN AND SQRT TRANSFORMED SQRT COLUMN.\n",
        "plt.hist(np.sqrt(data['price']));\n",
        "plt.title('SQRT TRANSFORM');\n",
        "plt.show()\n",
        "plt.hist(np.log(data['price']));\n",
        "plt.title('LOG TRANSFORM');\n",
        "plt.show()"
      ],
      "execution_count": 9,
      "outputs": [
        {
          "output_type": "display_data",
          "data": {
            "image/png": "[encoded data removed]",
            "text/plain": [
              "<Figure size 432x288 with 1 Axes>"
            ]
          },
          "metadata": {
            "tags": [],
            "needs_background": "light"
          }
        },
        {
          "output_type": "display_data",
          "data": {
            "image/png": "[encoded data removed]",
            "text/plain": [
              "<Figure size 432x288 with 1 Axes>"
            ]
          },
          "metadata": {
            "tags": [],
            "needs_background": "light"
          }
        }
      ]
    },
    {
      "cell_type": "markdown",
      "metadata": {
        "colab_type": "text",
        "id": "CIxuDmN89jVC"
      },
      "source": [
        "CLEARLY SQRT TRANSFORM IS BETTER"
      ]
    },
    {
      "cell_type": "code",
      "metadata": {
        "colab_type": "code",
        "id": "ZEDTdMPP9jVC",
        "colab": {}
      },
      "source": [
        "#WE CONVERT PRICES TO THEIR SQRT AND ROUND OFF DECIMALS TO TWO\n",
        "data['price'] = round(np.sqrt(data['price']),2)"
      ],
      "execution_count": 0,
      "outputs": []
    },
    {
      "cell_type": "code",
      "metadata": {
        "colab_type": "code",
        "id": "DsRrd_c79jVG",
        "colab": {}
      },
      "source": [
        "# HERE WE SPLIT DATA INTO TRAIN TEST SPLIT\n",
        "X_train,X_test,y_train,y_test = tts(data.drop('price',axis = 1),data['price'],test_size = 0.2,random_state = 1)"
      ],
      "execution_count": 0,
      "outputs": []
    },
    {
      "cell_type": "code",
      "metadata": {
        "colab_type": "code",
        "id": "66Pr1G_89jVI",
        "colab": {
          "base_uri": "https://localhost:8080/",
          "height": 85
        },
        "outputId": "fddeeba4-3ae1-4f6e-cee5-0ed09f787404"
      },
      "source": [
        "#LET US PRINT THE SHAPES\n",
        "print(X_train.shape)\n",
        "print(X_test.shape)\n",
        "print(y_train.shape)\n",
        "print(y_test.shape)"
      ],
      "execution_count": 12,
      "outputs": [
        {
          "output_type": "stream",
          "text": [
            "(1722, 25)\n",
            "(431, 25)\n",
            "(1722,)\n",
            "(431,)\n"
          ],
          "name": "stdout"
        }
      ]
    },
    {
      "cell_type": "markdown",
      "metadata": {
        "colab_type": "text",
        "id": "MTbjksBn9jVK"
      },
      "source": [
        "NOW <br>\n",
        "LET US APPLY LINEAR REGRESSION ON THE DATA, THIS TIME WE WILL IMPORT IT FROM SKLEARN <br>\n"
      ]
    },
    {
      "cell_type": "code",
      "metadata": {
        "colab_type": "code",
        "id": "Qza5_BMn9jVK",
        "colab": {
          "base_uri": "https://localhost:8080/",
          "height": 119
        },
        "outputId": "c44a1e91-1e29-4e31-cd80-2d3a9b2e3fa0"
      },
      "source": [
        "from sklearn.linear_model import LinearRegression\n",
        "from sklearn.metrics import r2_score,mean_squared_error,mean_absolute_error\n",
        "# INITIALIZE LINEAR REGRESSION WITH ALL DEFAULT PARAMETERS\n",
        "Linreg = LinearRegression()\n",
        "Linreg.fit(X_train,y_train)\n",
        "\n",
        "# FIND TEST ERROR AND TRAIN ERROR WITH THE METRICS IMPORTED ABOVE\n",
        "# NOTE THAT WE HAVE SQUARED BACK THE VALUES AS WE ARE PREDICTING PRICES NOT THEIR SQUARE ROOT \n",
        "print(\"Linear Regression Training R2 score is \" \n",
        "      + str(r2_score(np.square(y_train),np.square(Linreg.predict(X_train)))))\n",
        "\n",
        "print(\"Linear Regression Testing R2 score is \" \n",
        "      + str(r2_score(np.square(y_test),np.square(Linreg.predict(X_test)))))\n",
        "\n",
        "#CODE FOR MEAN SQUARE ERROR AND MEAN\n",
        "\n",
        "print('Linear Regression Training mean_square_error is '\n",
        "      + str(mean_squared_error(np.square(y_train),np.square(Linreg.predict(X_train)))))\n",
        "\n",
        "print('Linear Regression Testing mean_square_error is '\n",
        "      + str(mean_squared_error(np.square(y_test),np.square(Linreg.predict(X_test)))))\n",
        "\n",
        "print('Linear Regression Training mean_absolute_error is '\n",
        "      + str(mean_absolute_error(np.square(y_train),np.square(Linreg.predict(X_train)))))\n",
        "\n",
        "print('Linear Regression Testing mean_absolute_error is '\n",
        "      + str(mean_absolute_error(np.square(y_test),np.square(Linreg.predict(X_test)))))\n"
      ],
      "execution_count": 13,
      "outputs": [
        {
          "output_type": "stream",
          "text": [
            "Linear Regression Training R2 score is 0.3577935806672855\n",
            "Linear Regression Testing R2 score is 0.33405970134102436\n",
            "Linear Regression Training mean_square_error is 90997459.24038002\n",
            "Linear Regression Testing mean_square_error is 93998879.06677869\n",
            "Linear Regression Training mean_absolute_error is 6864.980505017768\n",
            "Linear Regression Testing mean_absolute_error is 6926.987292556893\n"
          ],
          "name": "stdout"
        }
      ]
    },
    {
      "cell_type": "markdown",
      "metadata": {
        "colab_type": "text",
        "id": "Z3W4-0--9jVN"
      },
      "source": [
        "<br>\n",
        "NOW LET US WRITE THE SKLEARN IMPLEMENTATION OF DECISION TREE IN REGRESSION <br>"
      ]
    },
    {
      "cell_type": "code",
      "metadata": {
        "colab_type": "code",
        "id": "f43pHl3y9jVO",
        "colab": {}
      },
      "source": [
        "from sklearn.tree import DecisionTreeRegressor\n",
        "\n",
        "# INITIALIZE THE DECISION TREE WITH criterion as mse, max depth as 7 and Random State as 1\n",
        "# THE FIT METHOD TO FIND THE R2_SCORE, MSE, MAE For training as well as testing data\n",
        "\n",
        "dtr_model = DecisionTreeRegressor(criterion = 'mse', max_depth = 7, random_state = 1)\n"
      ],
      "execution_count": 0,
      "outputs": []
    },
    {
      "cell_type": "code",
      "metadata": {
        "id": "hrhVZcSM-zJA",
        "colab_type": "code",
        "colab": {
          "base_uri": "https://localhost:8080/",
          "height": 119
        },
        "outputId": "3128556a-14f1-4514-c721-e0cb30c35800"
      },
      "source": [
        "dtr_model.fit(X_train,y_train)"
      ],
      "execution_count": 15,
      "outputs": [
        {
          "output_type": "execute_result",
          "data": {
            "text/plain": [
              "DecisionTreeRegressor(ccp_alpha=0.0, criterion='mse', max_depth=7,\n",
              "                      max_features=None, max_leaf_nodes=None,\n",
              "                      min_impurity_decrease=0.0, min_impurity_split=None,\n",
              "                      min_samples_leaf=1, min_samples_split=2,\n",
              "                      min_weight_fraction_leaf=0.0, presort='deprecated',\n",
              "                      random_state=1, splitter='best')"
            ]
          },
          "metadata": {
            "tags": []
          },
          "execution_count": 15
        }
      ]
    },
    {
      "cell_type": "code",
      "metadata": {
        "scrolled": true,
        "id": "BdvDAYeD-zJO",
        "colab_type": "code",
        "colab": {
          "base_uri": "https://localhost:8080/",
          "height": 34
        },
        "outputId": "2ba6da99-e724-4f9f-eeec-b00f94bbbb12"
      },
      "source": [
        "dtr_model.score(X_test, y_test)"
      ],
      "execution_count": 16,
      "outputs": [
        {
          "output_type": "execute_result",
          "data": {
            "text/plain": [
              "0.462261990177796"
            ]
          },
          "metadata": {
            "tags": []
          },
          "execution_count": 16
        }
      ]
    },
    {
      "cell_type": "code",
      "metadata": {
        "id": "75cNOGCc-zJX",
        "colab_type": "code",
        "colab": {
          "base_uri": "https://localhost:8080/",
          "height": 119
        },
        "outputId": "5ba0efe0-bce7-4a1c-c41f-177c8aa8ad22"
      },
      "source": [
        "print(\"Decision Tree Training R2 score is \" + str(r2_score(np.square(y_train),np.square(dtr_model.predict(X_train)))))\n",
        "print(\"Decision Tree Testing R2 score is \" + str(r2_score(np.square(y_test),np.square(dtr_model.predict(X_test)))))\n",
        "\n",
        "print('Decision Tree Training mean_square_error is '\n",
        "      + str(mean_squared_error(np.square(y_train),np.square(dtr_model.predict(X_train)))))\n",
        "\n",
        "print('Decision Tree Testing mean_square_error is '\n",
        "      + str(mean_squared_error(np.square(y_test),np.square(dtr_model.predict(X_test)))))\n",
        "\n",
        "print('Decision Tree Training mean_absolute_error is '\n",
        "      + str(mean_absolute_error(np.square(y_train),np.square(dtr_model.predict(X_train)))))\n",
        "\n",
        "print('Decision Tree Testing mean_absolute_error is '\n",
        "      + str(mean_absolute_error(np.square(y_test),np.square(dtr_model.predict(X_test)))))\n"
      ],
      "execution_count": 17,
      "outputs": [
        {
          "output_type": "stream",
          "text": [
            "Decision Tree Training R2 score is 0.422869230755335\n",
            "Decision Tree Testing R2 score is 0.36145560633416207\n",
            "Decision Tree Training mean_square_error is 81776562.90835412\n",
            "Decision Tree Testing mean_square_error is 90131889.2396716\n",
            "Decision Tree Training mean_absolute_error is 6266.244817595775\n",
            "Decision Tree Testing mean_absolute_error is 6846.025816839579\n"
          ],
          "name": "stdout"
        }
      ]
    },
    {
      "cell_type": "markdown",
      "metadata": {
        "colab_type": "text",
        "id": "TvQ6cQkC9jVQ"
      },
      "source": [
        "<br>\n",
        "NOW LET US WRITE THE SKLEARN IMPLEMENTATION OF SVM IN REGRESSION <br>"
      ]
    },
    {
      "cell_type": "code",
      "metadata": {
        "colab_type": "code",
        "id": "wTlrmqiG9jVQ",
        "scrolled": true,
        "colab": {
          "base_uri": "https://localhost:8080/",
          "height": 88
        },
        "outputId": "fc51df84-2c81-420d-c62f-99e4f5e26f30"
      },
      "source": [
        "from sklearn.svm import SVR\n",
        "# INITIALIZE THE SVM WITH kernel as 'poly', maximum number of iterations as 3000, degree as 2, \n",
        "# C(regularization parameter) as 0.1 \n",
        "# FIT THE DATA\n",
        "# Calculate the R2_score, mse, mae for training data as well as testing data.\n",
        "\n",
        "svr_model = SVR(C = 0.1, kernel = 'poly', max_iter = 3000)\n",
        "svr_model.fit(X_train, y_train)\n",
        "svr_model.score(X_test, y_test)"
      ],
      "execution_count": 18,
      "outputs": [
        {
          "output_type": "stream",
          "text": [
            "/usr/local/lib/python3.6/dist-packages/sklearn/svm/_base.py:231: ConvergenceWarning: Solver terminated early (max_iter=3000).  Consider pre-processing your data with StandardScaler or MinMaxScaler.\n",
            "  % self.max_iter, ConvergenceWarning)\n"
          ],
          "name": "stderr"
        },
        {
          "output_type": "execute_result",
          "data": {
            "text/plain": [
              "-0.008450363786433712"
            ]
          },
          "metadata": {
            "tags": []
          },
          "execution_count": 18
        }
      ]
    },
    {
      "cell_type": "code",
      "metadata": {
        "id": "cqz8uPCS-zJ0",
        "colab_type": "code",
        "colab": {
          "base_uri": "https://localhost:8080/",
          "height": 119
        },
        "outputId": "500525af-7795-44e0-d427-4340dd14bd7c"
      },
      "source": [
        "print(\"SVM Training R2 score is \" + str(r2_score(np.square(y_train),np.square(svr_model.predict(X_train)))))\n",
        "print(\"SVM Testing R2 score is \" + str(r2_score(np.square(y_test),np.square(svr_model.predict(X_test)))))\n",
        "\n",
        "print('SVM Training mean_square_error is '\n",
        "      + str(mean_squared_error(np.square(y_train),np.square(svr_model.predict(X_train)))))\n",
        "\n",
        "print('SVM Testing mean_square_error is '\n",
        "      + str(mean_squared_error(np.square(y_test),np.square(svr_model.predict(X_test)))))\n",
        "\n",
        "print('SVM Training mean_absolute_error is '\n",
        "      + str(mean_absolute_error(np.square(y_train),np.square(svr_model.predict(X_train)))))\n",
        "\n",
        "print('SVM Testing mean_absolute_error is '\n",
        "      + str(mean_absolute_error(np.square(y_test),np.square(svr_model.predict(X_test)))))\n"
      ],
      "execution_count": 19,
      "outputs": [
        {
          "output_type": "stream",
          "text": [
            "SVM Training R2 score is 0.007915403184097003\n",
            "SVM Testing R2 score is 0.00604912802146873\n",
            "SVM Training mean_square_error is 140573458.85076421\n",
            "SVM Testing mean_square_error is 140298263.9758738\n",
            "SVM Training mean_absolute_error is 9282.918138184208\n",
            "SVM Testing mean_absolute_error is 9235.841039000066\n"
          ],
          "name": "stdout"
        }
      ]
    },
    {
      "cell_type": "markdown",
      "metadata": {
        "colab_type": "text",
        "id": "GByCRcmJ9jVT"
      },
      "source": [
        "YOU MIGHT SEE WORSE VALUES WHEN COMPARED TO LINEAR REGRESSION OR DECISION TREE AS THE DATA IS UNSCALED AND SVM REQUIRES MUCH MORE PREPROCESSING AND TUNING...BUT WE WON'T DO THAT HERE AS OUR AIM WAS JUST TO IMPLEMENT THE MODELS"
      ]
    },
    {
      "cell_type": "markdown",
      "metadata": {
        "colab_type": "text",
        "id": "BEE9QB4O9jVT"
      },
      "source": [
        "<br>\n",
        "NOW LET US WRITE THE SKLEARN IMPLEMENTATION OF Random Forest IN REGRESSION <br>"
      ]
    },
    {
      "cell_type": "code",
      "metadata": {
        "colab_type": "code",
        "id": "uqrGh5AR9jVU",
        "colab": {
          "base_uri": "https://localhost:8080/",
          "height": 136
        },
        "outputId": "45d11719-8238-4401-c928-d9a8ef7f4d4c"
      },
      "source": [
        "from sklearn.ensemble import RandomForestRegressor\n",
        "# INITIALIZE THE Random Forest Regressor WITH no: of trees as 200, max_depth as 9, n_jobs as -1\n",
        "# (read documentation for more details) and random state as 1 \n",
        "# FIT THE DATA\n",
        "# Calculate the R2_score, mse, mae for training data as well as testing data.\n",
        "\n",
        "rfr_model = RandomForestRegressor(n_estimators = 200, max_depth = 9, n_jobs = -1, random_state = 1)\n",
        "rfr_model.fit(X_train, y_train)"
      ],
      "execution_count": 20,
      "outputs": [
        {
          "output_type": "execute_result",
          "data": {
            "text/plain": [
              "RandomForestRegressor(bootstrap=True, ccp_alpha=0.0, criterion='mse',\n",
              "                      max_depth=9, max_features='auto', max_leaf_nodes=None,\n",
              "                      max_samples=None, min_impurity_decrease=0.0,\n",
              "                      min_impurity_split=None, min_samples_leaf=1,\n",
              "                      min_samples_split=2, min_weight_fraction_leaf=0.0,\n",
              "                      n_estimators=200, n_jobs=-1, oob_score=False,\n",
              "                      random_state=1, verbose=0, warm_start=False)"
            ]
          },
          "metadata": {
            "tags": []
          },
          "execution_count": 20
        }
      ]
    },
    {
      "cell_type": "code",
      "metadata": {
        "id": "2UAABEy0-zKE",
        "colab_type": "code",
        "colab": {
          "base_uri": "https://localhost:8080/",
          "height": 119
        },
        "outputId": "16d94c8f-ae4c-43f0-c1cd-3f827937f8cd"
      },
      "source": [
        "print(\"Random Forest Training R2 score is \" + str(r2_score(np.square(y_train),np.square(rfr_model.predict(X_train)))))\n",
        "print(\"Random Forest Testing R2 score is \" + str(r2_score(np.square(y_test),np.square(rfr_model.predict(X_test)))))\n",
        "\n",
        "print('Random Forest Training mean_square_error is '\n",
        "      + str(mean_squared_error(np.square(y_train),np.square(rfr_model.predict(X_train)))))\n",
        "\n",
        "print('Random Forest Testing mean_square_error is '\n",
        "      + str(mean_squared_error(np.square(y_test),np.square(rfr_model.predict(X_test)))))\n",
        "\n",
        "print('Random Forest Training mean_absolute_error is '\n",
        "      + str(mean_absolute_error(np.square(y_train),np.square(rfr_model.predict(X_train)))))\n",
        "\n",
        "print('Random Forest Testing mean_absolute_error is '\n",
        "      + str(mean_absolute_error(np.square(y_test),np.square(rfr_model.predict(X_test)))))\n"
      ],
      "execution_count": 21,
      "outputs": [
        {
          "output_type": "stream",
          "text": [
            "Random Forest Training R2 score is 0.5524364393379151\n",
            "Random Forest Testing R2 score is 0.3997413290406362\n",
            "Random Forest Training mean_square_error is 63417533.12143005\n",
            "Random Forest Testing mean_square_error is 84727778.65210524\n",
            "Random Forest Training mean_absolute_error is 5528.669046457424\n",
            "Random Forest Testing mean_absolute_error is 6695.668840563838\n"
          ],
          "name": "stdout"
        }
      ]
    },
    {
      "cell_type": "markdown",
      "metadata": {
        "colab_type": "text",
        "id": "sUEvPws29jVW"
      },
      "source": [
        "NOW FOR CLASSIFICATION MODELS WE NEED TO CONVERT THE TARGET VARIABLE INTO DIFFERENT CLASSES"
      ]
    },
    {
      "cell_type": "code",
      "metadata": {
        "colab_type": "code",
        "id": "5EwOs0dv9jVX",
        "colab": {
          "base_uri": "https://localhost:8080/",
          "height": 170
        },
        "outputId": "b09f949e-e72b-4cf9-b569-348111e4b13f"
      },
      "source": [
        "# WE FIND THE MEDIAN\n",
        "np.square(data['price']).describe()"
      ],
      "execution_count": 22,
      "outputs": [
        {
          "output_type": "execute_result",
          "data": {
            "text/plain": [
              "count     2153.000000\n",
              "mean     19298.257905\n",
              "std      11904.254199\n",
              "min         25.000000\n",
              "25%      10799.366400\n",
              "50%      17300.140900\n",
              "75%      26001.562500\n",
              "max      74000.320900\n",
              "Name: price, dtype: float64"
            ]
          },
          "metadata": {
            "tags": []
          },
          "execution_count": 22
        }
      ]
    },
    {
      "cell_type": "markdown",
      "metadata": {
        "colab_type": "text",
        "id": "SxdlNAd49jVa"
      },
      "source": [
        "WE WILL DO BINARY CLASSIFICATION AND DIVIDE THE DATA EQUALLY(ALMOST) INTO 1's AND 0's <br>\n",
        "WE HAVE CHOSEN THRESHOLD AT price = 20000"
      ]
    },
    {
      "cell_type": "code",
      "metadata": {
        "colab_type": "code",
        "id": "waGj0igv9jVa",
        "colab": {}
      },
      "source": [
        "data.loc[np.square(data['price']) < 20000,'price'] = 0\n",
        "data.loc[np.square(data['price']) >= 20000,'price'] = 1"
      ],
      "execution_count": 0,
      "outputs": []
    },
    {
      "cell_type": "code",
      "metadata": {
        "colab_type": "code",
        "id": "G4pCJ7pw9jVc",
        "colab": {
          "base_uri": "https://localhost:8080/",
          "height": 241
        },
        "outputId": "143e85ff-81ee-4717-e6fa-800a9893d818"
      },
      "source": [
        "data.head()"
      ],
      "execution_count": 24,
      "outputs": [
        {
          "output_type": "execute_result",
          "data": {
            "text/html": [
              "<div>\n",
              "<style scoped>\n",
              "    .dataframe tbody tr th:only-of-type {\n",
              "        vertical-align: middle;\n",
              "    }\n",
              "\n",
              "    .dataframe tbody tr th {\n",
              "        vertical-align: top;\n",
              "    }\n",
              "\n",
              "    .dataframe thead th {\n",
              "        text-align: right;\n",
              "    }\n",
              "</style>\n",
              "<table border=\"1\" class=\"dataframe\">\n",
              "  <thead>\n",
              "    <tr style=\"text-align: right;\">\n",
              "      <th></th>\n",
              "      <th>price</th>\n",
              "      <th>year</th>\n",
              "      <th>mileage</th>\n",
              "      <th>AGE_IN_YEARS</th>\n",
              "      <th>chevrolet</th>\n",
              "      <th>dodge</th>\n",
              "      <th>gmc</th>\n",
              "      <th>jeep</th>\n",
              "      <th>nissan</th>\n",
              "      <th>salvage insurance</th>\n",
              "      <th>black</th>\n",
              "      <th>blue</th>\n",
              "      <th>gray</th>\n",
              "      <th>no_color</th>\n",
              "      <th>silver</th>\n",
              "      <th>white</th>\n",
              "      <th>Goa</th>\n",
              "      <th>MP</th>\n",
              "      <th>Maharashtra</th>\n",
              "      <th>UP</th>\n",
              "      <th>black</th>\n",
              "      <th>blue</th>\n",
              "      <th>gray</th>\n",
              "      <th>no_color</th>\n",
              "      <th>red</th>\n",
              "      <th>silver</th>\n",
              "    </tr>\n",
              "  </thead>\n",
              "  <tbody>\n",
              "    <tr>\n",
              "      <th>0</th>\n",
              "      <td>0.0</td>\n",
              "      <td>2011</td>\n",
              "      <td>190552.0</td>\n",
              "      <td>3</td>\n",
              "      <td>0</td>\n",
              "      <td>0</td>\n",
              "      <td>0</td>\n",
              "      <td>0</td>\n",
              "      <td>0</td>\n",
              "      <td>0</td>\n",
              "      <td>0</td>\n",
              "      <td>0</td>\n",
              "      <td>0</td>\n",
              "      <td>0</td>\n",
              "      <td>1</td>\n",
              "      <td>0</td>\n",
              "      <td>0</td>\n",
              "      <td>0</td>\n",
              "      <td>0</td>\n",
              "      <td>1</td>\n",
              "      <td>0</td>\n",
              "      <td>0</td>\n",
              "      <td>0</td>\n",
              "      <td>0</td>\n",
              "      <td>0</td>\n",
              "      <td>1</td>\n",
              "    </tr>\n",
              "    <tr>\n",
              "      <th>1</th>\n",
              "      <td>0.0</td>\n",
              "      <td>2018</td>\n",
              "      <td>39590.0</td>\n",
              "      <td>2</td>\n",
              "      <td>0</td>\n",
              "      <td>1</td>\n",
              "      <td>0</td>\n",
              "      <td>0</td>\n",
              "      <td>0</td>\n",
              "      <td>0</td>\n",
              "      <td>0</td>\n",
              "      <td>0</td>\n",
              "      <td>0</td>\n",
              "      <td>0</td>\n",
              "      <td>1</td>\n",
              "      <td>0</td>\n",
              "      <td>0</td>\n",
              "      <td>1</td>\n",
              "      <td>0</td>\n",
              "      <td>0</td>\n",
              "      <td>0</td>\n",
              "      <td>0</td>\n",
              "      <td>0</td>\n",
              "      <td>0</td>\n",
              "      <td>0</td>\n",
              "      <td>1</td>\n",
              "    </tr>\n",
              "    <tr>\n",
              "      <th>2</th>\n",
              "      <td>1.0</td>\n",
              "      <td>2014</td>\n",
              "      <td>64146.0</td>\n",
              "      <td>2</td>\n",
              "      <td>0</td>\n",
              "      <td>0</td>\n",
              "      <td>0</td>\n",
              "      <td>0</td>\n",
              "      <td>0</td>\n",
              "      <td>0</td>\n",
              "      <td>0</td>\n",
              "      <td>1</td>\n",
              "      <td>0</td>\n",
              "      <td>0</td>\n",
              "      <td>0</td>\n",
              "      <td>0</td>\n",
              "      <td>0</td>\n",
              "      <td>0</td>\n",
              "      <td>0</td>\n",
              "      <td>1</td>\n",
              "      <td>0</td>\n",
              "      <td>1</td>\n",
              "      <td>0</td>\n",
              "      <td>0</td>\n",
              "      <td>0</td>\n",
              "      <td>0</td>\n",
              "    </tr>\n",
              "    <tr>\n",
              "      <th>3</th>\n",
              "      <td>1.0</td>\n",
              "      <td>2018</td>\n",
              "      <td>6654.0</td>\n",
              "      <td>3</td>\n",
              "      <td>1</td>\n",
              "      <td>0</td>\n",
              "      <td>0</td>\n",
              "      <td>0</td>\n",
              "      <td>0</td>\n",
              "      <td>0</td>\n",
              "      <td>0</td>\n",
              "      <td>0</td>\n",
              "      <td>0</td>\n",
              "      <td>0</td>\n",
              "      <td>0</td>\n",
              "      <td>0</td>\n",
              "      <td>0</td>\n",
              "      <td>0</td>\n",
              "      <td>1</td>\n",
              "      <td>0</td>\n",
              "      <td>0</td>\n",
              "      <td>0</td>\n",
              "      <td>0</td>\n",
              "      <td>0</td>\n",
              "      <td>1</td>\n",
              "      <td>0</td>\n",
              "    </tr>\n",
              "    <tr>\n",
              "      <th>4</th>\n",
              "      <td>0.0</td>\n",
              "      <td>2018</td>\n",
              "      <td>45561.0</td>\n",
              "      <td>1</td>\n",
              "      <td>0</td>\n",
              "      <td>1</td>\n",
              "      <td>0</td>\n",
              "      <td>0</td>\n",
              "      <td>0</td>\n",
              "      <td>0</td>\n",
              "      <td>0</td>\n",
              "      <td>0</td>\n",
              "      <td>0</td>\n",
              "      <td>0</td>\n",
              "      <td>0</td>\n",
              "      <td>1</td>\n",
              "      <td>0</td>\n",
              "      <td>0</td>\n",
              "      <td>0</td>\n",
              "      <td>1</td>\n",
              "      <td>0</td>\n",
              "      <td>0</td>\n",
              "      <td>0</td>\n",
              "      <td>0</td>\n",
              "      <td>0</td>\n",
              "      <td>0</td>\n",
              "    </tr>\n",
              "  </tbody>\n",
              "</table>\n",
              "</div>"
            ],
            "text/plain": [
              "   price  year   mileage  AGE_IN_YEARS  ...  gray  no_color  red  silver\n",
              "0    0.0  2011  190552.0             3  ...     0         0    0       1\n",
              "1    0.0  2018   39590.0             2  ...     0         0    0       1\n",
              "2    1.0  2014   64146.0             2  ...     0         0    0       0\n",
              "3    1.0  2018    6654.0             3  ...     0         0    1       0\n",
              "4    0.0  2018   45561.0             1  ...     0         0    0       0\n",
              "\n",
              "[5 rows x 26 columns]"
            ]
          },
          "metadata": {
            "tags": []
          },
          "execution_count": 24
        }
      ]
    },
    {
      "cell_type": "code",
      "metadata": {
        "colab_type": "code",
        "id": "no82fZ4Y9jVf",
        "colab": {}
      },
      "source": [
        "X_train,X_test,y_train,y_test = tts(data.drop('price',axis = 1),data['price'],test_size = 0.2,random_state = 1)"
      ],
      "execution_count": 0,
      "outputs": []
    },
    {
      "cell_type": "code",
      "metadata": {
        "colab_type": "code",
        "id": "CWKZZWms9jVh",
        "colab": {}
      },
      "source": [
        "from sklearn.linear_model import LogisticRegression\n",
        "from sklearn.svm import SVC\n",
        "from sklearn.tree import DecisionTreeClassifier\n",
        "from sklearn.ensemble import RandomForestClassifier\n",
        "from sklearn.metrics import confusion_matrix"
      ],
      "execution_count": 0,
      "outputs": []
    },
    {
      "cell_type": "code",
      "metadata": {
        "colab_type": "code",
        "id": "mWkYGoJZ9jVj",
        "colab": {
          "base_uri": "https://localhost:8080/",
          "height": 102
        },
        "outputId": "b60a46ff-3d00-4ccf-aa8c-2a9c4f6f3c40"
      },
      "source": [
        "# INITIALIZE Logistic Regression BY TAKING solver as 'lbfgs', max_iter as 2000, C as 0.5 \n",
        "# and penalty as 'l2' and random_state as 1 \n",
        "# FIT Logistic Regression ON TRAINING DATA\n",
        "# CODE TO FIND THE TPR, FPR, SENSTIVITY, SPECIFICITY, ACCURACY FOR LOGISTIC REGRESSION\n",
        "# USING THE IMPORTED CONFUSION MATRIX\n",
        "\n",
        "lgr_model = LogisticRegression(solver = 'lbfgs', max_iter = 2000, C = 0.5, penalty = 'l2', random_state = 1)\n",
        "lgr_model.fit(X_train, y_train)"
      ],
      "execution_count": 27,
      "outputs": [
        {
          "output_type": "execute_result",
          "data": {
            "text/plain": [
              "LogisticRegression(C=0.5, class_weight=None, dual=False, fit_intercept=True,\n",
              "                   intercept_scaling=1, l1_ratio=None, max_iter=2000,\n",
              "                   multi_class='auto', n_jobs=None, penalty='l2',\n",
              "                   random_state=1, solver='lbfgs', tol=0.0001, verbose=0,\n",
              "                   warm_start=False)"
            ]
          },
          "metadata": {
            "tags": []
          },
          "execution_count": 27
        }
      ]
    },
    {
      "cell_type": "code",
      "metadata": {
        "colab_type": "code",
        "id": "ueJHYZ34-zL8",
        "colab": {
          "base_uri": "https://localhost:8080/",
          "height": 34
        },
        "outputId": "523e8044-7caf-4e45-c300-3d9520f04d8d"
      },
      "source": [
        "lgr_model.score(X_test, y_test)  #accuracy"
      ],
      "execution_count": 28,
      "outputs": [
        {
          "output_type": "execute_result",
          "data": {
            "text/plain": [
              "0.7215777262180975"
            ]
          },
          "metadata": {
            "tags": []
          },
          "execution_count": 28
        }
      ]
    },
    {
      "cell_type": "code",
      "metadata": {
        "id": "Jo8qYlf4-zMK",
        "colab_type": "code",
        "colab": {}
      },
      "source": [
        "y_pred = lgr_model.predict(X_test)"
      ],
      "execution_count": 0,
      "outputs": []
    },
    {
      "cell_type": "code",
      "metadata": {
        "id": "Cu-qg8Ex-zMQ",
        "colab_type": "code",
        "colab": {
          "base_uri": "https://localhost:8080/",
          "height": 68
        },
        "outputId": "26b32298-a5d0-43e7-e4bb-c161a2ce482d"
      },
      "source": [
        "results = confusion_matrix(y_train, lgr_model.predict(X_train))\n",
        "print ('Train Confusion Matrix :')\n",
        "print(results)"
      ],
      "execution_count": 30,
      "outputs": [
        {
          "output_type": "stream",
          "text": [
            "Train Confusion Matrix :\n",
            "[[782 231]\n",
            " [248 461]]\n"
          ],
          "name": "stdout"
        }
      ]
    },
    {
      "cell_type": "code",
      "metadata": {
        "id": "kM2akDve-zMr",
        "colab_type": "code",
        "colab": {
          "base_uri": "https://localhost:8080/",
          "height": 34
        },
        "outputId": "9876565b-c51d-443d-a936-904aa1ea8e74"
      },
      "source": [
        "print('for training')\n",
        "tn, fp, fn, tp = confusion_matrix(y_train, lgr_model.predict(X_train)).ravel()"
      ],
      "execution_count": 31,
      "outputs": [
        {
          "output_type": "stream",
          "text": [
            "for training\n"
          ],
          "name": "stdout"
        }
      ]
    },
    {
      "cell_type": "code",
      "metadata": {
        "id": "jnCkpp2R-zMy",
        "colab_type": "code",
        "colab": {
          "base_uri": "https://localhost:8080/",
          "height": 85
        },
        "outputId": "78b02c19-ddf6-421d-b6b6-4c71b9e5bd82"
      },
      "source": [
        "print('for training')\n",
        "# also called sensitivity\n",
        "tpr = tp/(tp+fn)\n",
        "print('TPR: ', tpr)\n",
        "\n",
        "# also called fall out\n",
        "fpr = fp/(fp+tn)\n",
        "print('FPR: ',fpr)\n",
        "\n",
        "accuracy = (tp + tn) / (tp + tn + fp + fn)\n",
        "print('ACCURACY: ',accuracy)"
      ],
      "execution_count": 32,
      "outputs": [
        {
          "output_type": "stream",
          "text": [
            "for training\n",
            "TPR:  0.6502115655853314\n",
            "FPR:  0.228035538005923\n",
            "ACCURACY:  0.721835075493612\n"
          ],
          "name": "stdout"
        }
      ]
    },
    {
      "cell_type": "code",
      "metadata": {
        "id": "BLAy9KMM-zM6",
        "colab_type": "code",
        "colab": {
          "base_uri": "https://localhost:8080/",
          "height": 68
        },
        "outputId": "0cec07df-4a01-4b28-825e-d785be5c4d79"
      },
      "source": [
        "results = confusion_matrix(y_test, y_pred)\n",
        "print ('Test Confusion Matrix :')\n",
        "print(results)"
      ],
      "execution_count": 33,
      "outputs": [
        {
          "output_type": "stream",
          "text": [
            "Test Confusion Matrix :\n",
            "[[188  55]\n",
            " [ 65 123]]\n"
          ],
          "name": "stdout"
        }
      ]
    },
    {
      "cell_type": "code",
      "metadata": {
        "id": "qL3WSdtQ-zNH",
        "colab_type": "code",
        "colab": {
          "base_uri": "https://localhost:8080/",
          "height": 34
        },
        "outputId": "015037cb-eedc-4b88-9ce9-49932e867182"
      },
      "source": [
        "print('for testing')\n",
        "tn, fp, fn, tp = confusion_matrix(y_test, lgr_model.predict(X_test)).ravel()"
      ],
      "execution_count": 34,
      "outputs": [
        {
          "output_type": "stream",
          "text": [
            "for testing\n"
          ],
          "name": "stdout"
        }
      ]
    },
    {
      "cell_type": "code",
      "metadata": {
        "id": "5NYFC_Am-zNQ",
        "colab_type": "code",
        "colab": {
          "base_uri": "https://localhost:8080/",
          "height": 102
        },
        "outputId": "9ec78c66-8ba1-44c2-8182-c34c7b2e7643"
      },
      "source": [
        "print('for testing')\n",
        "# also called sensitivity\n",
        "tpr = tp/(tp+fn)\n",
        "print('tpr: ', tpr)\n",
        "\n",
        "# also called fall out\n",
        "fpr = fp/(fp+tn)\n",
        "print('fpr: ',fpr)\n",
        "\n",
        "accuracy = (tp + tn) / (tp + tn + fp + fn)\n",
        "print('accuracy: ',accuracy)\n",
        "\n",
        "tnr = tn/(tn+fp)\n",
        "print('tnr: ',tnr)"
      ],
      "execution_count": 35,
      "outputs": [
        {
          "output_type": "stream",
          "text": [
            "for testing\n",
            "tpr:  0.6542553191489362\n",
            "fpr:  0.22633744855967078\n",
            "accuracy:  0.7215777262180975\n",
            "tnr:  0.7736625514403292\n"
          ],
          "name": "stdout"
        }
      ]
    },
    {
      "cell_type": "code",
      "metadata": {
        "id": "kqHPrelz-zOn",
        "colab_type": "code",
        "colab": {}
      },
      "source": [
        ""
      ],
      "execution_count": 0,
      "outputs": []
    },
    {
      "cell_type": "markdown",
      "metadata": {
        "id": "_aogIlvG-zOx",
        "colab_type": "text"
      },
      "source": [
        "### Some points to remember"
      ]
    },
    {
      "cell_type": "markdown",
      "metadata": {
        "id": "v33Jjjbc-zOy",
        "colab_type": "text"
      },
      "source": [
        "sensitivity, recall, hit rate, or true positive rate (TPR) all are same"
      ]
    },
    {
      "cell_type": "markdown",
      "metadata": {
        "id": "vb0ykJQn-zOz",
        "colab_type": "text"
      },
      "source": [
        "specificity, selectivity or true negative rate (TNR) all are same"
      ]
    },
    {
      "cell_type": "markdown",
      "metadata": {
        "id": "WpceBIfv-zO0",
        "colab_type": "text"
      },
      "source": [
        "precision or positive predictive value (PPV) are same"
      ]
    },
    {
      "cell_type": "markdown",
      "metadata": {
        "id": "le_t61Rg-zO1",
        "colab_type": "text"
      },
      "source": [
        "miss rate or false negative rate (FNR) are same"
      ]
    },
    {
      "cell_type": "markdown",
      "metadata": {
        "id": "FgDOJ5_c-zO2",
        "colab_type": "text"
      },
      "source": [
        "fall-out or false positive rate (FPR) are same"
      ]
    },
    {
      "cell_type": "code",
      "metadata": {
        "id": "e92UMJ8R-zO2",
        "colab_type": "code",
        "colab": {}
      },
      "source": [
        "# let's check them with inbuilt functions"
      ],
      "execution_count": 0,
      "outputs": []
    },
    {
      "cell_type": "code",
      "metadata": {
        "id": "_yJRCR41-zPA",
        "colab_type": "code",
        "colab": {}
      },
      "source": [
        "from sklearn.metrics import accuracy_score\n",
        "from sklearn.metrics import classification_report"
      ],
      "execution_count": 0,
      "outputs": []
    },
    {
      "cell_type": "code",
      "metadata": {
        "id": "1ZtrRaT8-zPJ",
        "colab_type": "code",
        "colab": {
          "base_uri": "https://localhost:8080/",
          "height": 204
        },
        "outputId": "f4a7d782-acee-4ef5-da22-d319b690fc6c"
      },
      "source": [
        "print ('Accuracy Score :',accuracy_score(y_test, y_pred))\n",
        "print('Classification Report : ')\n",
        "print (classification_report(y_test, y_pred))"
      ],
      "execution_count": 38,
      "outputs": [
        {
          "output_type": "stream",
          "text": [
            "Accuracy Score : 0.7215777262180975\n",
            "Classification Report : \n",
            "              precision    recall  f1-score   support\n",
            "\n",
            "         0.0       0.74      0.77      0.76       243\n",
            "         1.0       0.69      0.65      0.67       188\n",
            "\n",
            "    accuracy                           0.72       431\n",
            "   macro avg       0.72      0.71      0.72       431\n",
            "weighted avg       0.72      0.72      0.72       431\n",
            "\n"
          ],
          "name": "stdout"
        }
      ]
    },
    {
      "cell_type": "code",
      "metadata": {
        "id": "OMcZnfOc-zPW",
        "colab_type": "code",
        "colab": {}
      },
      "source": [
        ""
      ],
      "execution_count": 0,
      "outputs": []
    },
    {
      "cell_type": "code",
      "metadata": {
        "id": "ZR2nQGFe-zPg",
        "colab_type": "code",
        "colab": {}
      },
      "source": [
        ""
      ],
      "execution_count": 0,
      "outputs": []
    },
    {
      "cell_type": "code",
      "metadata": {
        "colab_type": "code",
        "id": "wGv7G_Q29jVl",
        "colab": {
          "base_uri": "https://localhost:8080/",
          "height": 85
        },
        "outputId": "ed5a5547-d67e-49a1-c1d7-96d0962b7030"
      },
      "source": [
        "# INITIALIZE SVM BY TAKING kernal as 'rbf', max_iter as 1000 and random_state as 1 and gamma as scale\n",
        "# FIT SVM ON TRAINING DATA\n",
        "# CODE TO FIND THE TPR, FPR, SENSTIVITY, SPECIFICITY, ACCURACY FOR SVM\n",
        "# USING THE IMPORTED CONFUSION MATRIX\n",
        "\n",
        "# START CODE\n",
        "svc_model = SVC(kernel = 'rbf', max_iter = 1000, random_state = 1, gamma = 'scale')\n",
        "# END CODE\n",
        "svc_model.fit(X_train, y_train)"
      ],
      "execution_count": 39,
      "outputs": [
        {
          "output_type": "execute_result",
          "data": {
            "text/plain": [
              "SVC(C=1.0, break_ties=False, cache_size=200, class_weight=None, coef0=0.0,\n",
              "    decision_function_shape='ovr', degree=3, gamma='scale', kernel='rbf',\n",
              "    max_iter=1000, probability=False, random_state=1, shrinking=True, tol=0.001,\n",
              "    verbose=False)"
            ]
          },
          "metadata": {
            "tags": []
          },
          "execution_count": 39
        }
      ]
    },
    {
      "cell_type": "code",
      "metadata": {
        "id": "3R4Cp34J-zPz",
        "colab_type": "code",
        "colab": {}
      },
      "source": [
        "y_pred = svc_model.predict(X_test)"
      ],
      "execution_count": 0,
      "outputs": []
    },
    {
      "cell_type": "code",
      "metadata": {
        "id": "EjBLji95-zP3",
        "colab_type": "code",
        "colab": {
          "base_uri": "https://localhost:8080/",
          "height": 34
        },
        "outputId": "e7485400-08db-4494-da17-64b8c72a3692"
      },
      "source": [
        "svc_model.score(X_test, y_test)"
      ],
      "execution_count": 41,
      "outputs": [
        {
          "output_type": "execute_result",
          "data": {
            "text/plain": [
              "0.7192575406032483"
            ]
          },
          "metadata": {
            "tags": []
          },
          "execution_count": 41
        }
      ]
    },
    {
      "cell_type": "code",
      "metadata": {
        "scrolled": true,
        "id": "Mz__-vPR-zQB",
        "colab_type": "code",
        "colab": {
          "base_uri": "https://localhost:8080/",
          "height": 68
        },
        "outputId": "8a861484-61ff-4325-fe4e-bfac00b6fc84"
      },
      "source": [
        "results = confusion_matrix(y_train, svc_model.predict(X_train))\n",
        "print ('Train Confusion Matrix :')\n",
        "print(results)"
      ],
      "execution_count": 42,
      "outputs": [
        {
          "output_type": "stream",
          "text": [
            "Train Confusion Matrix :\n",
            "[[862 151]\n",
            " [350 359]]\n"
          ],
          "name": "stdout"
        }
      ]
    },
    {
      "cell_type": "code",
      "metadata": {
        "id": "DyMS7WzL-zQS",
        "colab_type": "code",
        "colab": {
          "base_uri": "https://localhost:8080/",
          "height": 34
        },
        "outputId": "f260fb50-87eb-48b7-9bba-470c21a37467"
      },
      "source": [
        "print('for training')\n",
        "tn, fp, fn, tp = confusion_matrix(y_train, svc_model.predict(X_train)).ravel()"
      ],
      "execution_count": 43,
      "outputs": [
        {
          "output_type": "stream",
          "text": [
            "for training\n"
          ],
          "name": "stdout"
        }
      ]
    },
    {
      "cell_type": "code",
      "metadata": {
        "id": "cb4_ovUs-zQb",
        "colab_type": "code",
        "colab": {
          "base_uri": "https://localhost:8080/",
          "height": 85
        },
        "outputId": "37ef934e-c939-4dc2-e7a8-f74c27fdda2e"
      },
      "source": [
        "print('for training')\n",
        "# also called sensitivity\n",
        "tpr = tp/(tp+fn)\n",
        "print('TPR: ', tpr)\n",
        "\n",
        "# also called fall out\n",
        "fpr = fp/(fp+tn)\n",
        "print('FPR: ',fpr)\n",
        "\n",
        "accuracy = (tp + tn) / (tp + tn + fp + fn)\n",
        "print('ACCURACY: ',accuracy)"
      ],
      "execution_count": 44,
      "outputs": [
        {
          "output_type": "stream",
          "text": [
            "for training\n",
            "TPR:  0.5063469675599436\n",
            "FPR:  0.14906219151036526\n",
            "ACCURACY:  0.7090592334494773\n"
          ],
          "name": "stdout"
        }
      ]
    },
    {
      "cell_type": "code",
      "metadata": {
        "scrolled": true,
        "id": "ND470t2U-zRD",
        "colab_type": "code",
        "colab": {
          "base_uri": "https://localhost:8080/",
          "height": 68
        },
        "outputId": "a5e8e603-2108-4684-f500-51557fe5ac54"
      },
      "source": [
        "results = confusion_matrix(y_test, y_pred)\n",
        "print ('Test Confusion Matrix :')\n",
        "print(results)"
      ],
      "execution_count": 45,
      "outputs": [
        {
          "output_type": "stream",
          "text": [
            "Test Confusion Matrix :\n",
            "[[209  34]\n",
            " [ 87 101]]\n"
          ],
          "name": "stdout"
        }
      ]
    },
    {
      "cell_type": "code",
      "metadata": {
        "id": "qxJnWJJy-zRN",
        "colab_type": "code",
        "colab": {
          "base_uri": "https://localhost:8080/",
          "height": 34
        },
        "outputId": "68ff218f-d52e-494c-a6db-668b10c11289"
      },
      "source": [
        "print('for testing')\n",
        "tn, fp, fn, tp = confusion_matrix(y_test, svc_model.predict(X_test)).ravel()"
      ],
      "execution_count": 46,
      "outputs": [
        {
          "output_type": "stream",
          "text": [
            "for testing\n"
          ],
          "name": "stdout"
        }
      ]
    },
    {
      "cell_type": "code",
      "metadata": {
        "id": "YpvtcMq8-zRY",
        "colab_type": "code",
        "colab": {
          "base_uri": "https://localhost:8080/",
          "height": 102
        },
        "outputId": "e7029030-1ed4-4d69-e1bb-407951025d6f"
      },
      "source": [
        "print('for testing')\n",
        "# also called sensitivity\n",
        "tpr = tp/(tp+fn)\n",
        "print('tpr: ', tpr)\n",
        "\n",
        "# also called fall out\n",
        "fpr = fp/(fp+tn)\n",
        "print('fpr: ',fpr)\n",
        "\n",
        "accuracy = (tp + tn) / (tp + tn + fp + fn)\n",
        "print('accuracy: ',accuracy)\n",
        "\n",
        "#specificity, selectivity or true negative rate\n",
        "tnr = tn/(tn+fp)\n",
        "print('tnr: ',tnr)"
      ],
      "execution_count": 47,
      "outputs": [
        {
          "output_type": "stream",
          "text": [
            "for testing\n",
            "tpr:  0.5372340425531915\n",
            "fpr:  0.13991769547325103\n",
            "accuracy:  0.7192575406032483\n",
            "tnr:  0.8600823045267489\n"
          ],
          "name": "stdout"
        }
      ]
    },
    {
      "cell_type": "code",
      "metadata": {
        "id": "QZb0l4Be-zRk",
        "colab_type": "code",
        "colab": {}
      },
      "source": [
        ""
      ],
      "execution_count": 0,
      "outputs": []
    },
    {
      "cell_type": "code",
      "metadata": {
        "colab_type": "code",
        "id": "y8OSZT7q9jVn",
        "scrolled": true,
        "colab": {
          "base_uri": "https://localhost:8080/",
          "height": 119
        },
        "outputId": "0a878335-79f6-42f2-c452-3281bc637ca2"
      },
      "source": [
        "\n",
        "# INITIALIZE DECISION TREE CLASSIFIER BY TAKING criterion as 'gini' , max_depth as 3, and random_state as 1\n",
        "# FIT Decision Tree ON TRAINING DATA\n",
        "# CODE TO FIND THE TPR, FPR, SENSTIVITY, SPECIFICITY, ACCURACY FOR Decision Tree\n",
        "# USING THE IMPORTED CONFUSION MATRIX\n",
        "\n",
        "dtc_model = DecisionTreeClassifier(criterion = 'gini', max_depth = 3, random_state = 1)\n",
        "dtc_model.fit(X_test, y_test)"
      ],
      "execution_count": 48,
      "outputs": [
        {
          "output_type": "execute_result",
          "data": {
            "text/plain": [
              "DecisionTreeClassifier(ccp_alpha=0.0, class_weight=None, criterion='gini',\n",
              "                       max_depth=3, max_features=None, max_leaf_nodes=None,\n",
              "                       min_impurity_decrease=0.0, min_impurity_split=None,\n",
              "                       min_samples_leaf=1, min_samples_split=2,\n",
              "                       min_weight_fraction_leaf=0.0, presort='deprecated',\n",
              "                       random_state=1, splitter='best')"
            ]
          },
          "metadata": {
            "tags": []
          },
          "execution_count": 48
        }
      ]
    },
    {
      "cell_type": "code",
      "metadata": {
        "id": "v2j3sPPI-zSG",
        "colab_type": "code",
        "colab": {
          "base_uri": "https://localhost:8080/",
          "height": 34
        },
        "outputId": "f1c5582e-8a10-4f97-9cbe-82f4c0de19f6"
      },
      "source": [
        "dtc_model.score(X_test, y_test)"
      ],
      "execution_count": 49,
      "outputs": [
        {
          "output_type": "execute_result",
          "data": {
            "text/plain": [
              "0.7540603248259861"
            ]
          },
          "metadata": {
            "tags": []
          },
          "execution_count": 49
        }
      ]
    },
    {
      "cell_type": "code",
      "metadata": {
        "id": "yTzob4b_-zSW",
        "colab_type": "code",
        "colab": {}
      },
      "source": [
        "y_pred = dtc_model.predict(X_test)"
      ],
      "execution_count": 0,
      "outputs": []
    },
    {
      "cell_type": "code",
      "metadata": {
        "scrolled": true,
        "id": "FIxL8_it-zSb",
        "colab_type": "code",
        "colab": {
          "base_uri": "https://localhost:8080/",
          "height": 68
        },
        "outputId": "631986dc-14ad-4823-c08b-9c15aeeb415b"
      },
      "source": [
        "results = confusion_matrix(y_train, dtc_model.predict(X_train))\n",
        "print ('Train Confusion Matrix :')\n",
        "print(results)"
      ],
      "execution_count": 51,
      "outputs": [
        {
          "output_type": "stream",
          "text": [
            "Train Confusion Matrix :\n",
            "[[864 149]\n",
            " [343 366]]\n"
          ],
          "name": "stdout"
        }
      ]
    },
    {
      "cell_type": "code",
      "metadata": {
        "id": "5FDpPAgn-zSk",
        "colab_type": "code",
        "colab": {
          "base_uri": "https://localhost:8080/",
          "height": 34
        },
        "outputId": "d0df2ebf-d36f-44fc-97f6-6c7d9270304e"
      },
      "source": [
        "print('for training')\n",
        "tn, fp, fn, tp = confusion_matrix(y_train, dtc_model.predict(X_train)).ravel()"
      ],
      "execution_count": 52,
      "outputs": [
        {
          "output_type": "stream",
          "text": [
            "for training\n"
          ],
          "name": "stdout"
        }
      ]
    },
    {
      "cell_type": "code",
      "metadata": {
        "id": "olYTKYvA-zS1",
        "colab_type": "code",
        "colab": {
          "base_uri": "https://localhost:8080/",
          "height": 102
        },
        "outputId": "53f6a648-dc52-4ad6-89af-783153e18360"
      },
      "source": [
        "print('for training')\n",
        "# also called sensitivity\n",
        "tpr = tp/(tp+fn)\n",
        "print('TPR: ', tpr)\n",
        "\n",
        "# also called fall out\n",
        "fpr = fp/(fp+tn)\n",
        "print('FPR: ',fpr)\n",
        "\n",
        "accuracy = (tp + tn) / (tp + tn + fp + fn)\n",
        "print('ACCURACY: ',accuracy)\n",
        "\n",
        "#specificity, selectivity or true negative rate\n",
        "tnr = tn/(tn+fp)\n",
        "print('tnr: ',tnr)"
      ],
      "execution_count": 53,
      "outputs": [
        {
          "output_type": "stream",
          "text": [
            "for training\n",
            "TPR:  0.5162200282087447\n",
            "FPR:  0.14708785784797632\n",
            "ACCURACY:  0.7142857142857143\n",
            "tnr:  0.8529121421520237\n"
          ],
          "name": "stdout"
        }
      ]
    },
    {
      "cell_type": "code",
      "metadata": {
        "scrolled": true,
        "id": "hr8MOE1l-zS9",
        "colab_type": "code",
        "colab": {
          "base_uri": "https://localhost:8080/",
          "height": 68
        },
        "outputId": "ec27b8ee-5c14-43ce-d384-d4267d7ac653"
      },
      "source": [
        "results = confusion_matrix(y_test, y_pred)\n",
        "print ('Test Confusion Matrix :')\n",
        "print(results)"
      ],
      "execution_count": 54,
      "outputs": [
        {
          "output_type": "stream",
          "text": [
            "Test Confusion Matrix :\n",
            "[[217  26]\n",
            " [ 80 108]]\n"
          ],
          "name": "stdout"
        }
      ]
    },
    {
      "cell_type": "code",
      "metadata": {
        "id": "ScYGKlRL-zTF",
        "colab_type": "code",
        "colab": {
          "base_uri": "https://localhost:8080/",
          "height": 34
        },
        "outputId": "baa356c9-2453-402f-d325-9788966d1653"
      },
      "source": [
        "print('for testing')\n",
        "tn, fp, fn, tp = confusion_matrix(y_test, dtc_model.predict(X_test)).ravel()"
      ],
      "execution_count": 55,
      "outputs": [
        {
          "output_type": "stream",
          "text": [
            "for testing\n"
          ],
          "name": "stdout"
        }
      ]
    },
    {
      "cell_type": "code",
      "metadata": {
        "id": "Zr6tU-bK-zTK",
        "colab_type": "code",
        "colab": {
          "base_uri": "https://localhost:8080/",
          "height": 102
        },
        "outputId": "1ffd0db7-083c-4b04-ad45-16d79f50f7f3"
      },
      "source": [
        "print('for testing')\n",
        "# also called sensitivity\n",
        "tpr = tp/(tp+fn)\n",
        "print('tpr: ', tpr)\n",
        "\n",
        "# also called fall out\n",
        "fpr = fp/(fp+tn)\n",
        "print('fpr: ',fpr)\n",
        "\n",
        "accuracy = (tp + tn) / (tp + tn + fp + fn)\n",
        "print('accuracy: ',accuracy)\n",
        "\n",
        "#specificity, selectivity or true negative rate\n",
        "tnr = tn/(tn+fp)\n",
        "print('tnr: ',tnr)"
      ],
      "execution_count": 56,
      "outputs": [
        {
          "output_type": "stream",
          "text": [
            "for testing\n",
            "tpr:  0.574468085106383\n",
            "fpr:  0.10699588477366255\n",
            "accuracy:  0.7540603248259861\n",
            "tnr:  0.8930041152263375\n"
          ],
          "name": "stdout"
        }
      ]
    },
    {
      "cell_type": "code",
      "metadata": {
        "id": "M_2P2ag_-zTT",
        "colab_type": "code",
        "colab": {}
      },
      "source": [
        ""
      ],
      "execution_count": 0,
      "outputs": []
    },
    {
      "cell_type": "code",
      "metadata": {
        "id": "WoXp5jDt-zTY",
        "colab_type": "code",
        "colab": {}
      },
      "source": [
        ""
      ],
      "execution_count": 0,
      "outputs": []
    },
    {
      "cell_type": "code",
      "metadata": {
        "id": "cep7sI9T-zTc",
        "colab_type": "code",
        "colab": {
          "base_uri": "https://localhost:8080/",
          "height": 119
        },
        "outputId": "76cf6a99-1a7f-4b8f-ebd0-def0c8ad90a2"
      },
      "source": [
        "print(\"Decision Tree Training R2 score is \" + str(r2_score(np.square(y_train),np.square(dtc_model.predict(X_train)))))\n",
        "print(\"Decision Tree Testing R2 score is \" + str(r2_score(np.square(y_test),np.square(dtc_model.predict(X_test)))))\n",
        "\n",
        "print('Decision Tree Training mean_square_error is '\n",
        "      + str(mean_squared_error(np.square(y_train),np.square(dtc_model.predict(X_train)))))\n",
        "\n",
        "print('Decision Tree Testing mean_square_error is '\n",
        "      + str(mean_squared_error(np.square(y_test),np.square(dtc_model.predict(X_test)))))\n",
        "\n",
        "print('Decision Tree Training mean_absolute_error is '\n",
        "      + str(mean_absolute_error(np.square(y_train),np.square(dtc_model.predict(X_train)))))\n",
        "\n",
        "print('Decision Tree Testing mean_absolute_error is '\n",
        "      + str(mean_absolute_error(np.square(y_test),np.square(dtc_model.predict(X_test)))))\n"
      ],
      "execution_count": 57,
      "outputs": [
        {
          "output_type": "stream",
          "text": [
            "Decision Tree Training R2 score is -0.17962120083484545\n",
            "Decision Tree Testing R2 score is -4.3779003590094234e-05\n",
            "Decision Tree Training mean_square_error is 0.2857142857142857\n",
            "Decision Tree Testing mean_square_error is 0.2459396751740139\n",
            "Decision Tree Training mean_absolute_error is 0.2857142857142857\n",
            "Decision Tree Testing mean_absolute_error is 0.2459396751740139\n"
          ],
          "name": "stdout"
        }
      ]
    },
    {
      "cell_type": "code",
      "metadata": {
        "id": "vfwBawf9-zTr",
        "colab_type": "code",
        "colab": {}
      },
      "source": [
        ""
      ],
      "execution_count": 0,
      "outputs": []
    },
    {
      "cell_type": "code",
      "metadata": {
        "id": "kJ7U4ocw-zTv",
        "colab_type": "code",
        "colab": {}
      },
      "source": [
        ""
      ],
      "execution_count": 0,
      "outputs": []
    },
    {
      "cell_type": "code",
      "metadata": {
        "colab_type": "code",
        "id": "HZRx_Rez9jVq",
        "colab": {
          "base_uri": "https://localhost:8080/",
          "height": 153
        },
        "outputId": "6925492f-4f75-4fa8-8714-0372d41ca1ce"
      },
      "source": [
        "# INITIALIZE RANDOM FOREST CLASSIFIER BY TAKING no:of trees as 100 , max_depth as 3,criterion as 'gini' \n",
        "# and random_state as 1 \n",
        "# FIT RANDOM FOREST ON TRAINING DATA\n",
        "# CODE TO FIND THE TPR, FPR, SENSTIVITY, SPECIFICITY, ACCURACY FOR Random Forest\n",
        "# USING THE IMPORTED CONFUSION MATRIX\n",
        "\n",
        "rfc_model = RandomForestClassifier(n_estimators = 100, max_depth = 3, criterion = 'gini', random_state = 1)\n",
        "rfc_model.fit(X_train, y_train)"
      ],
      "execution_count": 58,
      "outputs": [
        {
          "output_type": "execute_result",
          "data": {
            "text/plain": [
              "RandomForestClassifier(bootstrap=True, ccp_alpha=0.0, class_weight=None,\n",
              "                       criterion='gini', max_depth=3, max_features='auto',\n",
              "                       max_leaf_nodes=None, max_samples=None,\n",
              "                       min_impurity_decrease=0.0, min_impurity_split=None,\n",
              "                       min_samples_leaf=1, min_samples_split=2,\n",
              "                       min_weight_fraction_leaf=0.0, n_estimators=100,\n",
              "                       n_jobs=None, oob_score=False, random_state=1, verbose=0,\n",
              "                       warm_start=False)"
            ]
          },
          "metadata": {
            "tags": []
          },
          "execution_count": 58
        }
      ]
    },
    {
      "cell_type": "code",
      "metadata": {
        "id": "0tigQ5W--zT5",
        "colab_type": "code",
        "colab": {}
      },
      "source": [
        "y_pred = rfc_model.predict(X_test)"
      ],
      "execution_count": 0,
      "outputs": []
    },
    {
      "cell_type": "code",
      "metadata": {
        "id": "bHIzxn2F-zT9",
        "colab_type": "code",
        "colab": {
          "base_uri": "https://localhost:8080/",
          "height": 34
        },
        "outputId": "155e2a1b-433a-4702-9cd9-5dbdb1380f2c"
      },
      "source": [
        "rfc_model.score(X_test, y_test)"
      ],
      "execution_count": 60,
      "outputs": [
        {
          "output_type": "execute_result",
          "data": {
            "text/plain": [
              "0.7424593967517401"
            ]
          },
          "metadata": {
            "tags": []
          },
          "execution_count": 60
        }
      ]
    },
    {
      "cell_type": "code",
      "metadata": {
        "scrolled": true,
        "id": "fTAVU3je-zUM",
        "colab_type": "code",
        "colab": {
          "base_uri": "https://localhost:8080/",
          "height": 68
        },
        "outputId": "449dddb8-dc89-479b-ec8b-954176c27ba7"
      },
      "source": [
        "results = confusion_matrix(y_train, rfc_model.predict(X_train))\n",
        "print ('Train Confusion Matrix :')\n",
        "print(results)"
      ],
      "execution_count": 61,
      "outputs": [
        {
          "output_type": "stream",
          "text": [
            "Train Confusion Matrix :\n",
            "[[891 122]\n",
            " [323 386]]\n"
          ],
          "name": "stdout"
        }
      ]
    },
    {
      "cell_type": "code",
      "metadata": {
        "id": "9lkGtAVa-zUa",
        "colab_type": "code",
        "colab": {
          "base_uri": "https://localhost:8080/",
          "height": 34
        },
        "outputId": "f2ba937e-97ae-48f7-8581-bed0fffd1203"
      },
      "source": [
        "print('for training')\n",
        "tn, fp, fn, tp = confusion_matrix(y_train, rfc_model.predict(X_train)).ravel()"
      ],
      "execution_count": 62,
      "outputs": [
        {
          "output_type": "stream",
          "text": [
            "for training\n"
          ],
          "name": "stdout"
        }
      ]
    },
    {
      "cell_type": "code",
      "metadata": {
        "id": "tauqwsZt-zUh",
        "colab_type": "code",
        "colab": {
          "base_uri": "https://localhost:8080/",
          "height": 85
        },
        "outputId": "19255a46-4cc3-46ab-ae14-7b9f34ef07b0"
      },
      "source": [
        "print('for training')\n",
        "# also called sensitivity\n",
        "tpr = tp/(tp+fn)\n",
        "print('TPR: ', tpr)\n",
        "\n",
        "# also called fall out\n",
        "fpr = fp/(fp+tn)\n",
        "print('FPR: ',fpr)\n",
        "\n",
        "accuracy = (tp + tn) / (tp + tn + fp + fn)\n",
        "print('ACCURACY: ',accuracy)"
      ],
      "execution_count": 63,
      "outputs": [
        {
          "output_type": "stream",
          "text": [
            "for training\n",
            "TPR:  0.5444287729196051\n",
            "FPR:  0.12043435340572557\n",
            "ACCURACY:  0.7415795586527294\n"
          ],
          "name": "stdout"
        }
      ]
    },
    {
      "cell_type": "code",
      "metadata": {
        "scrolled": true,
        "id": "Re674Zj--zVB",
        "colab_type": "code",
        "colab": {
          "base_uri": "https://localhost:8080/",
          "height": 68
        },
        "outputId": "d9afc75e-75df-473a-c39c-4e95996a3019"
      },
      "source": [
        "results = confusion_matrix(y_test, y_pred)\n",
        "print ('Test Confusion Matrix :')\n",
        "print(results)"
      ],
      "execution_count": 64,
      "outputs": [
        {
          "output_type": "stream",
          "text": [
            "Test Confusion Matrix :\n",
            "[[214  29]\n",
            " [ 82 106]]\n"
          ],
          "name": "stdout"
        }
      ]
    },
    {
      "cell_type": "code",
      "metadata": {
        "id": "EKnlQmUA-zVF",
        "colab_type": "code",
        "colab": {
          "base_uri": "https://localhost:8080/",
          "height": 34
        },
        "outputId": "d7c13974-7a0c-4bc9-bc8a-674e4bc1820d"
      },
      "source": [
        "print('for testing')\n",
        "tn, fp, fn, tp = confusion_matrix(y_test, rfc_model.predict(X_test)).ravel()"
      ],
      "execution_count": 65,
      "outputs": [
        {
          "output_type": "stream",
          "text": [
            "for testing\n"
          ],
          "name": "stdout"
        }
      ]
    },
    {
      "cell_type": "code",
      "metadata": {
        "id": "ubEUVk4S-zVO",
        "colab_type": "code",
        "colab": {
          "base_uri": "https://localhost:8080/",
          "height": 102
        },
        "outputId": "a51bf9ae-40a7-4d97-804b-8dc50c8184b6"
      },
      "source": [
        "print('for testing')\n",
        "# also called sensitivity\n",
        "tpr = tp/(tp+fn)\n",
        "print('tpr: ', tpr)\n",
        "\n",
        "# also called fall out\n",
        "fpr = fp/(fp+tn)\n",
        "print('fpr: ',fpr)\n",
        "\n",
        "accuracy = (tp + tn) / (tp + tn + fp + fn)\n",
        "print('accuracy: ',accuracy)\n",
        "\n",
        "tnr = tn/(tn+fp)\n",
        "print('tnr: ',tnr)"
      ],
      "execution_count": 66,
      "outputs": [
        {
          "output_type": "stream",
          "text": [
            "for testing\n",
            "tpr:  0.5638297872340425\n",
            "fpr:  0.11934156378600823\n",
            "accuracy:  0.7424593967517401\n",
            "tnr:  0.8806584362139918\n"
          ],
          "name": "stdout"
        }
      ]
    },
    {
      "cell_type": "code",
      "metadata": {
        "id": "Ms8aJDXb-zVS",
        "colab_type": "code",
        "colab": {}
      },
      "source": [
        ""
      ],
      "execution_count": 0,
      "outputs": []
    },
    {
      "cell_type": "code",
      "metadata": {
        "id": "7RUd_OmY-zVW",
        "colab_type": "code",
        "colab": {}
      },
      "source": [
        ""
      ],
      "execution_count": 0,
      "outputs": []
    },
    {
      "cell_type": "code",
      "metadata": {
        "id": "ubY4FBEF-zVt",
        "colab_type": "code",
        "colab": {
          "base_uri": "https://localhost:8080/",
          "height": 119
        },
        "outputId": "e495e065-8f45-4f3d-d4c3-f2193760e1b2"
      },
      "source": [
        "print(\"Random Forest Training R2 score is \" + str(r2_score(np.square(y_train),np.square(rfc_model.predict(X_train)))))\n",
        "print(\"Random Forest Testing R2 score is \" + str(r2_score(np.square(y_test),np.square(rfc_model.predict(X_test)))))\n",
        "\n",
        "print('Random Forest Training mean_square_error is '\n",
        "      + str(mean_squared_error(np.square(y_train),np.square(rfc_model.predict(X_train)))))\n",
        "\n",
        "print('Random Forest Testing mean_square_error is '\n",
        "      + str(mean_squared_error(np.square(y_test),np.square(rfc_model.predict(X_test)))))\n",
        "\n",
        "print('Random Forest Training mean_absolute_error is '\n",
        "      + str(mean_absolute_error(np.square(y_train),np.square(rfc_model.predict(X_train)))))\n",
        "\n",
        "print('Random Forest Testing mean_absolute_error is '\n",
        "      + str(mean_absolute_error(np.square(y_test),np.square(rfc_model.predict(X_test)))))\n"
      ],
      "execution_count": 67,
      "outputs": [
        {
          "output_type": "stream",
          "text": [
            "Random Forest Training R2 score is -0.0669338096981833\n",
            "Random Forest Testing R2 score is -0.04721565537168404\n",
            "Random Forest Training mean_square_error is 0.2584204413472706\n",
            "Random Forest Testing mean_square_error is 0.25754060324825984\n",
            "Random Forest Training mean_absolute_error is 0.2584204413472706\n",
            "Random Forest Testing mean_absolute_error is 0.25754060324825984\n"
          ],
          "name": "stdout"
        }
      ]
    },
    {
      "cell_type": "code",
      "metadata": {
        "id": "fveF4y1_-zV0",
        "colab_type": "code",
        "colab": {}
      },
      "source": [
        ""
      ],
      "execution_count": 0,
      "outputs": []
    }
  ]
}