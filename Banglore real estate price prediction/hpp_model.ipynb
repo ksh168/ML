{
  "nbformat": 4,
  "nbformat_minor": 0,
  "metadata": {
    "kernelspec": {
      "display_name": "Python 3",
      "language": "python",
      "name": "python3"
    },
    "language_info": {
      "codemirror_mode": {
        "name": "ipython",
        "version": 3
      },
      "file_extension": ".py",
      "mimetype": "text/x-python",
      "name": "python",
      "nbconvert_exporter": "python",
      "pygments_lexer": "ipython3",
      "version": "3.7.6"
    },
    "colab": {
      "name": "hpp_model.ipynb",
      "provenance": [],
      "collapsed_sections": []
    }
  },
  "cells": [
    {
      "cell_type": "code",
      "metadata": {
        "id": "tPOyMB9MARHR",
        "colab_type": "code",
        "colab": {}
      },
      "source": [
        "import pandas as pd\n",
        "import numpy as np\n",
        "import matplotlib\n",
        "from matplotlib import pyplot as plt\n",
        "%matplotlib inline\n",
        "matplotlib.rcParams['figure.figsize'] = (20,10)\n",
        "import math"
      ],
      "execution_count": 0,
      "outputs": []
    },
    {
      "cell_type": "code",
      "metadata": {
        "id": "cLYQirRA1Hym",
        "colab_type": "code",
        "outputId": "914543f0-f140-443a-8c0e-975e6e1e58df",
        "colab": {
          "base_uri": "https://localhost:8080/",
          "height": 122
        }
      },
      "source": [
        "from google.colab import drive\n",
        "drive.mount('/content/drive')"
      ],
      "execution_count": 2,
      "outputs": [
        {
          "output_type": "stream",
          "text": [
            "Go to this URL in a browser: https://accounts.google.com/o/oauth2/auth?client_id=947318989803-6bn6qk8qdgf4n4g3pfee6491hc0brc4i.apps.googleusercontent.com&redirect_uri=urn%3aietf%3awg%3aoauth%3a2.0%3aoob&response_type=code&scope=email%20https%3a%2f%2fwww.googleapis.com%2fauth%2fdocs.test%20https%3a%2f%2fwww.googleapis.com%2fauth%2fdrive%20https%3a%2f%2fwww.googleapis.com%2fauth%2fdrive.photos.readonly%20https%3a%2f%2fwww.googleapis.com%2fauth%2fpeopleapi.readonly\n",
            "\n",
            "Enter your authorization code:\n",
            "··········\n",
            "Mounted at /content/drive\n"
          ],
          "name": "stdout"
        }
      ]
    },
    {
      "cell_type": "code",
      "metadata": {
        "id": "sj8I5n4WARHW",
        "colab_type": "code",
        "outputId": "069b1cd2-db8f-4f45-9939-af53806e5dd8",
        "colab": {
          "base_uri": "https://localhost:8080/",
          "height": 204
        }
      },
      "source": [
        "df1 = pd.read_csv('/content/drive/My Drive/datasets/Bengaluru_House_Data.csv')\n",
        "df1.head()"
      ],
      "execution_count": 3,
      "outputs": [
        {
          "output_type": "execute_result",
          "data": {
            "text/html": [
              "<div>\n",
              "<style scoped>\n",
              "    .dataframe tbody tr th:only-of-type {\n",
              "        vertical-align: middle;\n",
              "    }\n",
              "\n",
              "    .dataframe tbody tr th {\n",
              "        vertical-align: top;\n",
              "    }\n",
              "\n",
              "    .dataframe thead th {\n",
              "        text-align: right;\n",
              "    }\n",
              "</style>\n",
              "<table border=\"1\" class=\"dataframe\">\n",
              "  <thead>\n",
              "    <tr style=\"text-align: right;\">\n",
              "      <th></th>\n",
              "      <th>area_type</th>\n",
              "      <th>availability</th>\n",
              "      <th>location</th>\n",
              "      <th>size</th>\n",
              "      <th>society</th>\n",
              "      <th>total_sqft</th>\n",
              "      <th>bath</th>\n",
              "      <th>balcony</th>\n",
              "      <th>price</th>\n",
              "    </tr>\n",
              "  </thead>\n",
              "  <tbody>\n",
              "    <tr>\n",
              "      <th>0</th>\n",
              "      <td>Super built-up  Area</td>\n",
              "      <td>19-Dec</td>\n",
              "      <td>Electronic City Phase II</td>\n",
              "      <td>2 BHK</td>\n",
              "      <td>Coomee</td>\n",
              "      <td>1056</td>\n",
              "      <td>2.0</td>\n",
              "      <td>1.0</td>\n",
              "      <td>39.07</td>\n",
              "    </tr>\n",
              "    <tr>\n",
              "      <th>1</th>\n",
              "      <td>Plot  Area</td>\n",
              "      <td>Ready To Move</td>\n",
              "      <td>Chikka Tirupathi</td>\n",
              "      <td>4 Bedroom</td>\n",
              "      <td>Theanmp</td>\n",
              "      <td>2600</td>\n",
              "      <td>5.0</td>\n",
              "      <td>3.0</td>\n",
              "      <td>120.00</td>\n",
              "    </tr>\n",
              "    <tr>\n",
              "      <th>2</th>\n",
              "      <td>Built-up  Area</td>\n",
              "      <td>Ready To Move</td>\n",
              "      <td>Uttarahalli</td>\n",
              "      <td>3 BHK</td>\n",
              "      <td>NaN</td>\n",
              "      <td>1440</td>\n",
              "      <td>2.0</td>\n",
              "      <td>3.0</td>\n",
              "      <td>62.00</td>\n",
              "    </tr>\n",
              "    <tr>\n",
              "      <th>3</th>\n",
              "      <td>Super built-up  Area</td>\n",
              "      <td>Ready To Move</td>\n",
              "      <td>Lingadheeranahalli</td>\n",
              "      <td>3 BHK</td>\n",
              "      <td>Soiewre</td>\n",
              "      <td>1521</td>\n",
              "      <td>3.0</td>\n",
              "      <td>1.0</td>\n",
              "      <td>95.00</td>\n",
              "    </tr>\n",
              "    <tr>\n",
              "      <th>4</th>\n",
              "      <td>Super built-up  Area</td>\n",
              "      <td>Ready To Move</td>\n",
              "      <td>Kothanur</td>\n",
              "      <td>2 BHK</td>\n",
              "      <td>NaN</td>\n",
              "      <td>1200</td>\n",
              "      <td>2.0</td>\n",
              "      <td>1.0</td>\n",
              "      <td>51.00</td>\n",
              "    </tr>\n",
              "  </tbody>\n",
              "</table>\n",
              "</div>"
            ],
            "text/plain": [
              "              area_type   availability  ... balcony   price\n",
              "0  Super built-up  Area         19-Dec  ...     1.0   39.07\n",
              "1            Plot  Area  Ready To Move  ...     3.0  120.00\n",
              "2        Built-up  Area  Ready To Move  ...     3.0   62.00\n",
              "3  Super built-up  Area  Ready To Move  ...     1.0   95.00\n",
              "4  Super built-up  Area  Ready To Move  ...     1.0   51.00\n",
              "\n",
              "[5 rows x 9 columns]"
            ]
          },
          "metadata": {
            "tags": []
          },
          "execution_count": 3
        }
      ]
    },
    {
      "cell_type": "code",
      "metadata": {
        "id": "FAKTcUonARHb",
        "colab_type": "code",
        "outputId": "ec9edd9c-0e04-49b1-fdae-6f7920b0946a",
        "colab": {
          "base_uri": "https://localhost:8080/",
          "height": 34
        }
      },
      "source": [
        "df1.shape"
      ],
      "execution_count": 4,
      "outputs": [
        {
          "output_type": "execute_result",
          "data": {
            "text/plain": [
              "(13320, 9)"
            ]
          },
          "metadata": {
            "tags": []
          },
          "execution_count": 4
        }
      ]
    },
    {
      "cell_type": "code",
      "metadata": {
        "id": "kXbTCE9qARHe",
        "colab_type": "code",
        "outputId": "d195f8be-9651-4ef7-9d4e-a366c85e7def",
        "colab": {
          "base_uri": "https://localhost:8080/",
          "height": 102
        }
      },
      "source": [
        "df1['area_type'].value_counts()"
      ],
      "execution_count": 5,
      "outputs": [
        {
          "output_type": "execute_result",
          "data": {
            "text/plain": [
              "Super built-up  Area    8790\n",
              "Built-up  Area          2418\n",
              "Plot  Area              2025\n",
              "Carpet  Area              87\n",
              "Name: area_type, dtype: int64"
            ]
          },
          "metadata": {
            "tags": []
          },
          "execution_count": 5
        }
      ]
    },
    {
      "cell_type": "code",
      "metadata": {
        "id": "nGlPuxgdARHi",
        "colab_type": "code",
        "outputId": "4ff5408d-898a-4610-f43f-242afc666591",
        "colab": {
          "base_uri": "https://localhost:8080/",
          "height": 119
        }
      },
      "source": [
        "# the above statement can also be written as \n",
        "df1.groupby('area_type')['area_type'].agg('count')"
      ],
      "execution_count": 6,
      "outputs": [
        {
          "output_type": "execute_result",
          "data": {
            "text/plain": [
              "area_type\n",
              "Built-up  Area          2418\n",
              "Carpet  Area              87\n",
              "Plot  Area              2025\n",
              "Super built-up  Area    8790\n",
              "Name: area_type, dtype: int64"
            ]
          },
          "metadata": {
            "tags": []
          },
          "execution_count": 6
        }
      ]
    },
    {
      "cell_type": "code",
      "metadata": {
        "id": "oMe9tPG9ARHl",
        "colab_type": "code",
        "outputId": "beb54697-1ba0-4aed-9603-cbcae692e0a9",
        "colab": {
          "base_uri": "https://localhost:8080/",
          "height": 204
        }
      },
      "source": [
        "df2 = df1.drop(['area_type', 'society', 'balcony', 'availability'],axis = 1)\n",
        "df2.head()"
      ],
      "execution_count": 7,
      "outputs": [
        {
          "output_type": "execute_result",
          "data": {
            "text/html": [
              "<div>\n",
              "<style scoped>\n",
              "    .dataframe tbody tr th:only-of-type {\n",
              "        vertical-align: middle;\n",
              "    }\n",
              "\n",
              "    .dataframe tbody tr th {\n",
              "        vertical-align: top;\n",
              "    }\n",
              "\n",
              "    .dataframe thead th {\n",
              "        text-align: right;\n",
              "    }\n",
              "</style>\n",
              "<table border=\"1\" class=\"dataframe\">\n",
              "  <thead>\n",
              "    <tr style=\"text-align: right;\">\n",
              "      <th></th>\n",
              "      <th>location</th>\n",
              "      <th>size</th>\n",
              "      <th>total_sqft</th>\n",
              "      <th>bath</th>\n",
              "      <th>price</th>\n",
              "    </tr>\n",
              "  </thead>\n",
              "  <tbody>\n",
              "    <tr>\n",
              "      <th>0</th>\n",
              "      <td>Electronic City Phase II</td>\n",
              "      <td>2 BHK</td>\n",
              "      <td>1056</td>\n",
              "      <td>2.0</td>\n",
              "      <td>39.07</td>\n",
              "    </tr>\n",
              "    <tr>\n",
              "      <th>1</th>\n",
              "      <td>Chikka Tirupathi</td>\n",
              "      <td>4 Bedroom</td>\n",
              "      <td>2600</td>\n",
              "      <td>5.0</td>\n",
              "      <td>120.00</td>\n",
              "    </tr>\n",
              "    <tr>\n",
              "      <th>2</th>\n",
              "      <td>Uttarahalli</td>\n",
              "      <td>3 BHK</td>\n",
              "      <td>1440</td>\n",
              "      <td>2.0</td>\n",
              "      <td>62.00</td>\n",
              "    </tr>\n",
              "    <tr>\n",
              "      <th>3</th>\n",
              "      <td>Lingadheeranahalli</td>\n",
              "      <td>3 BHK</td>\n",
              "      <td>1521</td>\n",
              "      <td>3.0</td>\n",
              "      <td>95.00</td>\n",
              "    </tr>\n",
              "    <tr>\n",
              "      <th>4</th>\n",
              "      <td>Kothanur</td>\n",
              "      <td>2 BHK</td>\n",
              "      <td>1200</td>\n",
              "      <td>2.0</td>\n",
              "      <td>51.00</td>\n",
              "    </tr>\n",
              "  </tbody>\n",
              "</table>\n",
              "</div>"
            ],
            "text/plain": [
              "                   location       size total_sqft  bath   price\n",
              "0  Electronic City Phase II      2 BHK       1056   2.0   39.07\n",
              "1          Chikka Tirupathi  4 Bedroom       2600   5.0  120.00\n",
              "2               Uttarahalli      3 BHK       1440   2.0   62.00\n",
              "3        Lingadheeranahalli      3 BHK       1521   3.0   95.00\n",
              "4                  Kothanur      2 BHK       1200   2.0   51.00"
            ]
          },
          "metadata": {
            "tags": []
          },
          "execution_count": 7
        }
      ]
    },
    {
      "cell_type": "code",
      "metadata": {
        "id": "a6d9pcfdARHo",
        "colab_type": "code",
        "outputId": "b2af9117-86ef-4383-928d-3120b785ff94",
        "colab": {
          "base_uri": "https://localhost:8080/",
          "height": 119
        }
      },
      "source": [
        "df2.isnull().sum()"
      ],
      "execution_count": 8,
      "outputs": [
        {
          "output_type": "execute_result",
          "data": {
            "text/plain": [
              "location       1\n",
              "size          16\n",
              "total_sqft     0\n",
              "bath          73\n",
              "price          0\n",
              "dtype: int64"
            ]
          },
          "metadata": {
            "tags": []
          },
          "execution_count": 8
        }
      ]
    },
    {
      "cell_type": "code",
      "metadata": {
        "id": "apOV_A3DARHs",
        "colab_type": "code",
        "outputId": "7c4a09af-86fe-4a90-82e8-0f82e10748b2",
        "colab": {
          "base_uri": "https://localhost:8080/",
          "height": 119
        }
      },
      "source": [
        "# drop na values because dataframe is big enough (alternatively we can replace the na values  by median)\n",
        "df3 = df2.dropna()\n",
        "df3.isnull().sum()"
      ],
      "execution_count": 9,
      "outputs": [
        {
          "output_type": "execute_result",
          "data": {
            "text/plain": [
              "location      0\n",
              "size          0\n",
              "total_sqft    0\n",
              "bath          0\n",
              "price         0\n",
              "dtype: int64"
            ]
          },
          "metadata": {
            "tags": []
          },
          "execution_count": 9
        }
      ]
    },
    {
      "cell_type": "code",
      "metadata": {
        "id": "wTYdupPYARHv",
        "colab_type": "code",
        "outputId": "2ca97d3f-1e33-46ae-d729-4a9d004a7f1a",
        "colab": {
          "base_uri": "https://localhost:8080/",
          "height": 34
        }
      },
      "source": [
        "df3.shape"
      ],
      "execution_count": 10,
      "outputs": [
        {
          "output_type": "execute_result",
          "data": {
            "text/plain": [
              "(13246, 5)"
            ]
          },
          "metadata": {
            "tags": []
          },
          "execution_count": 10
        }
      ]
    },
    {
      "cell_type": "code",
      "metadata": {
        "id": "Vh52iQnfARHx",
        "colab_type": "code",
        "outputId": "c6e7fbc9-a4a7-485c-eeae-2395764dc26c",
        "colab": {
          "base_uri": "https://localhost:8080/",
          "height": 119
        }
      },
      "source": [
        "df3['size'].unique()"
      ],
      "execution_count": 11,
      "outputs": [
        {
          "output_type": "execute_result",
          "data": {
            "text/plain": [
              "array(['2 BHK', '4 Bedroom', '3 BHK', '4 BHK', '6 Bedroom', '3 Bedroom',\n",
              "       '1 BHK', '1 RK', '1 Bedroom', '8 Bedroom', '2 Bedroom',\n",
              "       '7 Bedroom', '5 BHK', '7 BHK', '6 BHK', '5 Bedroom', '11 BHK',\n",
              "       '9 BHK', '9 Bedroom', '27 BHK', '10 Bedroom', '11 Bedroom',\n",
              "       '10 BHK', '19 BHK', '16 BHK', '43 Bedroom', '14 BHK', '8 BHK',\n",
              "       '12 Bedroom', '13 BHK', '18 Bedroom'], dtype=object)"
            ]
          },
          "metadata": {
            "tags": []
          },
          "execution_count": 11
        }
      ]
    },
    {
      "cell_type": "markdown",
      "metadata": {
        "id": "mTIM6I_VARH0",
        "colab_type": "text"
      },
      "source": [
        "#### 4 bedroom and 4 BHK are essentially the same so let's fix this"
      ]
    },
    {
      "cell_type": "code",
      "metadata": {
        "id": "xhPmoARRARH0",
        "colab_type": "code",
        "outputId": "476d9f8a-98e0-482e-a516-87484db4d15a",
        "colab": {
          "base_uri": "https://localhost:8080/",
          "height": 119
        }
      },
      "source": [
        "df3['bhk'] = df3['size'].apply(lambda x: int(x.split(' ')[0]))"
      ],
      "execution_count": 12,
      "outputs": [
        {
          "output_type": "stream",
          "text": [
            "/usr/local/lib/python3.6/dist-packages/ipykernel_launcher.py:1: SettingWithCopyWarning: \n",
            "A value is trying to be set on a copy of a slice from a DataFrame.\n",
            "Try using .loc[row_indexer,col_indexer] = value instead\n",
            "\n",
            "See the caveats in the documentation: https://pandas.pydata.org/pandas-docs/stable/user_guide/indexing.html#returning-a-view-versus-a-copy\n",
            "  \"\"\"Entry point for launching an IPython kernel.\n"
          ],
          "name": "stderr"
        }
      ]
    },
    {
      "cell_type": "code",
      "metadata": {
        "id": "RVygCI3iARH3",
        "colab_type": "code",
        "outputId": "a87f1790-3ea9-4d9d-8c11-caa4600eca0e",
        "colab": {
          "base_uri": "https://localhost:8080/",
          "height": 204
        }
      },
      "source": [
        "df3.head()\n"
      ],
      "execution_count": 13,
      "outputs": [
        {
          "output_type": "execute_result",
          "data": {
            "text/html": [
              "<div>\n",
              "<style scoped>\n",
              "    .dataframe tbody tr th:only-of-type {\n",
              "        vertical-align: middle;\n",
              "    }\n",
              "\n",
              "    .dataframe tbody tr th {\n",
              "        vertical-align: top;\n",
              "    }\n",
              "\n",
              "    .dataframe thead th {\n",
              "        text-align: right;\n",
              "    }\n",
              "</style>\n",
              "<table border=\"1\" class=\"dataframe\">\n",
              "  <thead>\n",
              "    <tr style=\"text-align: right;\">\n",
              "      <th></th>\n",
              "      <th>location</th>\n",
              "      <th>size</th>\n",
              "      <th>total_sqft</th>\n",
              "      <th>bath</th>\n",
              "      <th>price</th>\n",
              "      <th>bhk</th>\n",
              "    </tr>\n",
              "  </thead>\n",
              "  <tbody>\n",
              "    <tr>\n",
              "      <th>0</th>\n",
              "      <td>Electronic City Phase II</td>\n",
              "      <td>2 BHK</td>\n",
              "      <td>1056</td>\n",
              "      <td>2.0</td>\n",
              "      <td>39.07</td>\n",
              "      <td>2</td>\n",
              "    </tr>\n",
              "    <tr>\n",
              "      <th>1</th>\n",
              "      <td>Chikka Tirupathi</td>\n",
              "      <td>4 Bedroom</td>\n",
              "      <td>2600</td>\n",
              "      <td>5.0</td>\n",
              "      <td>120.00</td>\n",
              "      <td>4</td>\n",
              "    </tr>\n",
              "    <tr>\n",
              "      <th>2</th>\n",
              "      <td>Uttarahalli</td>\n",
              "      <td>3 BHK</td>\n",
              "      <td>1440</td>\n",
              "      <td>2.0</td>\n",
              "      <td>62.00</td>\n",
              "      <td>3</td>\n",
              "    </tr>\n",
              "    <tr>\n",
              "      <th>3</th>\n",
              "      <td>Lingadheeranahalli</td>\n",
              "      <td>3 BHK</td>\n",
              "      <td>1521</td>\n",
              "      <td>3.0</td>\n",
              "      <td>95.00</td>\n",
              "      <td>3</td>\n",
              "    </tr>\n",
              "    <tr>\n",
              "      <th>4</th>\n",
              "      <td>Kothanur</td>\n",
              "      <td>2 BHK</td>\n",
              "      <td>1200</td>\n",
              "      <td>2.0</td>\n",
              "      <td>51.00</td>\n",
              "      <td>2</td>\n",
              "    </tr>\n",
              "  </tbody>\n",
              "</table>\n",
              "</div>"
            ],
            "text/plain": [
              "                   location       size total_sqft  bath   price  bhk\n",
              "0  Electronic City Phase II      2 BHK       1056   2.0   39.07    2\n",
              "1          Chikka Tirupathi  4 Bedroom       2600   5.0  120.00    4\n",
              "2               Uttarahalli      3 BHK       1440   2.0   62.00    3\n",
              "3        Lingadheeranahalli      3 BHK       1521   3.0   95.00    3\n",
              "4                  Kothanur      2 BHK       1200   2.0   51.00    2"
            ]
          },
          "metadata": {
            "tags": []
          },
          "execution_count": 13
        }
      ]
    },
    {
      "cell_type": "code",
      "metadata": {
        "id": "Nxau5dyhARH6",
        "colab_type": "code",
        "outputId": "3ce7978a-21f8-4736-adb5-20f2df545770",
        "colab": {
          "base_uri": "https://localhost:8080/",
          "height": 204
        }
      },
      "source": [
        "df3 = df3.drop(['size'], axis = 1)\n",
        "df3.head()"
      ],
      "execution_count": 14,
      "outputs": [
        {
          "output_type": "execute_result",
          "data": {
            "text/html": [
              "<div>\n",
              "<style scoped>\n",
              "    .dataframe tbody tr th:only-of-type {\n",
              "        vertical-align: middle;\n",
              "    }\n",
              "\n",
              "    .dataframe tbody tr th {\n",
              "        vertical-align: top;\n",
              "    }\n",
              "\n",
              "    .dataframe thead th {\n",
              "        text-align: right;\n",
              "    }\n",
              "</style>\n",
              "<table border=\"1\" class=\"dataframe\">\n",
              "  <thead>\n",
              "    <tr style=\"text-align: right;\">\n",
              "      <th></th>\n",
              "      <th>location</th>\n",
              "      <th>total_sqft</th>\n",
              "      <th>bath</th>\n",
              "      <th>price</th>\n",
              "      <th>bhk</th>\n",
              "    </tr>\n",
              "  </thead>\n",
              "  <tbody>\n",
              "    <tr>\n",
              "      <th>0</th>\n",
              "      <td>Electronic City Phase II</td>\n",
              "      <td>1056</td>\n",
              "      <td>2.0</td>\n",
              "      <td>39.07</td>\n",
              "      <td>2</td>\n",
              "    </tr>\n",
              "    <tr>\n",
              "      <th>1</th>\n",
              "      <td>Chikka Tirupathi</td>\n",
              "      <td>2600</td>\n",
              "      <td>5.0</td>\n",
              "      <td>120.00</td>\n",
              "      <td>4</td>\n",
              "    </tr>\n",
              "    <tr>\n",
              "      <th>2</th>\n",
              "      <td>Uttarahalli</td>\n",
              "      <td>1440</td>\n",
              "      <td>2.0</td>\n",
              "      <td>62.00</td>\n",
              "      <td>3</td>\n",
              "    </tr>\n",
              "    <tr>\n",
              "      <th>3</th>\n",
              "      <td>Lingadheeranahalli</td>\n",
              "      <td>1521</td>\n",
              "      <td>3.0</td>\n",
              "      <td>95.00</td>\n",
              "      <td>3</td>\n",
              "    </tr>\n",
              "    <tr>\n",
              "      <th>4</th>\n",
              "      <td>Kothanur</td>\n",
              "      <td>1200</td>\n",
              "      <td>2.0</td>\n",
              "      <td>51.00</td>\n",
              "      <td>2</td>\n",
              "    </tr>\n",
              "  </tbody>\n",
              "</table>\n",
              "</div>"
            ],
            "text/plain": [
              "                   location total_sqft  bath   price  bhk\n",
              "0  Electronic City Phase II       1056   2.0   39.07    2\n",
              "1          Chikka Tirupathi       2600   5.0  120.00    4\n",
              "2               Uttarahalli       1440   2.0   62.00    3\n",
              "3        Lingadheeranahalli       1521   3.0   95.00    3\n",
              "4                  Kothanur       1200   2.0   51.00    2"
            ]
          },
          "metadata": {
            "tags": []
          },
          "execution_count": 14
        }
      ]
    },
    {
      "cell_type": "code",
      "metadata": {
        "id": "66DGCEflARH9",
        "colab_type": "code",
        "outputId": "4bf11431-8dae-4a46-d24b-708fd0a9f3f9",
        "colab": {
          "base_uri": "https://localhost:8080/",
          "height": 51
        }
      },
      "source": [
        "df3['bhk'].unique()"
      ],
      "execution_count": 15,
      "outputs": [
        {
          "output_type": "execute_result",
          "data": {
            "text/plain": [
              "array([ 2,  4,  3,  6,  1,  8,  7,  5, 11,  9, 27, 10, 19, 16, 43, 14, 12,\n",
              "       13, 18])"
            ]
          },
          "metadata": {
            "tags": []
          },
          "execution_count": 15
        }
      ]
    },
    {
      "cell_type": "code",
      "metadata": {
        "id": "3hCiFnlvARH_",
        "colab_type": "code",
        "outputId": "731fb8f2-146e-4123-e8b0-170a9e2bafef",
        "colab": {
          "base_uri": "https://localhost:8080/",
          "height": 111
        }
      },
      "source": [
        "df3[df3['bhk'] > 20]"
      ],
      "execution_count": 16,
      "outputs": [
        {
          "output_type": "execute_result",
          "data": {
            "text/html": [
              "<div>\n",
              "<style scoped>\n",
              "    .dataframe tbody tr th:only-of-type {\n",
              "        vertical-align: middle;\n",
              "    }\n",
              "\n",
              "    .dataframe tbody tr th {\n",
              "        vertical-align: top;\n",
              "    }\n",
              "\n",
              "    .dataframe thead th {\n",
              "        text-align: right;\n",
              "    }\n",
              "</style>\n",
              "<table border=\"1\" class=\"dataframe\">\n",
              "  <thead>\n",
              "    <tr style=\"text-align: right;\">\n",
              "      <th></th>\n",
              "      <th>location</th>\n",
              "      <th>total_sqft</th>\n",
              "      <th>bath</th>\n",
              "      <th>price</th>\n",
              "      <th>bhk</th>\n",
              "    </tr>\n",
              "  </thead>\n",
              "  <tbody>\n",
              "    <tr>\n",
              "      <th>1718</th>\n",
              "      <td>2Electronic City Phase II</td>\n",
              "      <td>8000</td>\n",
              "      <td>27.0</td>\n",
              "      <td>230.0</td>\n",
              "      <td>27</td>\n",
              "    </tr>\n",
              "    <tr>\n",
              "      <th>4684</th>\n",
              "      <td>Munnekollal</td>\n",
              "      <td>2400</td>\n",
              "      <td>40.0</td>\n",
              "      <td>660.0</td>\n",
              "      <td>43</td>\n",
              "    </tr>\n",
              "  </tbody>\n",
              "</table>\n",
              "</div>"
            ],
            "text/plain": [
              "                       location total_sqft  bath  price  bhk\n",
              "1718  2Electronic City Phase II       8000  27.0  230.0   27\n",
              "4684                Munnekollal       2400  40.0  660.0   43"
            ]
          },
          "metadata": {
            "tags": []
          },
          "execution_count": 16
        }
      ]
    },
    {
      "cell_type": "code",
      "metadata": {
        "id": "Nzf8G3vTPvJH",
        "colab_type": "code",
        "outputId": "d6eb3bb4-47ee-4947-a07c-79c797a31257",
        "colab": {
          "base_uri": "https://localhost:8080/",
          "height": 51
        }
      },
      "source": [
        "df3['total_sqft'].unique()"
      ],
      "execution_count": 17,
      "outputs": [
        {
          "output_type": "execute_result",
          "data": {
            "text/plain": [
              "array(['1056', '2600', '1440', ..., '1133 - 1384', '774', '4689'],\n",
              "      dtype=object)"
            ]
          },
          "metadata": {
            "tags": []
          },
          "execution_count": 17
        }
      ]
    },
    {
      "cell_type": "markdown",
      "metadata": {
        "id": "iwJvZo57QHlz",
        "colab_type": "text"
      },
      "source": [
        "##### \"1133 - 1384\" now this an range rather than a single value"
      ]
    },
    {
      "cell_type": "code",
      "metadata": {
        "id": "1SkKOYwpQEKO",
        "colab_type": "code",
        "colab": {}
      },
      "source": [
        "def is_float(x):\n",
        "    try:\n",
        "        float(x)\n",
        "    except:\n",
        "        return False\n",
        "    return True"
      ],
      "execution_count": 0,
      "outputs": []
    },
    {
      "cell_type": "code",
      "metadata": {
        "id": "f33_pHrTQoMX",
        "colab_type": "code",
        "outputId": "e4ee8680-081b-4d51-c57d-c5be539bf3ba",
        "colab": {
          "base_uri": "https://localhost:8080/",
          "height": 359
        }
      },
      "source": [
        "df3[ ~ df3['total_sqft'].apply(is_float)].head(10)"
      ],
      "execution_count": 19,
      "outputs": [
        {
          "output_type": "execute_result",
          "data": {
            "text/html": [
              "<div>\n",
              "<style scoped>\n",
              "    .dataframe tbody tr th:only-of-type {\n",
              "        vertical-align: middle;\n",
              "    }\n",
              "\n",
              "    .dataframe tbody tr th {\n",
              "        vertical-align: top;\n",
              "    }\n",
              "\n",
              "    .dataframe thead th {\n",
              "        text-align: right;\n",
              "    }\n",
              "</style>\n",
              "<table border=\"1\" class=\"dataframe\">\n",
              "  <thead>\n",
              "    <tr style=\"text-align: right;\">\n",
              "      <th></th>\n",
              "      <th>location</th>\n",
              "      <th>total_sqft</th>\n",
              "      <th>bath</th>\n",
              "      <th>price</th>\n",
              "      <th>bhk</th>\n",
              "    </tr>\n",
              "  </thead>\n",
              "  <tbody>\n",
              "    <tr>\n",
              "      <th>30</th>\n",
              "      <td>Yelahanka</td>\n",
              "      <td>2100 - 2850</td>\n",
              "      <td>4.0</td>\n",
              "      <td>186.000</td>\n",
              "      <td>4</td>\n",
              "    </tr>\n",
              "    <tr>\n",
              "      <th>122</th>\n",
              "      <td>Hebbal</td>\n",
              "      <td>3067 - 8156</td>\n",
              "      <td>4.0</td>\n",
              "      <td>477.000</td>\n",
              "      <td>4</td>\n",
              "    </tr>\n",
              "    <tr>\n",
              "      <th>137</th>\n",
              "      <td>8th Phase JP Nagar</td>\n",
              "      <td>1042 - 1105</td>\n",
              "      <td>2.0</td>\n",
              "      <td>54.005</td>\n",
              "      <td>2</td>\n",
              "    </tr>\n",
              "    <tr>\n",
              "      <th>165</th>\n",
              "      <td>Sarjapur</td>\n",
              "      <td>1145 - 1340</td>\n",
              "      <td>2.0</td>\n",
              "      <td>43.490</td>\n",
              "      <td>2</td>\n",
              "    </tr>\n",
              "    <tr>\n",
              "      <th>188</th>\n",
              "      <td>KR Puram</td>\n",
              "      <td>1015 - 1540</td>\n",
              "      <td>2.0</td>\n",
              "      <td>56.800</td>\n",
              "      <td>2</td>\n",
              "    </tr>\n",
              "    <tr>\n",
              "      <th>410</th>\n",
              "      <td>Kengeri</td>\n",
              "      <td>34.46Sq. Meter</td>\n",
              "      <td>1.0</td>\n",
              "      <td>18.500</td>\n",
              "      <td>1</td>\n",
              "    </tr>\n",
              "    <tr>\n",
              "      <th>549</th>\n",
              "      <td>Hennur Road</td>\n",
              "      <td>1195 - 1440</td>\n",
              "      <td>2.0</td>\n",
              "      <td>63.770</td>\n",
              "      <td>2</td>\n",
              "    </tr>\n",
              "    <tr>\n",
              "      <th>648</th>\n",
              "      <td>Arekere</td>\n",
              "      <td>4125Perch</td>\n",
              "      <td>9.0</td>\n",
              "      <td>265.000</td>\n",
              "      <td>9</td>\n",
              "    </tr>\n",
              "    <tr>\n",
              "      <th>661</th>\n",
              "      <td>Yelahanka</td>\n",
              "      <td>1120 - 1145</td>\n",
              "      <td>2.0</td>\n",
              "      <td>48.130</td>\n",
              "      <td>2</td>\n",
              "    </tr>\n",
              "    <tr>\n",
              "      <th>672</th>\n",
              "      <td>Bettahalsoor</td>\n",
              "      <td>3090 - 5002</td>\n",
              "      <td>4.0</td>\n",
              "      <td>445.000</td>\n",
              "      <td>4</td>\n",
              "    </tr>\n",
              "  </tbody>\n",
              "</table>\n",
              "</div>"
            ],
            "text/plain": [
              "               location      total_sqft  bath    price  bhk\n",
              "30            Yelahanka     2100 - 2850   4.0  186.000    4\n",
              "122              Hebbal     3067 - 8156   4.0  477.000    4\n",
              "137  8th Phase JP Nagar     1042 - 1105   2.0   54.005    2\n",
              "165            Sarjapur     1145 - 1340   2.0   43.490    2\n",
              "188            KR Puram     1015 - 1540   2.0   56.800    2\n",
              "410             Kengeri  34.46Sq. Meter   1.0   18.500    1\n",
              "549         Hennur Road     1195 - 1440   2.0   63.770    2\n",
              "648             Arekere       4125Perch   9.0  265.000    9\n",
              "661           Yelahanka     1120 - 1145   2.0   48.130    2\n",
              "672        Bettahalsoor     3090 - 5002   4.0  445.000    4"
            ]
          },
          "metadata": {
            "tags": []
          },
          "execution_count": 19
        }
      ]
    },
    {
      "cell_type": "markdown",
      "metadata": {
        "id": "jOlUTDZ8RYpj",
        "colab_type": "text"
      },
      "source": [
        "So there are a lot of impurity in this dataset. Let's clean them"
      ]
    },
    {
      "cell_type": "code",
      "metadata": {
        "id": "d3wQDH27QuIl",
        "colab_type": "code",
        "colab": {}
      },
      "source": [
        "def convert_sqft_to_num(x):\n",
        "    tokens = x.split('-')\n",
        "    if(len(tokens) == 2):\n",
        "        return ( float(tokens[0]) + float(tokens[1]) )/2\n",
        "    try:\n",
        "        return float(x)\n",
        "    except:\n",
        "        return None"
      ],
      "execution_count": 0,
      "outputs": []
    },
    {
      "cell_type": "code",
      "metadata": {
        "id": "W_RHWKOLR-Zv",
        "colab_type": "code",
        "outputId": "50d3ca43-8eba-407c-aed2-8e9648f5d3bb",
        "colab": {
          "base_uri": "https://localhost:8080/",
          "height": 34
        }
      },
      "source": [
        "convert_sqft_to_num('2120')"
      ],
      "execution_count": 21,
      "outputs": [
        {
          "output_type": "execute_result",
          "data": {
            "text/plain": [
              "2120.0"
            ]
          },
          "metadata": {
            "tags": []
          },
          "execution_count": 21
        }
      ]
    },
    {
      "cell_type": "code",
      "metadata": {
        "id": "BWV0KGAbSB1x",
        "colab_type": "code",
        "outputId": "8d0025c9-3413-4aec-8ec4-d54035456db6",
        "colab": {
          "base_uri": "https://localhost:8080/",
          "height": 34
        }
      },
      "source": [
        "convert_sqft_to_num('2120-2130')"
      ],
      "execution_count": 22,
      "outputs": [
        {
          "output_type": "execute_result",
          "data": {
            "text/plain": [
              "2125.0"
            ]
          },
          "metadata": {
            "tags": []
          },
          "execution_count": 22
        }
      ]
    },
    {
      "cell_type": "code",
      "metadata": {
        "id": "Smg8Wm0ZSMsN",
        "colab_type": "code",
        "colab": {}
      },
      "source": [
        "convert_sqft_to_num('34.46Sq. Meter')\n",
        "#so it returns nothing"
      ],
      "execution_count": 0,
      "outputs": []
    },
    {
      "cell_type": "code",
      "metadata": {
        "id": "4exA-bi6SXsN",
        "colab_type": "code",
        "colab": {}
      },
      "source": [
        "df4 = df3.copy()"
      ],
      "execution_count": 0,
      "outputs": []
    },
    {
      "cell_type": "code",
      "metadata": {
        "id": "tdM02iTVTfSG",
        "colab_type": "code",
        "colab": {}
      },
      "source": [
        "df4['total_sqft'] = df4['total_sqft'].apply(convert_sqft_to_num)"
      ],
      "execution_count": 0,
      "outputs": []
    },
    {
      "cell_type": "code",
      "metadata": {
        "id": "kXqdpuGITqZL",
        "colab_type": "code",
        "outputId": "38c6b130-2a6d-4d0d-a906-81fc62078d8b",
        "colab": {
          "base_uri": "https://localhost:8080/",
          "height": 204
        }
      },
      "source": [
        "df4.head()"
      ],
      "execution_count": 26,
      "outputs": [
        {
          "output_type": "execute_result",
          "data": {
            "text/html": [
              "<div>\n",
              "<style scoped>\n",
              "    .dataframe tbody tr th:only-of-type {\n",
              "        vertical-align: middle;\n",
              "    }\n",
              "\n",
              "    .dataframe tbody tr th {\n",
              "        vertical-align: top;\n",
              "    }\n",
              "\n",
              "    .dataframe thead th {\n",
              "        text-align: right;\n",
              "    }\n",
              "</style>\n",
              "<table border=\"1\" class=\"dataframe\">\n",
              "  <thead>\n",
              "    <tr style=\"text-align: right;\">\n",
              "      <th></th>\n",
              "      <th>location</th>\n",
              "      <th>total_sqft</th>\n",
              "      <th>bath</th>\n",
              "      <th>price</th>\n",
              "      <th>bhk</th>\n",
              "    </tr>\n",
              "  </thead>\n",
              "  <tbody>\n",
              "    <tr>\n",
              "      <th>0</th>\n",
              "      <td>Electronic City Phase II</td>\n",
              "      <td>1056.0</td>\n",
              "      <td>2.0</td>\n",
              "      <td>39.07</td>\n",
              "      <td>2</td>\n",
              "    </tr>\n",
              "    <tr>\n",
              "      <th>1</th>\n",
              "      <td>Chikka Tirupathi</td>\n",
              "      <td>2600.0</td>\n",
              "      <td>5.0</td>\n",
              "      <td>120.00</td>\n",
              "      <td>4</td>\n",
              "    </tr>\n",
              "    <tr>\n",
              "      <th>2</th>\n",
              "      <td>Uttarahalli</td>\n",
              "      <td>1440.0</td>\n",
              "      <td>2.0</td>\n",
              "      <td>62.00</td>\n",
              "      <td>3</td>\n",
              "    </tr>\n",
              "    <tr>\n",
              "      <th>3</th>\n",
              "      <td>Lingadheeranahalli</td>\n",
              "      <td>1521.0</td>\n",
              "      <td>3.0</td>\n",
              "      <td>95.00</td>\n",
              "      <td>3</td>\n",
              "    </tr>\n",
              "    <tr>\n",
              "      <th>4</th>\n",
              "      <td>Kothanur</td>\n",
              "      <td>1200.0</td>\n",
              "      <td>2.0</td>\n",
              "      <td>51.00</td>\n",
              "      <td>2</td>\n",
              "    </tr>\n",
              "  </tbody>\n",
              "</table>\n",
              "</div>"
            ],
            "text/plain": [
              "                   location  total_sqft  bath   price  bhk\n",
              "0  Electronic City Phase II      1056.0   2.0   39.07    2\n",
              "1          Chikka Tirupathi      2600.0   5.0  120.00    4\n",
              "2               Uttarahalli      1440.0   2.0   62.00    3\n",
              "3        Lingadheeranahalli      1521.0   3.0   95.00    3\n",
              "4                  Kothanur      1200.0   2.0   51.00    2"
            ]
          },
          "metadata": {
            "tags": []
          },
          "execution_count": 26
        }
      ]
    },
    {
      "cell_type": "code",
      "metadata": {
        "id": "izwEBJrOT7Vo",
        "colab_type": "code",
        "outputId": "2ff461c4-c950-4c72-ee3e-3abe11f739aa",
        "colab": {
          "base_uri": "https://localhost:8080/",
          "height": 119
        }
      },
      "source": [
        "df4.loc[30,:]"
      ],
      "execution_count": 27,
      "outputs": [
        {
          "output_type": "execute_result",
          "data": {
            "text/plain": [
              "location      Yelahanka\n",
              "total_sqft         2475\n",
              "bath                  4\n",
              "price               186\n",
              "bhk                   4\n",
              "Name: 30, dtype: object"
            ]
          },
          "metadata": {
            "tags": []
          },
          "execution_count": 27
        }
      ]
    },
    {
      "cell_type": "code",
      "metadata": {
        "id": "_BLJpvKwT_yy",
        "colab_type": "code",
        "colab": {}
      },
      "source": [
        "df5 = df4.copy()"
      ],
      "execution_count": 0,
      "outputs": []
    },
    {
      "cell_type": "code",
      "metadata": {
        "id": "iR5UCX85Xvgh",
        "colab_type": "code",
        "colab": {}
      },
      "source": [
        "df5['price_per_sqft'] = df5['price']*100000 / df5['total_sqft']"
      ],
      "execution_count": 0,
      "outputs": []
    },
    {
      "cell_type": "code",
      "metadata": {
        "id": "-02PpS5KYSfW",
        "colab_type": "code",
        "outputId": "d7464d2b-f73e-4d89-db45-ce7baf716418",
        "colab": {
          "base_uri": "https://localhost:8080/",
          "height": 204
        }
      },
      "source": [
        "df5.head()"
      ],
      "execution_count": 30,
      "outputs": [
        {
          "output_type": "execute_result",
          "data": {
            "text/html": [
              "<div>\n",
              "<style scoped>\n",
              "    .dataframe tbody tr th:only-of-type {\n",
              "        vertical-align: middle;\n",
              "    }\n",
              "\n",
              "    .dataframe tbody tr th {\n",
              "        vertical-align: top;\n",
              "    }\n",
              "\n",
              "    .dataframe thead th {\n",
              "        text-align: right;\n",
              "    }\n",
              "</style>\n",
              "<table border=\"1\" class=\"dataframe\">\n",
              "  <thead>\n",
              "    <tr style=\"text-align: right;\">\n",
              "      <th></th>\n",
              "      <th>location</th>\n",
              "      <th>total_sqft</th>\n",
              "      <th>bath</th>\n",
              "      <th>price</th>\n",
              "      <th>bhk</th>\n",
              "      <th>price_per_sqft</th>\n",
              "    </tr>\n",
              "  </thead>\n",
              "  <tbody>\n",
              "    <tr>\n",
              "      <th>0</th>\n",
              "      <td>Electronic City Phase II</td>\n",
              "      <td>1056.0</td>\n",
              "      <td>2.0</td>\n",
              "      <td>39.07</td>\n",
              "      <td>2</td>\n",
              "      <td>3699.810606</td>\n",
              "    </tr>\n",
              "    <tr>\n",
              "      <th>1</th>\n",
              "      <td>Chikka Tirupathi</td>\n",
              "      <td>2600.0</td>\n",
              "      <td>5.0</td>\n",
              "      <td>120.00</td>\n",
              "      <td>4</td>\n",
              "      <td>4615.384615</td>\n",
              "    </tr>\n",
              "    <tr>\n",
              "      <th>2</th>\n",
              "      <td>Uttarahalli</td>\n",
              "      <td>1440.0</td>\n",
              "      <td>2.0</td>\n",
              "      <td>62.00</td>\n",
              "      <td>3</td>\n",
              "      <td>4305.555556</td>\n",
              "    </tr>\n",
              "    <tr>\n",
              "      <th>3</th>\n",
              "      <td>Lingadheeranahalli</td>\n",
              "      <td>1521.0</td>\n",
              "      <td>3.0</td>\n",
              "      <td>95.00</td>\n",
              "      <td>3</td>\n",
              "      <td>6245.890861</td>\n",
              "    </tr>\n",
              "    <tr>\n",
              "      <th>4</th>\n",
              "      <td>Kothanur</td>\n",
              "      <td>1200.0</td>\n",
              "      <td>2.0</td>\n",
              "      <td>51.00</td>\n",
              "      <td>2</td>\n",
              "      <td>4250.000000</td>\n",
              "    </tr>\n",
              "  </tbody>\n",
              "</table>\n",
              "</div>"
            ],
            "text/plain": [
              "                   location  total_sqft  bath   price  bhk  price_per_sqft\n",
              "0  Electronic City Phase II      1056.0   2.0   39.07    2     3699.810606\n",
              "1          Chikka Tirupathi      2600.0   5.0  120.00    4     4615.384615\n",
              "2               Uttarahalli      1440.0   2.0   62.00    3     4305.555556\n",
              "3        Lingadheeranahalli      1521.0   3.0   95.00    3     6245.890861\n",
              "4                  Kothanur      1200.0   2.0   51.00    2     4250.000000"
            ]
          },
          "metadata": {
            "tags": []
          },
          "execution_count": 30
        }
      ]
    },
    {
      "cell_type": "code",
      "metadata": {
        "id": "sWYTeE-gYTvR",
        "colab_type": "code",
        "outputId": "ea1733e3-2f2a-43cc-db67-c9f10e8e336a",
        "colab": {
          "base_uri": "https://localhost:8080/",
          "height": 34
        }
      },
      "source": [
        "df5['location'].nunique()"
      ],
      "execution_count": 31,
      "outputs": [
        {
          "output_type": "execute_result",
          "data": {
            "text/plain": [
              "1304"
            ]
          },
          "metadata": {
            "tags": []
          },
          "execution_count": 31
        }
      ]
    },
    {
      "cell_type": "code",
      "metadata": {
        "id": "-3sg_Aw6yxHm",
        "colab_type": "code",
        "colab": {}
      },
      "source": [
        "df5['location'] = df5['location'].apply(lambda x: x.strip())\n",
        "# to remove extra spaces"
      ],
      "execution_count": 0,
      "outputs": []
    },
    {
      "cell_type": "code",
      "metadata": {
        "id": "P2Y39JyCzMQ6",
        "colab_type": "code",
        "outputId": "2796966e-e854-4d0d-c838-4ef125126445",
        "colab": {
          "base_uri": "https://localhost:8080/",
          "height": 238
        }
      },
      "source": [
        "# to find count per location\n",
        "location_stats = df5.groupby('location')['location'].agg('count').sort_values(ascending = False)\n",
        "location_stats"
      ],
      "execution_count": 33,
      "outputs": [
        {
          "output_type": "execute_result",
          "data": {
            "text/plain": [
              "location\n",
              "Whitefield           535\n",
              "Sarjapur  Road       392\n",
              "Electronic City      304\n",
              "Kanakpura Road       266\n",
              "Thanisandra          236\n",
              "                    ... \n",
              "LIC Colony             1\n",
              "Kuvempu Layout         1\n",
              "Kumbhena Agrahara      1\n",
              "Kudlu Village,         1\n",
              "1 Annasandrapalya      1\n",
              "Name: location, Length: 1293, dtype: int64"
            ]
          },
          "metadata": {
            "tags": []
          },
          "execution_count": 33
        }
      ]
    },
    {
      "cell_type": "markdown",
      "metadata": {
        "id": "gAX70p6eztrD",
        "colab_type": "text"
      },
      "source": [
        "So we can see many locations have only 1 data point so we can assign those locations which are below a given threshold to be counted as \"others\""
      ]
    },
    {
      "cell_type": "code",
      "metadata": {
        "id": "tb6NKp9Dzmda",
        "colab_type": "code",
        "outputId": "c3dad169-03c2-401f-bb10-545fa140b7ea",
        "colab": {
          "base_uri": "https://localhost:8080/",
          "height": 238
        }
      },
      "source": [
        "print(location_stats[location_stats <= 10])"
      ],
      "execution_count": 34,
      "outputs": [
        {
          "output_type": "stream",
          "text": [
            "location\n",
            "BTM 1st Stage          10\n",
            "Basapura               10\n",
            "Sector 1 HSR Layout    10\n",
            "Naganathapura          10\n",
            "Kalkere                10\n",
            "                       ..\n",
            "LIC Colony              1\n",
            "Kuvempu Layout          1\n",
            "Kumbhena Agrahara       1\n",
            "Kudlu Village,          1\n",
            "1 Annasandrapalya       1\n",
            "Name: location, Length: 1052, dtype: int64\n"
          ],
          "name": "stdout"
        }
      ]
    },
    {
      "cell_type": "markdown",
      "metadata": {
        "id": "znL42O9y0j-C",
        "colab_type": "text"
      },
      "source": [
        "So we have 1052 locations which have datapoints less than or equal to our threshold(10) out of 1293"
      ]
    },
    {
      "cell_type": "code",
      "metadata": {
        "id": "a3bsjCmB0h_b",
        "colab_type": "code",
        "outputId": "3e4fc1b6-89f6-4deb-9702-3b4f1c745926",
        "colab": {
          "base_uri": "https://localhost:8080/",
          "height": 238
        }
      },
      "source": [
        "location_stats_less_than_10 = location_stats[location_stats <= 10]\n",
        "location_stats_less_than_10"
      ],
      "execution_count": 35,
      "outputs": [
        {
          "output_type": "execute_result",
          "data": {
            "text/plain": [
              "location\n",
              "BTM 1st Stage          10\n",
              "Basapura               10\n",
              "Sector 1 HSR Layout    10\n",
              "Naganathapura          10\n",
              "Kalkere                10\n",
              "                       ..\n",
              "LIC Colony              1\n",
              "Kuvempu Layout          1\n",
              "Kumbhena Agrahara       1\n",
              "Kudlu Village,          1\n",
              "1 Annasandrapalya       1\n",
              "Name: location, Length: 1052, dtype: int64"
            ]
          },
          "metadata": {
            "tags": []
          },
          "execution_count": 35
        }
      ]
    },
    {
      "cell_type": "code",
      "metadata": {
        "id": "luOH-h-h07-l",
        "colab_type": "code",
        "colab": {}
      },
      "source": [
        "df5['location'] = df5['location'].apply(lambda x: 'other' if x in location_stats_less_than_10 else x)"
      ],
      "execution_count": 0,
      "outputs": []
    },
    {
      "cell_type": "code",
      "metadata": {
        "id": "mfq5a5tS1YFN",
        "colab_type": "code",
        "outputId": "77423455-f45f-41d2-c471-44c1e8d338b2",
        "colab": {
          "base_uri": "https://localhost:8080/",
          "height": 34
        }
      },
      "source": [
        "df5['location'].nunique()\n",
        "# so now only 242 unique locations"
      ],
      "execution_count": 37,
      "outputs": [
        {
          "output_type": "execute_result",
          "data": {
            "text/plain": [
              "242"
            ]
          },
          "metadata": {
            "tags": []
          },
          "execution_count": 37
        }
      ]
    },
    {
      "cell_type": "code",
      "metadata": {
        "id": "JXY16qvi1kkG",
        "colab_type": "code",
        "outputId": "5bc1bc57-42c6-4f22-dbc4-4368ef932ad2",
        "colab": {
          "base_uri": "https://localhost:8080/",
          "height": 359
        }
      },
      "source": [
        "df5.head(10)"
      ],
      "execution_count": 38,
      "outputs": [
        {
          "output_type": "execute_result",
          "data": {
            "text/html": [
              "<div>\n",
              "<style scoped>\n",
              "    .dataframe tbody tr th:only-of-type {\n",
              "        vertical-align: middle;\n",
              "    }\n",
              "\n",
              "    .dataframe tbody tr th {\n",
              "        vertical-align: top;\n",
              "    }\n",
              "\n",
              "    .dataframe thead th {\n",
              "        text-align: right;\n",
              "    }\n",
              "</style>\n",
              "<table border=\"1\" class=\"dataframe\">\n",
              "  <thead>\n",
              "    <tr style=\"text-align: right;\">\n",
              "      <th></th>\n",
              "      <th>location</th>\n",
              "      <th>total_sqft</th>\n",
              "      <th>bath</th>\n",
              "      <th>price</th>\n",
              "      <th>bhk</th>\n",
              "      <th>price_per_sqft</th>\n",
              "    </tr>\n",
              "  </thead>\n",
              "  <tbody>\n",
              "    <tr>\n",
              "      <th>0</th>\n",
              "      <td>Electronic City Phase II</td>\n",
              "      <td>1056.0</td>\n",
              "      <td>2.0</td>\n",
              "      <td>39.07</td>\n",
              "      <td>2</td>\n",
              "      <td>3699.810606</td>\n",
              "    </tr>\n",
              "    <tr>\n",
              "      <th>1</th>\n",
              "      <td>Chikka Tirupathi</td>\n",
              "      <td>2600.0</td>\n",
              "      <td>5.0</td>\n",
              "      <td>120.00</td>\n",
              "      <td>4</td>\n",
              "      <td>4615.384615</td>\n",
              "    </tr>\n",
              "    <tr>\n",
              "      <th>2</th>\n",
              "      <td>Uttarahalli</td>\n",
              "      <td>1440.0</td>\n",
              "      <td>2.0</td>\n",
              "      <td>62.00</td>\n",
              "      <td>3</td>\n",
              "      <td>4305.555556</td>\n",
              "    </tr>\n",
              "    <tr>\n",
              "      <th>3</th>\n",
              "      <td>Lingadheeranahalli</td>\n",
              "      <td>1521.0</td>\n",
              "      <td>3.0</td>\n",
              "      <td>95.00</td>\n",
              "      <td>3</td>\n",
              "      <td>6245.890861</td>\n",
              "    </tr>\n",
              "    <tr>\n",
              "      <th>4</th>\n",
              "      <td>Kothanur</td>\n",
              "      <td>1200.0</td>\n",
              "      <td>2.0</td>\n",
              "      <td>51.00</td>\n",
              "      <td>2</td>\n",
              "      <td>4250.000000</td>\n",
              "    </tr>\n",
              "    <tr>\n",
              "      <th>5</th>\n",
              "      <td>Whitefield</td>\n",
              "      <td>1170.0</td>\n",
              "      <td>2.0</td>\n",
              "      <td>38.00</td>\n",
              "      <td>2</td>\n",
              "      <td>3247.863248</td>\n",
              "    </tr>\n",
              "    <tr>\n",
              "      <th>6</th>\n",
              "      <td>Old Airport Road</td>\n",
              "      <td>2732.0</td>\n",
              "      <td>4.0</td>\n",
              "      <td>204.00</td>\n",
              "      <td>4</td>\n",
              "      <td>7467.057101</td>\n",
              "    </tr>\n",
              "    <tr>\n",
              "      <th>7</th>\n",
              "      <td>Rajaji Nagar</td>\n",
              "      <td>3300.0</td>\n",
              "      <td>4.0</td>\n",
              "      <td>600.00</td>\n",
              "      <td>4</td>\n",
              "      <td>18181.818182</td>\n",
              "    </tr>\n",
              "    <tr>\n",
              "      <th>8</th>\n",
              "      <td>Marathahalli</td>\n",
              "      <td>1310.0</td>\n",
              "      <td>3.0</td>\n",
              "      <td>63.25</td>\n",
              "      <td>3</td>\n",
              "      <td>4828.244275</td>\n",
              "    </tr>\n",
              "    <tr>\n",
              "      <th>9</th>\n",
              "      <td>other</td>\n",
              "      <td>1020.0</td>\n",
              "      <td>6.0</td>\n",
              "      <td>370.00</td>\n",
              "      <td>6</td>\n",
              "      <td>36274.509804</td>\n",
              "    </tr>\n",
              "  </tbody>\n",
              "</table>\n",
              "</div>"
            ],
            "text/plain": [
              "                   location  total_sqft  bath   price  bhk  price_per_sqft\n",
              "0  Electronic City Phase II      1056.0   2.0   39.07    2     3699.810606\n",
              "1          Chikka Tirupathi      2600.0   5.0  120.00    4     4615.384615\n",
              "2               Uttarahalli      1440.0   2.0   62.00    3     4305.555556\n",
              "3        Lingadheeranahalli      1521.0   3.0   95.00    3     6245.890861\n",
              "4                  Kothanur      1200.0   2.0   51.00    2     4250.000000\n",
              "5                Whitefield      1170.0   2.0   38.00    2     3247.863248\n",
              "6          Old Airport Road      2732.0   4.0  204.00    4     7467.057101\n",
              "7              Rajaji Nagar      3300.0   4.0  600.00    4    18181.818182\n",
              "8              Marathahalli      1310.0   3.0   63.25    3     4828.244275\n",
              "9                     other      1020.0   6.0  370.00    6    36274.509804"
            ]
          },
          "metadata": {
            "tags": []
          },
          "execution_count": 38
        }
      ]
    },
    {
      "cell_type": "markdown",
      "metadata": {
        "id": "d0ZK2mRE1zlj",
        "colab_type": "text"
      },
      "source": [
        "### Outlier Removal"
      ]
    },
    {
      "cell_type": "code",
      "metadata": {
        "id": "MJQDZVIM1w-U",
        "colab_type": "code",
        "colab": {}
      },
      "source": [
        "df5['sqft_per_bhk'] = df5['total_sqft'] / df5['bhk']"
      ],
      "execution_count": 0,
      "outputs": []
    },
    {
      "cell_type": "code",
      "metadata": {
        "id": "qX3toawA2iZi",
        "colab_type": "code",
        "outputId": "5cd031b6-f7c3-4c5a-f4c4-2968c9bb9e6c",
        "colab": {
          "base_uri": "https://localhost:8080/",
          "height": 34
        }
      },
      "source": [
        "df5.shape"
      ],
      "execution_count": 40,
      "outputs": [
        {
          "output_type": "execute_result",
          "data": {
            "text/plain": [
              "(13246, 7)"
            ]
          },
          "metadata": {
            "tags": []
          },
          "execution_count": 40
        }
      ]
    },
    {
      "cell_type": "code",
      "metadata": {
        "id": "fEqTU7y-3diA",
        "colab_type": "code",
        "outputId": "ed9be7c6-2e25-430c-e9a4-eedd65a04158",
        "colab": {
          "base_uri": "https://localhost:8080/",
          "height": 170
        }
      },
      "source": [
        "df5['sqft_per_bhk'].describe()"
      ],
      "execution_count": 41,
      "outputs": [
        {
          "output_type": "execute_result",
          "data": {
            "text/plain": [
              "count    13200.000000\n",
              "mean       573.847262\n",
              "std        388.079980\n",
              "min          0.250000\n",
              "25%        473.000000\n",
              "50%        552.000000\n",
              "75%        625.000000\n",
              "max      26136.000000\n",
              "Name: sqft_per_bhk, dtype: float64"
            ]
          },
          "metadata": {
            "tags": []
          },
          "execution_count": 41
        }
      ]
    },
    {
      "cell_type": "code",
      "metadata": {
        "id": "6s1uJ2mT6T_n",
        "colab_type": "code",
        "outputId": "f7bdf706-6457-4f75-d644-f5439dce2c27",
        "colab": {
          "base_uri": "https://localhost:8080/",
          "height": 419
        }
      },
      "source": [
        "threshold = 300\n",
        "df5[df5['sqft_per_bhk'] < threshold]"
      ],
      "execution_count": 42,
      "outputs": [
        {
          "output_type": "execute_result",
          "data": {
            "text/html": [
              "<div>\n",
              "<style scoped>\n",
              "    .dataframe tbody tr th:only-of-type {\n",
              "        vertical-align: middle;\n",
              "    }\n",
              "\n",
              "    .dataframe tbody tr th {\n",
              "        vertical-align: top;\n",
              "    }\n",
              "\n",
              "    .dataframe thead th {\n",
              "        text-align: right;\n",
              "    }\n",
              "</style>\n",
              "<table border=\"1\" class=\"dataframe\">\n",
              "  <thead>\n",
              "    <tr style=\"text-align: right;\">\n",
              "      <th></th>\n",
              "      <th>location</th>\n",
              "      <th>total_sqft</th>\n",
              "      <th>bath</th>\n",
              "      <th>price</th>\n",
              "      <th>bhk</th>\n",
              "      <th>price_per_sqft</th>\n",
              "      <th>sqft_per_bhk</th>\n",
              "    </tr>\n",
              "  </thead>\n",
              "  <tbody>\n",
              "    <tr>\n",
              "      <th>9</th>\n",
              "      <td>other</td>\n",
              "      <td>1020.0</td>\n",
              "      <td>6.0</td>\n",
              "      <td>370.0</td>\n",
              "      <td>6</td>\n",
              "      <td>36274.509804</td>\n",
              "      <td>170.000000</td>\n",
              "    </tr>\n",
              "    <tr>\n",
              "      <th>45</th>\n",
              "      <td>HSR Layout</td>\n",
              "      <td>600.0</td>\n",
              "      <td>9.0</td>\n",
              "      <td>200.0</td>\n",
              "      <td>8</td>\n",
              "      <td>33333.333333</td>\n",
              "      <td>75.000000</td>\n",
              "    </tr>\n",
              "    <tr>\n",
              "      <th>58</th>\n",
              "      <td>Murugeshpalya</td>\n",
              "      <td>1407.0</td>\n",
              "      <td>4.0</td>\n",
              "      <td>150.0</td>\n",
              "      <td>6</td>\n",
              "      <td>10660.980810</td>\n",
              "      <td>234.500000</td>\n",
              "    </tr>\n",
              "    <tr>\n",
              "      <th>68</th>\n",
              "      <td>Devarachikkanahalli</td>\n",
              "      <td>1350.0</td>\n",
              "      <td>7.0</td>\n",
              "      <td>85.0</td>\n",
              "      <td>8</td>\n",
              "      <td>6296.296296</td>\n",
              "      <td>168.750000</td>\n",
              "    </tr>\n",
              "    <tr>\n",
              "      <th>70</th>\n",
              "      <td>other</td>\n",
              "      <td>500.0</td>\n",
              "      <td>3.0</td>\n",
              "      <td>100.0</td>\n",
              "      <td>3</td>\n",
              "      <td>20000.000000</td>\n",
              "      <td>166.666667</td>\n",
              "    </tr>\n",
              "    <tr>\n",
              "      <th>...</th>\n",
              "      <td>...</td>\n",
              "      <td>...</td>\n",
              "      <td>...</td>\n",
              "      <td>...</td>\n",
              "      <td>...</td>\n",
              "      <td>...</td>\n",
              "      <td>...</td>\n",
              "    </tr>\n",
              "    <tr>\n",
              "      <th>13277</th>\n",
              "      <td>other</td>\n",
              "      <td>1400.0</td>\n",
              "      <td>7.0</td>\n",
              "      <td>218.0</td>\n",
              "      <td>7</td>\n",
              "      <td>15571.428571</td>\n",
              "      <td>200.000000</td>\n",
              "    </tr>\n",
              "    <tr>\n",
              "      <th>13279</th>\n",
              "      <td>other</td>\n",
              "      <td>1200.0</td>\n",
              "      <td>5.0</td>\n",
              "      <td>130.0</td>\n",
              "      <td>6</td>\n",
              "      <td>10833.333333</td>\n",
              "      <td>200.000000</td>\n",
              "    </tr>\n",
              "    <tr>\n",
              "      <th>13281</th>\n",
              "      <td>Margondanahalli</td>\n",
              "      <td>1375.0</td>\n",
              "      <td>5.0</td>\n",
              "      <td>125.0</td>\n",
              "      <td>5</td>\n",
              "      <td>9090.909091</td>\n",
              "      <td>275.000000</td>\n",
              "    </tr>\n",
              "    <tr>\n",
              "      <th>13303</th>\n",
              "      <td>Vidyaranyapura</td>\n",
              "      <td>774.0</td>\n",
              "      <td>5.0</td>\n",
              "      <td>70.0</td>\n",
              "      <td>5</td>\n",
              "      <td>9043.927649</td>\n",
              "      <td>154.800000</td>\n",
              "    </tr>\n",
              "    <tr>\n",
              "      <th>13311</th>\n",
              "      <td>Ramamurthy Nagar</td>\n",
              "      <td>1500.0</td>\n",
              "      <td>9.0</td>\n",
              "      <td>250.0</td>\n",
              "      <td>7</td>\n",
              "      <td>16666.666667</td>\n",
              "      <td>214.285714</td>\n",
              "    </tr>\n",
              "  </tbody>\n",
              "</table>\n",
              "<p>744 rows × 7 columns</p>\n",
              "</div>"
            ],
            "text/plain": [
              "                  location  total_sqft  bath  ...  bhk  price_per_sqft  sqft_per_bhk\n",
              "9                    other      1020.0   6.0  ...    6    36274.509804    170.000000\n",
              "45              HSR Layout       600.0   9.0  ...    8    33333.333333     75.000000\n",
              "58           Murugeshpalya      1407.0   4.0  ...    6    10660.980810    234.500000\n",
              "68     Devarachikkanahalli      1350.0   7.0  ...    8     6296.296296    168.750000\n",
              "70                   other       500.0   3.0  ...    3    20000.000000    166.666667\n",
              "...                    ...         ...   ...  ...  ...             ...           ...\n",
              "13277                other      1400.0   7.0  ...    7    15571.428571    200.000000\n",
              "13279                other      1200.0   5.0  ...    6    10833.333333    200.000000\n",
              "13281      Margondanahalli      1375.0   5.0  ...    5     9090.909091    275.000000\n",
              "13303       Vidyaranyapura       774.0   5.0  ...    5     9043.927649    154.800000\n",
              "13311     Ramamurthy Nagar      1500.0   9.0  ...    7    16666.666667    214.285714\n",
              "\n",
              "[744 rows x 7 columns]"
            ]
          },
          "metadata": {
            "tags": []
          },
          "execution_count": 42
        }
      ]
    },
    {
      "cell_type": "code",
      "metadata": {
        "id": "q-HidNHX6dwN",
        "colab_type": "code",
        "outputId": "a18bec94-cd22-4e47-a17c-be25e889ae1a",
        "colab": {
          "base_uri": "https://localhost:8080/",
          "height": 34
        }
      },
      "source": [
        "df6 = df5[df5['sqft_per_bhk'] >= threshold]\n",
        "df6.shape"
      ],
      "execution_count": 43,
      "outputs": [
        {
          "output_type": "execute_result",
          "data": {
            "text/plain": [
              "(12456, 7)"
            ]
          },
          "metadata": {
            "tags": []
          },
          "execution_count": 43
        }
      ]
    },
    {
      "cell_type": "code",
      "metadata": {
        "id": "sM2PRjpK6qt1",
        "colab_type": "code",
        "outputId": "1ffad60d-ce8c-41de-a8b7-4d7dce89e5c3",
        "colab": {
          "base_uri": "https://localhost:8080/",
          "height": 170
        }
      },
      "source": [
        "df6['price_per_sqft'].describe()"
      ],
      "execution_count": 44,
      "outputs": [
        {
          "output_type": "execute_result",
          "data": {
            "text/plain": [
              "count     12456.000000\n",
              "mean       6308.502826\n",
              "std        4168.127339\n",
              "min         267.829813\n",
              "25%        4210.526316\n",
              "50%        5294.117647\n",
              "75%        6916.666667\n",
              "max      176470.588235\n",
              "Name: price_per_sqft, dtype: float64"
            ]
          },
          "metadata": {
            "tags": []
          },
          "execution_count": 44
        }
      ]
    },
    {
      "cell_type": "code",
      "metadata": {
        "id": "46c-o3Ry66ND",
        "colab_type": "code",
        "colab": {}
      },
      "source": [
        "def remove_outliers(df, attribute):\n",
        "    df_out = pd.DataFrame()\n",
        "    for key, subdf in df.groupby('location'):\n",
        "        m = np.mean(subdf[attribute])\n",
        "        std = np.std(subdf[attribute])\n",
        "        reduced_df = subdf[ (subdf[attribute] > (m - std)) & (subdf[attribute] <= (m + std) ) ]\n",
        "        df_out = pd.concat([df_out, reduced_df], ignore_index = True)\n",
        "    return df_out\n"
      ],
      "execution_count": 0,
      "outputs": []
    },
    {
      "cell_type": "code",
      "metadata": {
        "id": "XjO_HRvk-EV7",
        "colab_type": "code",
        "outputId": "52fd2060-0179-4272-be22-049bf0134def",
        "colab": {
          "base_uri": "https://localhost:8080/",
          "height": 34
        }
      },
      "source": [
        "df7 = remove_outliers(df6, 'price_per_sqft')\n",
        "df7.shape"
      ],
      "execution_count": 46,
      "outputs": [
        {
          "output_type": "execute_result",
          "data": {
            "text/plain": [
              "(10241, 7)"
            ]
          },
          "metadata": {
            "tags": []
          },
          "execution_count": 46
        }
      ]
    },
    {
      "cell_type": "code",
      "metadata": {
        "id": "0JDV_2NOBjbb",
        "colab_type": "code",
        "outputId": "f6e70c71-e804-4c15-bcad-8d3f0756d683",
        "colab": {
          "base_uri": "https://localhost:8080/",
          "height": 419
        }
      },
      "source": [
        "df7[df7['location'] == 'Rajaji Nagar']"
      ],
      "execution_count": 47,
      "outputs": [
        {
          "output_type": "execute_result",
          "data": {
            "text/html": [
              "<div>\n",
              "<style scoped>\n",
              "    .dataframe tbody tr th:only-of-type {\n",
              "        vertical-align: middle;\n",
              "    }\n",
              "\n",
              "    .dataframe tbody tr th {\n",
              "        vertical-align: top;\n",
              "    }\n",
              "\n",
              "    .dataframe thead th {\n",
              "        text-align: right;\n",
              "    }\n",
              "</style>\n",
              "<table border=\"1\" class=\"dataframe\">\n",
              "  <thead>\n",
              "    <tr style=\"text-align: right;\">\n",
              "      <th></th>\n",
              "      <th>location</th>\n",
              "      <th>total_sqft</th>\n",
              "      <th>bath</th>\n",
              "      <th>price</th>\n",
              "      <th>bhk</th>\n",
              "      <th>price_per_sqft</th>\n",
              "      <th>sqft_per_bhk</th>\n",
              "    </tr>\n",
              "  </thead>\n",
              "  <tbody>\n",
              "    <tr>\n",
              "      <th>5725</th>\n",
              "      <td>Rajaji Nagar</td>\n",
              "      <td>1640.0</td>\n",
              "      <td>3.0</td>\n",
              "      <td>229.0</td>\n",
              "      <td>3</td>\n",
              "      <td>13963.414634</td>\n",
              "      <td>546.666667</td>\n",
              "    </tr>\n",
              "    <tr>\n",
              "      <th>5726</th>\n",
              "      <td>Rajaji Nagar</td>\n",
              "      <td>2390.0</td>\n",
              "      <td>3.0</td>\n",
              "      <td>415.0</td>\n",
              "      <td>3</td>\n",
              "      <td>17364.016736</td>\n",
              "      <td>796.666667</td>\n",
              "    </tr>\n",
              "    <tr>\n",
              "      <th>5727</th>\n",
              "      <td>Rajaji Nagar</td>\n",
              "      <td>2390.0</td>\n",
              "      <td>3.0</td>\n",
              "      <td>410.0</td>\n",
              "      <td>3</td>\n",
              "      <td>17154.811715</td>\n",
              "      <td>796.666667</td>\n",
              "    </tr>\n",
              "    <tr>\n",
              "      <th>5728</th>\n",
              "      <td>Rajaji Nagar</td>\n",
              "      <td>1725.0</td>\n",
              "      <td>3.0</td>\n",
              "      <td>200.0</td>\n",
              "      <td>3</td>\n",
              "      <td>11594.202899</td>\n",
              "      <td>575.000000</td>\n",
              "    </tr>\n",
              "    <tr>\n",
              "      <th>5729</th>\n",
              "      <td>Rajaji Nagar</td>\n",
              "      <td>3516.0</td>\n",
              "      <td>4.0</td>\n",
              "      <td>540.0</td>\n",
              "      <td>4</td>\n",
              "      <td>15358.361775</td>\n",
              "      <td>879.000000</td>\n",
              "    </tr>\n",
              "    <tr>\n",
              "      <th>...</th>\n",
              "      <td>...</td>\n",
              "      <td>...</td>\n",
              "      <td>...</td>\n",
              "      <td>...</td>\n",
              "      <td>...</td>\n",
              "      <td>...</td>\n",
              "      <td>...</td>\n",
              "    </tr>\n",
              "    <tr>\n",
              "      <th>5790</th>\n",
              "      <td>Rajaji Nagar</td>\n",
              "      <td>2367.0</td>\n",
              "      <td>3.0</td>\n",
              "      <td>320.0</td>\n",
              "      <td>3</td>\n",
              "      <td>13519.222645</td>\n",
              "      <td>789.000000</td>\n",
              "    </tr>\n",
              "    <tr>\n",
              "      <th>5791</th>\n",
              "      <td>Rajaji Nagar</td>\n",
              "      <td>2409.0</td>\n",
              "      <td>3.0</td>\n",
              "      <td>395.0</td>\n",
              "      <td>3</td>\n",
              "      <td>16396.845164</td>\n",
              "      <td>803.000000</td>\n",
              "    </tr>\n",
              "    <tr>\n",
              "      <th>5792</th>\n",
              "      <td>Rajaji Nagar</td>\n",
              "      <td>1314.0</td>\n",
              "      <td>2.0</td>\n",
              "      <td>225.0</td>\n",
              "      <td>2</td>\n",
              "      <td>17123.287671</td>\n",
              "      <td>657.000000</td>\n",
              "    </tr>\n",
              "    <tr>\n",
              "      <th>5793</th>\n",
              "      <td>Rajaji Nagar</td>\n",
              "      <td>1440.0</td>\n",
              "      <td>2.0</td>\n",
              "      <td>165.0</td>\n",
              "      <td>2</td>\n",
              "      <td>11458.333333</td>\n",
              "      <td>720.000000</td>\n",
              "    </tr>\n",
              "    <tr>\n",
              "      <th>5794</th>\n",
              "      <td>Rajaji Nagar</td>\n",
              "      <td>1640.0</td>\n",
              "      <td>3.0</td>\n",
              "      <td>245.0</td>\n",
              "      <td>3</td>\n",
              "      <td>14939.024390</td>\n",
              "      <td>546.666667</td>\n",
              "    </tr>\n",
              "  </tbody>\n",
              "</table>\n",
              "<p>70 rows × 7 columns</p>\n",
              "</div>"
            ],
            "text/plain": [
              "          location  total_sqft  bath  price  bhk  price_per_sqft  sqft_per_bhk\n",
              "5725  Rajaji Nagar      1640.0   3.0  229.0    3    13963.414634    546.666667\n",
              "5726  Rajaji Nagar      2390.0   3.0  415.0    3    17364.016736    796.666667\n",
              "5727  Rajaji Nagar      2390.0   3.0  410.0    3    17154.811715    796.666667\n",
              "5728  Rajaji Nagar      1725.0   3.0  200.0    3    11594.202899    575.000000\n",
              "5729  Rajaji Nagar      3516.0   4.0  540.0    4    15358.361775    879.000000\n",
              "...            ...         ...   ...    ...  ...             ...           ...\n",
              "5790  Rajaji Nagar      2367.0   3.0  320.0    3    13519.222645    789.000000\n",
              "5791  Rajaji Nagar      2409.0   3.0  395.0    3    16396.845164    803.000000\n",
              "5792  Rajaji Nagar      1314.0   2.0  225.0    2    17123.287671    657.000000\n",
              "5793  Rajaji Nagar      1440.0   2.0  165.0    2    11458.333333    720.000000\n",
              "5794  Rajaji Nagar      1640.0   3.0  245.0    3    14939.024390    546.666667\n",
              "\n",
              "[70 rows x 7 columns]"
            ]
          },
          "metadata": {
            "tags": []
          },
          "execution_count": 47
        }
      ]
    },
    {
      "cell_type": "code",
      "metadata": {
        "id": "GAo-kU3Q-rWB",
        "colab_type": "code",
        "outputId": "84b7dbd6-ef02-4a3f-d6dc-7b1f51ffc82f",
        "colab": {
          "base_uri": "https://localhost:8080/",
          "height": 621
        }
      },
      "source": [
        "def plot_scatter(df,location):\n",
        "    bhk2 = df[(df['location'] == location) & (df['bhk'] == 2)]\n",
        "    bhk3 = df[(df['location'] == location) & (df['bhk'] == 3)]\n",
        "    \n",
        "    matplotlib.rcParams['figure.figsize'] = (15,10)\n",
        "\n",
        "    plt.scatter(bhk2['total_sqft'], bhk2['price'], color = 'blue', label = '2 BHK', s = 50)\n",
        "    plt.scatter(bhk3['total_sqft'], bhk3['price'], marker = '+', color = 'green', label = '3 BHK', s = 50)\n",
        "    # s : scalar or array_like, shape (n, ), optional\n",
        "    # The marker size in points**2. Default is rcParams['lines.markersize'] ** 2\n",
        "    plt.xlabel(\"Total Square Feet Area\")\n",
        "    plt.ylabel(\"Price (Lakh Indian Rupees)\")\n",
        "    plt.title(location)\n",
        "    plt.legend()\n",
        "    \n",
        "plot_scatter(df7, 'Rajaji Nagar')"
      ],
      "execution_count": 48,
      "outputs": [
        {
          "output_type": "display_data",
          "data": {
            "image/png": "[encoded data removed]",
            "text/plain": [
              "<Figure size 1080x720 with 1 Axes>"
            ]
          },
          "metadata": {
            "tags": [],
            "needs_background": "light"
          }
        }
      ]
    },
    {
      "cell_type": "code",
      "metadata": {
        "id": "4gybXY7WBFOj",
        "colab_type": "code",
        "outputId": "f11c7896-6672-4258-98c5-49182dc5f49e",
        "colab": {
          "base_uri": "https://localhost:8080/",
          "height": 621
        }
      },
      "source": [
        "plot_scatter(df7, 'Hebbal')"
      ],
      "execution_count": 49,
      "outputs": [
        {
          "output_type": "display_data",
          "data": {
            "image/png": "[encoded data removed]",
            "text/plain": [
              "<Figure size 1080x720 with 1 Axes>"
            ]
          },
          "metadata": {
            "tags": [],
            "needs_background": "light"
          }
        }
      ]
    },
    {
      "cell_type": "markdown",
      "metadata": {
        "id": "i4jYaaRVEayk",
        "colab_type": "text"
      },
      "source": [
        "So we see for some locations price of 2 bedrooms house is more than 3 bedroom house. This might be due to many reasons but we want to build a generic model so we will remove them."
      ]
    },
    {
      "cell_type": "markdown",
      "metadata": {
        "id": "eNPV6sKXI5Rk",
        "colab_type": "text"
      },
      "source": [
        "We should also remove properties where for same location, the price of (for example) 3 bedroom apartment is less than 2 bedroom apartment (with same square ft area). What we will do is for a given location, we will build a dictionary of stats per bhk, i.e.\n",
        "```\n",
        "{\n",
        "    '1' : {\n",
        "        'mean': 4000,\n",
        "        'std: 2000,\n",
        "        'count': 34\n",
        "    },\n",
        "    '2' : {\n",
        "        'mean': 4300,\n",
        "        'std: 2300,\n",
        "        'count': 22\n",
        "    },    \n",
        "}\n",
        "```\n",
        "Now we can remove those 2 BHK apartments whose price_per_sqft is less than mean price_per_sqft of 1 BHK apartment"
      ]
    },
    {
      "cell_type": "code",
      "metadata": {
        "id": "7irICQKaETGl",
        "colab_type": "code",
        "colab": {
          "base_uri": "https://localhost:8080/",
          "height": 419
        },
        "outputId": "96486c42-a113-4451-a36e-efcde9885f52"
      },
      "source": [
        "def remove_bhk_outliers(df):\n",
        "    exclude_indices = np.array([])\n",
        "    for location, location_df in df.groupby('location'):\n",
        "        bhk_stats = {}\n",
        "        for bhk, bhk_df in location_df.groupby('bhk'):\n",
        "            bhk_stats[bhk] = {\n",
        "                'mean': np.mean(bhk_df['price_per_sqft']),\n",
        "                'std': np.std(bhk_df['price_per_sqft']),\n",
        "                'count': bhk_df.shape[0]\n",
        "            }\n",
        "        for bhk, bhk_df in location_df.groupby('bhk'):\n",
        "            stats = bhk_stats.get(bhk-1)\n",
        "            if stats and stats['count']>5:\n",
        "                exclude_indices = np.append(exclude_indices, bhk_df[bhk_df['price_per_sqft'] < (stats['mean']) ].index.values)\n",
        "    return df.drop(exclude_indices,axis='index')\n",
        "\n",
        "df8 = remove_bhk_outliers(df7)\n",
        "df8"
      ],
      "execution_count": 50,
      "outputs": [
        {
          "output_type": "execute_result",
          "data": {
            "text/html": [
              "<div>\n",
              "<style scoped>\n",
              "    .dataframe tbody tr th:only-of-type {\n",
              "        vertical-align: middle;\n",
              "    }\n",
              "\n",
              "    .dataframe tbody tr th {\n",
              "        vertical-align: top;\n",
              "    }\n",
              "\n",
              "    .dataframe thead th {\n",
              "        text-align: right;\n",
              "    }\n",
              "</style>\n",
              "<table border=\"1\" class=\"dataframe\">\n",
              "  <thead>\n",
              "    <tr style=\"text-align: right;\">\n",
              "      <th></th>\n",
              "      <th>location</th>\n",
              "      <th>total_sqft</th>\n",
              "      <th>bath</th>\n",
              "      <th>price</th>\n",
              "      <th>bhk</th>\n",
              "      <th>price_per_sqft</th>\n",
              "      <th>sqft_per_bhk</th>\n",
              "    </tr>\n",
              "  </thead>\n",
              "  <tbody>\n",
              "    <tr>\n",
              "      <th>0</th>\n",
              "      <td>1st Block Jayanagar</td>\n",
              "      <td>2850.0</td>\n",
              "      <td>4.0</td>\n",
              "      <td>428.0</td>\n",
              "      <td>4</td>\n",
              "      <td>15017.543860</td>\n",
              "      <td>712.500000</td>\n",
              "    </tr>\n",
              "    <tr>\n",
              "      <th>1</th>\n",
              "      <td>1st Block Jayanagar</td>\n",
              "      <td>1630.0</td>\n",
              "      <td>3.0</td>\n",
              "      <td>194.0</td>\n",
              "      <td>3</td>\n",
              "      <td>11901.840491</td>\n",
              "      <td>543.333333</td>\n",
              "    </tr>\n",
              "    <tr>\n",
              "      <th>2</th>\n",
              "      <td>1st Block Jayanagar</td>\n",
              "      <td>1875.0</td>\n",
              "      <td>2.0</td>\n",
              "      <td>235.0</td>\n",
              "      <td>3</td>\n",
              "      <td>12533.333333</td>\n",
              "      <td>625.000000</td>\n",
              "    </tr>\n",
              "    <tr>\n",
              "      <th>3</th>\n",
              "      <td>1st Block Jayanagar</td>\n",
              "      <td>1200.0</td>\n",
              "      <td>2.0</td>\n",
              "      <td>130.0</td>\n",
              "      <td>3</td>\n",
              "      <td>10833.333333</td>\n",
              "      <td>400.000000</td>\n",
              "    </tr>\n",
              "    <tr>\n",
              "      <th>4</th>\n",
              "      <td>1st Block Jayanagar</td>\n",
              "      <td>1235.0</td>\n",
              "      <td>2.0</td>\n",
              "      <td>148.0</td>\n",
              "      <td>2</td>\n",
              "      <td>11983.805668</td>\n",
              "      <td>617.500000</td>\n",
              "    </tr>\n",
              "    <tr>\n",
              "      <th>...</th>\n",
              "      <td>...</td>\n",
              "      <td>...</td>\n",
              "      <td>...</td>\n",
              "      <td>...</td>\n",
              "      <td>...</td>\n",
              "      <td>...</td>\n",
              "      <td>...</td>\n",
              "    </tr>\n",
              "    <tr>\n",
              "      <th>10232</th>\n",
              "      <td>other</td>\n",
              "      <td>1200.0</td>\n",
              "      <td>2.0</td>\n",
              "      <td>70.0</td>\n",
              "      <td>2</td>\n",
              "      <td>5833.333333</td>\n",
              "      <td>600.000000</td>\n",
              "    </tr>\n",
              "    <tr>\n",
              "      <th>10233</th>\n",
              "      <td>other</td>\n",
              "      <td>1800.0</td>\n",
              "      <td>1.0</td>\n",
              "      <td>200.0</td>\n",
              "      <td>1</td>\n",
              "      <td>11111.111111</td>\n",
              "      <td>1800.000000</td>\n",
              "    </tr>\n",
              "    <tr>\n",
              "      <th>10236</th>\n",
              "      <td>other</td>\n",
              "      <td>1353.0</td>\n",
              "      <td>2.0</td>\n",
              "      <td>110.0</td>\n",
              "      <td>2</td>\n",
              "      <td>8130.081301</td>\n",
              "      <td>676.500000</td>\n",
              "    </tr>\n",
              "    <tr>\n",
              "      <th>10237</th>\n",
              "      <td>other</td>\n",
              "      <td>812.0</td>\n",
              "      <td>1.0</td>\n",
              "      <td>26.0</td>\n",
              "      <td>1</td>\n",
              "      <td>3201.970443</td>\n",
              "      <td>812.000000</td>\n",
              "    </tr>\n",
              "    <tr>\n",
              "      <th>10240</th>\n",
              "      <td>other</td>\n",
              "      <td>3600.0</td>\n",
              "      <td>5.0</td>\n",
              "      <td>400.0</td>\n",
              "      <td>4</td>\n",
              "      <td>11111.111111</td>\n",
              "      <td>900.000000</td>\n",
              "    </tr>\n",
              "  </tbody>\n",
              "</table>\n",
              "<p>7329 rows × 7 columns</p>\n",
              "</div>"
            ],
            "text/plain": [
              "                  location  total_sqft  bath  ...  bhk  price_per_sqft  sqft_per_bhk\n",
              "0      1st Block Jayanagar      2850.0   4.0  ...    4    15017.543860    712.500000\n",
              "1      1st Block Jayanagar      1630.0   3.0  ...    3    11901.840491    543.333333\n",
              "2      1st Block Jayanagar      1875.0   2.0  ...    3    12533.333333    625.000000\n",
              "3      1st Block Jayanagar      1200.0   2.0  ...    3    10833.333333    400.000000\n",
              "4      1st Block Jayanagar      1235.0   2.0  ...    2    11983.805668    617.500000\n",
              "...                    ...         ...   ...  ...  ...             ...           ...\n",
              "10232                other      1200.0   2.0  ...    2     5833.333333    600.000000\n",
              "10233                other      1800.0   1.0  ...    1    11111.111111   1800.000000\n",
              "10236                other      1353.0   2.0  ...    2     8130.081301    676.500000\n",
              "10237                other       812.0   1.0  ...    1     3201.970443    812.000000\n",
              "10240                other      3600.0   5.0  ...    4    11111.111111    900.000000\n",
              "\n",
              "[7329 rows x 7 columns]"
            ]
          },
          "metadata": {
            "tags": []
          },
          "execution_count": 50
        }
      ]
    },
    {
      "cell_type": "code",
      "metadata": {
        "id": "GbMWeevDV068",
        "colab_type": "code",
        "colab": {
          "base_uri": "https://localhost:8080/",
          "height": 621
        },
        "outputId": "bd3f25b2-a900-4fe1-c33c-c0894da5e5b2"
      },
      "source": [
        "plot_scatter(df8, 'Hebbal')"
      ],
      "execution_count": 51,
      "outputs": [
        {
          "output_type": "display_data",
          "data": {
            "image/png": "[encoded data removed]",
            "text/plain": [
              "<Figure size 1080x720 with 1 Axes>"
            ]
          },
          "metadata": {
            "tags": [],
            "needs_background": "light"
          }
        }
      ]
    },
    {
      "cell_type": "markdown",
      "metadata": {
        "id": "rnnbKNlRV_RE",
        "colab_type": "text"
      },
      "source": [
        "So now as we can see those anomaly points are removed"
      ]
    },
    {
      "cell_type": "code",
      "metadata": {
        "id": "mUSXprrMV-Dc",
        "colab_type": "code",
        "colab": {
          "base_uri": "https://localhost:8080/",
          "height": 623
        },
        "outputId": "58b4509e-b016-419c-fad2-99be28f321db"
      },
      "source": [
        "plt.hist(df8['price_per_sqft'], rwidth = 0.9)\n",
        "plt.xlabel('price per sqft')\n",
        "plt.ylabel('count')"
      ],
      "execution_count": 52,
      "outputs": [
        {
          "output_type": "execute_result",
          "data": {
            "text/plain": [
              "Text(0, 0.5, 'count')"
            ]
          },
          "metadata": {
            "tags": []
          },
          "execution_count": 52
        },
        {
          "output_type": "display_data",
          "data": {
            "image/png": "[encoded data removed]",
            "text/plain": [
              "<Figure size 1080x720 with 1 Axes>"
            ]
          },
          "metadata": {
            "tags": [],
            "needs_background": "light"
          }
        }
      ]
    },
    {
      "cell_type": "code",
      "metadata": {
        "id": "OiSpjn0kXPR9",
        "colab_type": "code",
        "colab": {
          "base_uri": "https://localhost:8080/",
          "height": 34
        },
        "outputId": "50a6760e-5a51-4a4c-9b1a-b4ef7a5e54ac"
      },
      "source": [
        "df8['bath'].unique()"
      ],
      "execution_count": 53,
      "outputs": [
        {
          "output_type": "execute_result",
          "data": {
            "text/plain": [
              "array([ 4.,  3.,  2.,  5.,  8.,  1.,  6.,  7.,  9., 12., 16., 13.])"
            ]
          },
          "metadata": {
            "tags": []
          },
          "execution_count": 53
        }
      ]
    },
    {
      "cell_type": "code",
      "metadata": {
        "id": "0XCMjMWgX6yr",
        "colab_type": "code",
        "colab": {
          "base_uri": "https://localhost:8080/",
          "height": 204
        },
        "outputId": "f3178f8e-334a-4583-80a0-f5e52e4961a4"
      },
      "source": [
        "df8[df8['bath'] > 10]"
      ],
      "execution_count": 54,
      "outputs": [
        {
          "output_type": "execute_result",
          "data": {
            "text/html": [
              "<div>\n",
              "<style scoped>\n",
              "    .dataframe tbody tr th:only-of-type {\n",
              "        vertical-align: middle;\n",
              "    }\n",
              "\n",
              "    .dataframe tbody tr th {\n",
              "        vertical-align: top;\n",
              "    }\n",
              "\n",
              "    .dataframe thead th {\n",
              "        text-align: right;\n",
              "    }\n",
              "</style>\n",
              "<table border=\"1\" class=\"dataframe\">\n",
              "  <thead>\n",
              "    <tr style=\"text-align: right;\">\n",
              "      <th></th>\n",
              "      <th>location</th>\n",
              "      <th>total_sqft</th>\n",
              "      <th>bath</th>\n",
              "      <th>price</th>\n",
              "      <th>bhk</th>\n",
              "      <th>price_per_sqft</th>\n",
              "      <th>sqft_per_bhk</th>\n",
              "    </tr>\n",
              "  </thead>\n",
              "  <tbody>\n",
              "    <tr>\n",
              "      <th>5277</th>\n",
              "      <td>Neeladri Nagar</td>\n",
              "      <td>4000.0</td>\n",
              "      <td>12.0</td>\n",
              "      <td>160.0</td>\n",
              "      <td>10</td>\n",
              "      <td>4000.000000</td>\n",
              "      <td>400.000000</td>\n",
              "    </tr>\n",
              "    <tr>\n",
              "      <th>8486</th>\n",
              "      <td>other</td>\n",
              "      <td>12000.0</td>\n",
              "      <td>12.0</td>\n",
              "      <td>525.0</td>\n",
              "      <td>10</td>\n",
              "      <td>4375.000000</td>\n",
              "      <td>1200.000000</td>\n",
              "    </tr>\n",
              "    <tr>\n",
              "      <th>8575</th>\n",
              "      <td>other</td>\n",
              "      <td>10000.0</td>\n",
              "      <td>16.0</td>\n",
              "      <td>550.0</td>\n",
              "      <td>16</td>\n",
              "      <td>5500.000000</td>\n",
              "      <td>625.000000</td>\n",
              "    </tr>\n",
              "    <tr>\n",
              "      <th>9308</th>\n",
              "      <td>other</td>\n",
              "      <td>6000.0</td>\n",
              "      <td>12.0</td>\n",
              "      <td>150.0</td>\n",
              "      <td>11</td>\n",
              "      <td>2500.000000</td>\n",
              "      <td>545.454545</td>\n",
              "    </tr>\n",
              "    <tr>\n",
              "      <th>9639</th>\n",
              "      <td>other</td>\n",
              "      <td>5425.0</td>\n",
              "      <td>13.0</td>\n",
              "      <td>275.0</td>\n",
              "      <td>13</td>\n",
              "      <td>5069.124424</td>\n",
              "      <td>417.307692</td>\n",
              "    </tr>\n",
              "  </tbody>\n",
              "</table>\n",
              "</div>"
            ],
            "text/plain": [
              "            location  total_sqft  bath  ...  bhk  price_per_sqft  sqft_per_bhk\n",
              "5277  Neeladri Nagar      4000.0  12.0  ...   10     4000.000000    400.000000\n",
              "8486           other     12000.0  12.0  ...   10     4375.000000   1200.000000\n",
              "8575           other     10000.0  16.0  ...   16     5500.000000    625.000000\n",
              "9308           other      6000.0  12.0  ...   11     2500.000000    545.454545\n",
              "9639           other      5425.0  13.0  ...   13     5069.124424    417.307692\n",
              "\n",
              "[5 rows x 7 columns]"
            ]
          },
          "metadata": {
            "tags": []
          },
          "execution_count": 54
        }
      ]
    },
    {
      "cell_type": "code",
      "metadata": {
        "id": "uak8RrhLYCZX",
        "colab_type": "code",
        "colab": {
          "base_uri": "https://localhost:8080/",
          "height": 626
        },
        "outputId": "bbc064d3-dc9d-450f-a281-3fbdce4ebb80"
      },
      "source": [
        "plt.hist(df8['bath'], rwidth = 0.9)\n",
        "plt.xlabel('no. of bathrooms')\n",
        "plt.ylabel('count')"
      ],
      "execution_count": 55,
      "outputs": [
        {
          "output_type": "execute_result",
          "data": {
            "text/plain": [
              "Text(0, 0.5, 'count')"
            ]
          },
          "metadata": {
            "tags": []
          },
          "execution_count": 55
        },
        {
          "output_type": "display_data",
          "data": {
            "image/png": "[encoded data removed]",
            "text/plain": [
              "<Figure size 1080x720 with 1 Axes>"
            ]
          },
          "metadata": {
            "tags": [],
            "needs_background": "light"
          }
        }
      ]
    },
    {
      "cell_type": "markdown",
      "metadata": {
        "id": "kZmxrHI-YppT",
        "colab_type": "text"
      },
      "source": [
        "So let's see it is unlikely to have 4 bathrooms in a 2bhk house. So we need to remove those outliers. So we select a criteria that if no. of bathrooms > bhk+2, they are outliers and we remove them "
      ]
    },
    {
      "cell_type": "code",
      "metadata": {
        "id": "Jl4nCcmAYatG",
        "colab_type": "code",
        "colab": {
          "base_uri": "https://localhost:8080/",
          "height": 173
        },
        "outputId": "94000cb6-58e6-4020-df5e-63b79267c675"
      },
      "source": [
        "df8[df8['bath'] > (df8['bhk'] + 2)]"
      ],
      "execution_count": 56,
      "outputs": [
        {
          "output_type": "execute_result",
          "data": {
            "text/html": [
              "<div>\n",
              "<style scoped>\n",
              "    .dataframe tbody tr th:only-of-type {\n",
              "        vertical-align: middle;\n",
              "    }\n",
              "\n",
              "    .dataframe tbody tr th {\n",
              "        vertical-align: top;\n",
              "    }\n",
              "\n",
              "    .dataframe thead th {\n",
              "        text-align: right;\n",
              "    }\n",
              "</style>\n",
              "<table border=\"1\" class=\"dataframe\">\n",
              "  <thead>\n",
              "    <tr style=\"text-align: right;\">\n",
              "      <th></th>\n",
              "      <th>location</th>\n",
              "      <th>total_sqft</th>\n",
              "      <th>bath</th>\n",
              "      <th>price</th>\n",
              "      <th>bhk</th>\n",
              "      <th>price_per_sqft</th>\n",
              "      <th>sqft_per_bhk</th>\n",
              "    </tr>\n",
              "  </thead>\n",
              "  <tbody>\n",
              "    <tr>\n",
              "      <th>1626</th>\n",
              "      <td>Chikkabanavar</td>\n",
              "      <td>2460.0</td>\n",
              "      <td>7.0</td>\n",
              "      <td>80.0</td>\n",
              "      <td>4</td>\n",
              "      <td>3252.032520</td>\n",
              "      <td>615.000000</td>\n",
              "    </tr>\n",
              "    <tr>\n",
              "      <th>5238</th>\n",
              "      <td>Nagasandra</td>\n",
              "      <td>7000.0</td>\n",
              "      <td>8.0</td>\n",
              "      <td>450.0</td>\n",
              "      <td>4</td>\n",
              "      <td>6428.571429</td>\n",
              "      <td>1750.000000</td>\n",
              "    </tr>\n",
              "    <tr>\n",
              "      <th>6711</th>\n",
              "      <td>Thanisandra</td>\n",
              "      <td>1806.0</td>\n",
              "      <td>6.0</td>\n",
              "      <td>116.0</td>\n",
              "      <td>3</td>\n",
              "      <td>6423.034330</td>\n",
              "      <td>602.000000</td>\n",
              "    </tr>\n",
              "    <tr>\n",
              "      <th>8411</th>\n",
              "      <td>other</td>\n",
              "      <td>11338.0</td>\n",
              "      <td>9.0</td>\n",
              "      <td>1000.0</td>\n",
              "      <td>6</td>\n",
              "      <td>8819.897689</td>\n",
              "      <td>1889.666667</td>\n",
              "    </tr>\n",
              "  </tbody>\n",
              "</table>\n",
              "</div>"
            ],
            "text/plain": [
              "           location  total_sqft  bath  ...  bhk  price_per_sqft  sqft_per_bhk\n",
              "1626  Chikkabanavar      2460.0   7.0  ...    4     3252.032520    615.000000\n",
              "5238     Nagasandra      7000.0   8.0  ...    4     6428.571429   1750.000000\n",
              "6711    Thanisandra      1806.0   6.0  ...    3     6423.034330    602.000000\n",
              "8411          other     11338.0   9.0  ...    6     8819.897689   1889.666667\n",
              "\n",
              "[4 rows x 7 columns]"
            ]
          },
          "metadata": {
            "tags": []
          },
          "execution_count": 56
        }
      ]
    },
    {
      "cell_type": "code",
      "metadata": {
        "id": "R1v37iVrZCtP",
        "colab_type": "code",
        "colab": {
          "base_uri": "https://localhost:8080/",
          "height": 34
        },
        "outputId": "1aecbf0a-02ce-495c-9c03-88af0051b8c7"
      },
      "source": [
        "df9 = df8[df8['bath'] < (df8['bhk'] + 2)]\n",
        "df9.shape"
      ],
      "execution_count": 57,
      "outputs": [
        {
          "output_type": "execute_result",
          "data": {
            "text/plain": [
              "(7251, 7)"
            ]
          },
          "metadata": {
            "tags": []
          },
          "execution_count": 57
        }
      ]
    },
    {
      "cell_type": "code",
      "metadata": {
        "id": "qutjO4eKZNmY",
        "colab_type": "code",
        "colab": {
          "base_uri": "https://localhost:8080/",
          "height": 204
        },
        "outputId": "80977e0b-6060-4cfe-ab41-a9ea36957639"
      },
      "source": [
        "df10 = df9.drop(['price_per_sqft', 'sqft_per_bhk'], axis = 'columns')\n",
        "df10.head()"
      ],
      "execution_count": 58,
      "outputs": [
        {
          "output_type": "execute_result",
          "data": {
            "text/html": [
              "<div>\n",
              "<style scoped>\n",
              "    .dataframe tbody tr th:only-of-type {\n",
              "        vertical-align: middle;\n",
              "    }\n",
              "\n",
              "    .dataframe tbody tr th {\n",
              "        vertical-align: top;\n",
              "    }\n",
              "\n",
              "    .dataframe thead th {\n",
              "        text-align: right;\n",
              "    }\n",
              "</style>\n",
              "<table border=\"1\" class=\"dataframe\">\n",
              "  <thead>\n",
              "    <tr style=\"text-align: right;\">\n",
              "      <th></th>\n",
              "      <th>location</th>\n",
              "      <th>total_sqft</th>\n",
              "      <th>bath</th>\n",
              "      <th>price</th>\n",
              "      <th>bhk</th>\n",
              "    </tr>\n",
              "  </thead>\n",
              "  <tbody>\n",
              "    <tr>\n",
              "      <th>0</th>\n",
              "      <td>1st Block Jayanagar</td>\n",
              "      <td>2850.0</td>\n",
              "      <td>4.0</td>\n",
              "      <td>428.0</td>\n",
              "      <td>4</td>\n",
              "    </tr>\n",
              "    <tr>\n",
              "      <th>1</th>\n",
              "      <td>1st Block Jayanagar</td>\n",
              "      <td>1630.0</td>\n",
              "      <td>3.0</td>\n",
              "      <td>194.0</td>\n",
              "      <td>3</td>\n",
              "    </tr>\n",
              "    <tr>\n",
              "      <th>2</th>\n",
              "      <td>1st Block Jayanagar</td>\n",
              "      <td>1875.0</td>\n",
              "      <td>2.0</td>\n",
              "      <td>235.0</td>\n",
              "      <td>3</td>\n",
              "    </tr>\n",
              "    <tr>\n",
              "      <th>3</th>\n",
              "      <td>1st Block Jayanagar</td>\n",
              "      <td>1200.0</td>\n",
              "      <td>2.0</td>\n",
              "      <td>130.0</td>\n",
              "      <td>3</td>\n",
              "    </tr>\n",
              "    <tr>\n",
              "      <th>4</th>\n",
              "      <td>1st Block Jayanagar</td>\n",
              "      <td>1235.0</td>\n",
              "      <td>2.0</td>\n",
              "      <td>148.0</td>\n",
              "      <td>2</td>\n",
              "    </tr>\n",
              "  </tbody>\n",
              "</table>\n",
              "</div>"
            ],
            "text/plain": [
              "              location  total_sqft  bath  price  bhk\n",
              "0  1st Block Jayanagar      2850.0   4.0  428.0    4\n",
              "1  1st Block Jayanagar      1630.0   3.0  194.0    3\n",
              "2  1st Block Jayanagar      1875.0   2.0  235.0    3\n",
              "3  1st Block Jayanagar      1200.0   2.0  130.0    3\n",
              "4  1st Block Jayanagar      1235.0   2.0  148.0    2"
            ]
          },
          "metadata": {
            "tags": []
          },
          "execution_count": 58
        }
      ]
    },
    {
      "cell_type": "markdown",
      "metadata": {
        "id": "gGLkwS0gZ0Oy",
        "colab_type": "text"
      },
      "source": [
        "We have cleaned the data, and now it's good enough for our use. Outlier removal process ends here."
      ]
    },
    {
      "cell_type": "markdown",
      "metadata": {
        "id": "ZBjb7cDmZ5jC",
        "colab_type": "text"
      },
      "source": [
        "Now let's proceed with building model"
      ]
    },
    {
      "cell_type": "code",
      "metadata": {
        "id": "slZNZ4PDZfx6",
        "colab_type": "code",
        "colab": {
          "base_uri": "https://localhost:8080/",
          "height": 304
        },
        "outputId": "facc9694-2f96-4ff0-8c34-7f1490f07b1f"
      },
      "source": [
        "# one hot encoding the location data because our model cannot understand text data\n",
        "dummies = pd.get_dummies(df10['location'])\n",
        "dummies.head()"
      ],
      "execution_count": 59,
      "outputs": [
        {
          "output_type": "execute_result",
          "data": {
            "text/html": [
              "<div>\n",
              "<style scoped>\n",
              "    .dataframe tbody tr th:only-of-type {\n",
              "        vertical-align: middle;\n",
              "    }\n",
              "\n",
              "    .dataframe tbody tr th {\n",
              "        vertical-align: top;\n",
              "    }\n",
              "\n",
              "    .dataframe thead th {\n",
              "        text-align: right;\n",
              "    }\n",
              "</style>\n",
              "<table border=\"1\" class=\"dataframe\">\n",
              "  <thead>\n",
              "    <tr style=\"text-align: right;\">\n",
              "      <th></th>\n",
              "      <th>1st Block Jayanagar</th>\n",
              "      <th>1st Phase JP Nagar</th>\n",
              "      <th>2nd Phase Judicial Layout</th>\n",
              "      <th>2nd Stage Nagarbhavi</th>\n",
              "      <th>5th Block Hbr Layout</th>\n",
              "      <th>5th Phase JP Nagar</th>\n",
              "      <th>6th Phase JP Nagar</th>\n",
              "      <th>7th Phase JP Nagar</th>\n",
              "      <th>8th Phase JP Nagar</th>\n",
              "      <th>9th Phase JP Nagar</th>\n",
              "      <th>AECS Layout</th>\n",
              "      <th>Abbigere</th>\n",
              "      <th>Akshaya Nagar</th>\n",
              "      <th>Ambalipura</th>\n",
              "      <th>Ambedkar Nagar</th>\n",
              "      <th>Amruthahalli</th>\n",
              "      <th>Anandapura</th>\n",
              "      <th>Ananth Nagar</th>\n",
              "      <th>Anekal</th>\n",
              "      <th>Anjanapura</th>\n",
              "      <th>Ardendale</th>\n",
              "      <th>Arekere</th>\n",
              "      <th>Attibele</th>\n",
              "      <th>BEML Layout</th>\n",
              "      <th>BTM 2nd Stage</th>\n",
              "      <th>BTM Layout</th>\n",
              "      <th>Babusapalaya</th>\n",
              "      <th>Badavala Nagar</th>\n",
              "      <th>Balagere</th>\n",
              "      <th>Banashankari</th>\n",
              "      <th>Banashankari Stage II</th>\n",
              "      <th>Banashankari Stage III</th>\n",
              "      <th>Banashankari Stage V</th>\n",
              "      <th>Banashankari Stage VI</th>\n",
              "      <th>Banaswadi</th>\n",
              "      <th>Banjara Layout</th>\n",
              "      <th>Bannerghatta</th>\n",
              "      <th>Bannerghatta Road</th>\n",
              "      <th>Basavangudi</th>\n",
              "      <th>Basaveshwara Nagar</th>\n",
              "      <th>...</th>\n",
              "      <th>Sarakki Nagar</th>\n",
              "      <th>Sarjapur</th>\n",
              "      <th>Sarjapur  Road</th>\n",
              "      <th>Sarjapura - Attibele Road</th>\n",
              "      <th>Sector 2 HSR Layout</th>\n",
              "      <th>Sector 7 HSR Layout</th>\n",
              "      <th>Seegehalli</th>\n",
              "      <th>Shampura</th>\n",
              "      <th>Shivaji Nagar</th>\n",
              "      <th>Singasandra</th>\n",
              "      <th>Somasundara Palya</th>\n",
              "      <th>Sompura</th>\n",
              "      <th>Sonnenahalli</th>\n",
              "      <th>Subramanyapura</th>\n",
              "      <th>Sultan Palaya</th>\n",
              "      <th>TC Palaya</th>\n",
              "      <th>Talaghattapura</th>\n",
              "      <th>Thanisandra</th>\n",
              "      <th>Thigalarapalya</th>\n",
              "      <th>Thubarahalli</th>\n",
              "      <th>Thyagaraja Nagar</th>\n",
              "      <th>Tindlu</th>\n",
              "      <th>Tumkur Road</th>\n",
              "      <th>Ulsoor</th>\n",
              "      <th>Uttarahalli</th>\n",
              "      <th>Varthur</th>\n",
              "      <th>Varthur Road</th>\n",
              "      <th>Vasanthapura</th>\n",
              "      <th>Vidyaranyapura</th>\n",
              "      <th>Vijayanagar</th>\n",
              "      <th>Vishveshwarya Layout</th>\n",
              "      <th>Vishwapriya Layout</th>\n",
              "      <th>Vittasandra</th>\n",
              "      <th>Whitefield</th>\n",
              "      <th>Yelachenahalli</th>\n",
              "      <th>Yelahanka</th>\n",
              "      <th>Yelahanka New Town</th>\n",
              "      <th>Yelenahalli</th>\n",
              "      <th>Yeshwanthpur</th>\n",
              "      <th>other</th>\n",
              "    </tr>\n",
              "  </thead>\n",
              "  <tbody>\n",
              "    <tr>\n",
              "      <th>0</th>\n",
              "      <td>1</td>\n",
              "      <td>0</td>\n",
              "      <td>0</td>\n",
              "      <td>0</td>\n",
              "      <td>0</td>\n",
              "      <td>0</td>\n",
              "      <td>0</td>\n",
              "      <td>0</td>\n",
              "      <td>0</td>\n",
              "      <td>0</td>\n",
              "      <td>0</td>\n",
              "      <td>0</td>\n",
              "      <td>0</td>\n",
              "      <td>0</td>\n",
              "      <td>0</td>\n",
              "      <td>0</td>\n",
              "      <td>0</td>\n",
              "      <td>0</td>\n",
              "      <td>0</td>\n",
              "      <td>0</td>\n",
              "      <td>0</td>\n",
              "      <td>0</td>\n",
              "      <td>0</td>\n",
              "      <td>0</td>\n",
              "      <td>0</td>\n",
              "      <td>0</td>\n",
              "      <td>0</td>\n",
              "      <td>0</td>\n",
              "      <td>0</td>\n",
              "      <td>0</td>\n",
              "      <td>0</td>\n",
              "      <td>0</td>\n",
              "      <td>0</td>\n",
              "      <td>0</td>\n",
              "      <td>0</td>\n",
              "      <td>0</td>\n",
              "      <td>0</td>\n",
              "      <td>0</td>\n",
              "      <td>0</td>\n",
              "      <td>0</td>\n",
              "      <td>...</td>\n",
              "      <td>0</td>\n",
              "      <td>0</td>\n",
              "      <td>0</td>\n",
              "      <td>0</td>\n",
              "      <td>0</td>\n",
              "      <td>0</td>\n",
              "      <td>0</td>\n",
              "      <td>0</td>\n",
              "      <td>0</td>\n",
              "      <td>0</td>\n",
              "      <td>0</td>\n",
              "      <td>0</td>\n",
              "      <td>0</td>\n",
              "      <td>0</td>\n",
              "      <td>0</td>\n",
              "      <td>0</td>\n",
              "      <td>0</td>\n",
              "      <td>0</td>\n",
              "      <td>0</td>\n",
              "      <td>0</td>\n",
              "      <td>0</td>\n",
              "      <td>0</td>\n",
              "      <td>0</td>\n",
              "      <td>0</td>\n",
              "      <td>0</td>\n",
              "      <td>0</td>\n",
              "      <td>0</td>\n",
              "      <td>0</td>\n",
              "      <td>0</td>\n",
              "      <td>0</td>\n",
              "      <td>0</td>\n",
              "      <td>0</td>\n",
              "      <td>0</td>\n",
              "      <td>0</td>\n",
              "      <td>0</td>\n",
              "      <td>0</td>\n",
              "      <td>0</td>\n",
              "      <td>0</td>\n",
              "      <td>0</td>\n",
              "      <td>0</td>\n",
              "    </tr>\n",
              "    <tr>\n",
              "      <th>1</th>\n",
              "      <td>1</td>\n",
              "      <td>0</td>\n",
              "      <td>0</td>\n",
              "      <td>0</td>\n",
              "      <td>0</td>\n",
              "      <td>0</td>\n",
              "      <td>0</td>\n",
              "      <td>0</td>\n",
              "      <td>0</td>\n",
              "      <td>0</td>\n",
              "      <td>0</td>\n",
              "      <td>0</td>\n",
              "      <td>0</td>\n",
              "      <td>0</td>\n",
              "      <td>0</td>\n",
              "      <td>0</td>\n",
              "      <td>0</td>\n",
              "      <td>0</td>\n",
              "      <td>0</td>\n",
              "      <td>0</td>\n",
              "      <td>0</td>\n",
              "      <td>0</td>\n",
              "      <td>0</td>\n",
              "      <td>0</td>\n",
              "      <td>0</td>\n",
              "      <td>0</td>\n",
              "      <td>0</td>\n",
              "      <td>0</td>\n",
              "      <td>0</td>\n",
              "      <td>0</td>\n",
              "      <td>0</td>\n",
              "      <td>0</td>\n",
              "      <td>0</td>\n",
              "      <td>0</td>\n",
              "      <td>0</td>\n",
              "      <td>0</td>\n",
              "      <td>0</td>\n",
              "      <td>0</td>\n",
              "      <td>0</td>\n",
              "      <td>0</td>\n",
              "      <td>...</td>\n",
              "      <td>0</td>\n",
              "      <td>0</td>\n",
              "      <td>0</td>\n",
              "      <td>0</td>\n",
              "      <td>0</td>\n",
              "      <td>0</td>\n",
              "      <td>0</td>\n",
              "      <td>0</td>\n",
              "      <td>0</td>\n",
              "      <td>0</td>\n",
              "      <td>0</td>\n",
              "      <td>0</td>\n",
              "      <td>0</td>\n",
              "      <td>0</td>\n",
              "      <td>0</td>\n",
              "      <td>0</td>\n",
              "      <td>0</td>\n",
              "      <td>0</td>\n",
              "      <td>0</td>\n",
              "      <td>0</td>\n",
              "      <td>0</td>\n",
              "      <td>0</td>\n",
              "      <td>0</td>\n",
              "      <td>0</td>\n",
              "      <td>0</td>\n",
              "      <td>0</td>\n",
              "      <td>0</td>\n",
              "      <td>0</td>\n",
              "      <td>0</td>\n",
              "      <td>0</td>\n",
              "      <td>0</td>\n",
              "      <td>0</td>\n",
              "      <td>0</td>\n",
              "      <td>0</td>\n",
              "      <td>0</td>\n",
              "      <td>0</td>\n",
              "      <td>0</td>\n",
              "      <td>0</td>\n",
              "      <td>0</td>\n",
              "      <td>0</td>\n",
              "    </tr>\n",
              "    <tr>\n",
              "      <th>2</th>\n",
              "      <td>1</td>\n",
              "      <td>0</td>\n",
              "      <td>0</td>\n",
              "      <td>0</td>\n",
              "      <td>0</td>\n",
              "      <td>0</td>\n",
              "      <td>0</td>\n",
              "      <td>0</td>\n",
              "      <td>0</td>\n",
              "      <td>0</td>\n",
              "      <td>0</td>\n",
              "      <td>0</td>\n",
              "      <td>0</td>\n",
              "      <td>0</td>\n",
              "      <td>0</td>\n",
              "      <td>0</td>\n",
              "      <td>0</td>\n",
              "      <td>0</td>\n",
              "      <td>0</td>\n",
              "      <td>0</td>\n",
              "      <td>0</td>\n",
              "      <td>0</td>\n",
              "      <td>0</td>\n",
              "      <td>0</td>\n",
              "      <td>0</td>\n",
              "      <td>0</td>\n",
              "      <td>0</td>\n",
              "      <td>0</td>\n",
              "      <td>0</td>\n",
              "      <td>0</td>\n",
              "      <td>0</td>\n",
              "      <td>0</td>\n",
              "      <td>0</td>\n",
              "      <td>0</td>\n",
              "      <td>0</td>\n",
              "      <td>0</td>\n",
              "      <td>0</td>\n",
              "      <td>0</td>\n",
              "      <td>0</td>\n",
              "      <td>0</td>\n",
              "      <td>...</td>\n",
              "      <td>0</td>\n",
              "      <td>0</td>\n",
              "      <td>0</td>\n",
              "      <td>0</td>\n",
              "      <td>0</td>\n",
              "      <td>0</td>\n",
              "      <td>0</td>\n",
              "      <td>0</td>\n",
              "      <td>0</td>\n",
              "      <td>0</td>\n",
              "      <td>0</td>\n",
              "      <td>0</td>\n",
              "      <td>0</td>\n",
              "      <td>0</td>\n",
              "      <td>0</td>\n",
              "      <td>0</td>\n",
              "      <td>0</td>\n",
              "      <td>0</td>\n",
              "      <td>0</td>\n",
              "      <td>0</td>\n",
              "      <td>0</td>\n",
              "      <td>0</td>\n",
              "      <td>0</td>\n",
              "      <td>0</td>\n",
              "      <td>0</td>\n",
              "      <td>0</td>\n",
              "      <td>0</td>\n",
              "      <td>0</td>\n",
              "      <td>0</td>\n",
              "      <td>0</td>\n",
              "      <td>0</td>\n",
              "      <td>0</td>\n",
              "      <td>0</td>\n",
              "      <td>0</td>\n",
              "      <td>0</td>\n",
              "      <td>0</td>\n",
              "      <td>0</td>\n",
              "      <td>0</td>\n",
              "      <td>0</td>\n",
              "      <td>0</td>\n",
              "    </tr>\n",
              "    <tr>\n",
              "      <th>3</th>\n",
              "      <td>1</td>\n",
              "      <td>0</td>\n",
              "      <td>0</td>\n",
              "      <td>0</td>\n",
              "      <td>0</td>\n",
              "      <td>0</td>\n",
              "      <td>0</td>\n",
              "      <td>0</td>\n",
              "      <td>0</td>\n",
              "      <td>0</td>\n",
              "      <td>0</td>\n",
              "      <td>0</td>\n",
              "      <td>0</td>\n",
              "      <td>0</td>\n",
              "      <td>0</td>\n",
              "      <td>0</td>\n",
              "      <td>0</td>\n",
              "      <td>0</td>\n",
              "      <td>0</td>\n",
              "      <td>0</td>\n",
              "      <td>0</td>\n",
              "      <td>0</td>\n",
              "      <td>0</td>\n",
              "      <td>0</td>\n",
              "      <td>0</td>\n",
              "      <td>0</td>\n",
              "      <td>0</td>\n",
              "      <td>0</td>\n",
              "      <td>0</td>\n",
              "      <td>0</td>\n",
              "      <td>0</td>\n",
              "      <td>0</td>\n",
              "      <td>0</td>\n",
              "      <td>0</td>\n",
              "      <td>0</td>\n",
              "      <td>0</td>\n",
              "      <td>0</td>\n",
              "      <td>0</td>\n",
              "      <td>0</td>\n",
              "      <td>0</td>\n",
              "      <td>...</td>\n",
              "      <td>0</td>\n",
              "      <td>0</td>\n",
              "      <td>0</td>\n",
              "      <td>0</td>\n",
              "      <td>0</td>\n",
              "      <td>0</td>\n",
              "      <td>0</td>\n",
              "      <td>0</td>\n",
              "      <td>0</td>\n",
              "      <td>0</td>\n",
              "      <td>0</td>\n",
              "      <td>0</td>\n",
              "      <td>0</td>\n",
              "      <td>0</td>\n",
              "      <td>0</td>\n",
              "      <td>0</td>\n",
              "      <td>0</td>\n",
              "      <td>0</td>\n",
              "      <td>0</td>\n",
              "      <td>0</td>\n",
              "      <td>0</td>\n",
              "      <td>0</td>\n",
              "      <td>0</td>\n",
              "      <td>0</td>\n",
              "      <td>0</td>\n",
              "      <td>0</td>\n",
              "      <td>0</td>\n",
              "      <td>0</td>\n",
              "      <td>0</td>\n",
              "      <td>0</td>\n",
              "      <td>0</td>\n",
              "      <td>0</td>\n",
              "      <td>0</td>\n",
              "      <td>0</td>\n",
              "      <td>0</td>\n",
              "      <td>0</td>\n",
              "      <td>0</td>\n",
              "      <td>0</td>\n",
              "      <td>0</td>\n",
              "      <td>0</td>\n",
              "    </tr>\n",
              "    <tr>\n",
              "      <th>4</th>\n",
              "      <td>1</td>\n",
              "      <td>0</td>\n",
              "      <td>0</td>\n",
              "      <td>0</td>\n",
              "      <td>0</td>\n",
              "      <td>0</td>\n",
              "      <td>0</td>\n",
              "      <td>0</td>\n",
              "      <td>0</td>\n",
              "      <td>0</td>\n",
              "      <td>0</td>\n",
              "      <td>0</td>\n",
              "      <td>0</td>\n",
              "      <td>0</td>\n",
              "      <td>0</td>\n",
              "      <td>0</td>\n",
              "      <td>0</td>\n",
              "      <td>0</td>\n",
              "      <td>0</td>\n",
              "      <td>0</td>\n",
              "      <td>0</td>\n",
              "      <td>0</td>\n",
              "      <td>0</td>\n",
              "      <td>0</td>\n",
              "      <td>0</td>\n",
              "      <td>0</td>\n",
              "      <td>0</td>\n",
              "      <td>0</td>\n",
              "      <td>0</td>\n",
              "      <td>0</td>\n",
              "      <td>0</td>\n",
              "      <td>0</td>\n",
              "      <td>0</td>\n",
              "      <td>0</td>\n",
              "      <td>0</td>\n",
              "      <td>0</td>\n",
              "      <td>0</td>\n",
              "      <td>0</td>\n",
              "      <td>0</td>\n",
              "      <td>0</td>\n",
              "      <td>...</td>\n",
              "      <td>0</td>\n",
              "      <td>0</td>\n",
              "      <td>0</td>\n",
              "      <td>0</td>\n",
              "      <td>0</td>\n",
              "      <td>0</td>\n",
              "      <td>0</td>\n",
              "      <td>0</td>\n",
              "      <td>0</td>\n",
              "      <td>0</td>\n",
              "      <td>0</td>\n",
              "      <td>0</td>\n",
              "      <td>0</td>\n",
              "      <td>0</td>\n",
              "      <td>0</td>\n",
              "      <td>0</td>\n",
              "      <td>0</td>\n",
              "      <td>0</td>\n",
              "      <td>0</td>\n",
              "      <td>0</td>\n",
              "      <td>0</td>\n",
              "      <td>0</td>\n",
              "      <td>0</td>\n",
              "      <td>0</td>\n",
              "      <td>0</td>\n",
              "      <td>0</td>\n",
              "      <td>0</td>\n",
              "      <td>0</td>\n",
              "      <td>0</td>\n",
              "      <td>0</td>\n",
              "      <td>0</td>\n",
              "      <td>0</td>\n",
              "      <td>0</td>\n",
              "      <td>0</td>\n",
              "      <td>0</td>\n",
              "      <td>0</td>\n",
              "      <td>0</td>\n",
              "      <td>0</td>\n",
              "      <td>0</td>\n",
              "      <td>0</td>\n",
              "    </tr>\n",
              "  </tbody>\n",
              "</table>\n",
              "<p>5 rows × 242 columns</p>\n",
              "</div>"
            ],
            "text/plain": [
              "   1st Block Jayanagar  1st Phase JP Nagar  ...  Yeshwanthpur  other\n",
              "0                    1                   0  ...             0      0\n",
              "1                    1                   0  ...             0      0\n",
              "2                    1                   0  ...             0      0\n",
              "3                    1                   0  ...             0      0\n",
              "4                    1                   0  ...             0      0\n",
              "\n",
              "[5 rows x 242 columns]"
            ]
          },
          "metadata": {
            "tags": []
          },
          "execution_count": 59
        }
      ]
    },
    {
      "cell_type": "code",
      "metadata": {
        "id": "i0QpsM-LaQ3B",
        "colab_type": "code",
        "colab": {
          "base_uri": "https://localhost:8080/",
          "height": 389
        },
        "outputId": "0bf68d7a-e0c9-44f1-c918-3d3747445815"
      },
      "source": [
        "# we will concat dummies with df10. We will drop one column of dummies because to represent 'k' dummies we need  'k-1' variables\n",
        "df11 = pd.concat([df10, dummies.drop('other', axis = 'columns')], axis = 'columns')\n",
        "df11.head()"
      ],
      "execution_count": 60,
      "outputs": [
        {
          "output_type": "execute_result",
          "data": {
            "text/html": [
              "<div>\n",
              "<style scoped>\n",
              "    .dataframe tbody tr th:only-of-type {\n",
              "        vertical-align: middle;\n",
              "    }\n",
              "\n",
              "    .dataframe tbody tr th {\n",
              "        vertical-align: top;\n",
              "    }\n",
              "\n",
              "    .dataframe thead th {\n",
              "        text-align: right;\n",
              "    }\n",
              "</style>\n",
              "<table border=\"1\" class=\"dataframe\">\n",
              "  <thead>\n",
              "    <tr style=\"text-align: right;\">\n",
              "      <th></th>\n",
              "      <th>location</th>\n",
              "      <th>total_sqft</th>\n",
              "      <th>bath</th>\n",
              "      <th>price</th>\n",
              "      <th>bhk</th>\n",
              "      <th>1st Block Jayanagar</th>\n",
              "      <th>1st Phase JP Nagar</th>\n",
              "      <th>2nd Phase Judicial Layout</th>\n",
              "      <th>2nd Stage Nagarbhavi</th>\n",
              "      <th>5th Block Hbr Layout</th>\n",
              "      <th>5th Phase JP Nagar</th>\n",
              "      <th>6th Phase JP Nagar</th>\n",
              "      <th>7th Phase JP Nagar</th>\n",
              "      <th>8th Phase JP Nagar</th>\n",
              "      <th>9th Phase JP Nagar</th>\n",
              "      <th>AECS Layout</th>\n",
              "      <th>Abbigere</th>\n",
              "      <th>Akshaya Nagar</th>\n",
              "      <th>Ambalipura</th>\n",
              "      <th>Ambedkar Nagar</th>\n",
              "      <th>Amruthahalli</th>\n",
              "      <th>Anandapura</th>\n",
              "      <th>Ananth Nagar</th>\n",
              "      <th>Anekal</th>\n",
              "      <th>Anjanapura</th>\n",
              "      <th>Ardendale</th>\n",
              "      <th>Arekere</th>\n",
              "      <th>Attibele</th>\n",
              "      <th>BEML Layout</th>\n",
              "      <th>BTM 2nd Stage</th>\n",
              "      <th>BTM Layout</th>\n",
              "      <th>Babusapalaya</th>\n",
              "      <th>Badavala Nagar</th>\n",
              "      <th>Balagere</th>\n",
              "      <th>Banashankari</th>\n",
              "      <th>Banashankari Stage II</th>\n",
              "      <th>Banashankari Stage III</th>\n",
              "      <th>Banashankari Stage V</th>\n",
              "      <th>Banashankari Stage VI</th>\n",
              "      <th>Banaswadi</th>\n",
              "      <th>...</th>\n",
              "      <th>Sanjay nagar</th>\n",
              "      <th>Sarakki Nagar</th>\n",
              "      <th>Sarjapur</th>\n",
              "      <th>Sarjapur  Road</th>\n",
              "      <th>Sarjapura - Attibele Road</th>\n",
              "      <th>Sector 2 HSR Layout</th>\n",
              "      <th>Sector 7 HSR Layout</th>\n",
              "      <th>Seegehalli</th>\n",
              "      <th>Shampura</th>\n",
              "      <th>Shivaji Nagar</th>\n",
              "      <th>Singasandra</th>\n",
              "      <th>Somasundara Palya</th>\n",
              "      <th>Sompura</th>\n",
              "      <th>Sonnenahalli</th>\n",
              "      <th>Subramanyapura</th>\n",
              "      <th>Sultan Palaya</th>\n",
              "      <th>TC Palaya</th>\n",
              "      <th>Talaghattapura</th>\n",
              "      <th>Thanisandra</th>\n",
              "      <th>Thigalarapalya</th>\n",
              "      <th>Thubarahalli</th>\n",
              "      <th>Thyagaraja Nagar</th>\n",
              "      <th>Tindlu</th>\n",
              "      <th>Tumkur Road</th>\n",
              "      <th>Ulsoor</th>\n",
              "      <th>Uttarahalli</th>\n",
              "      <th>Varthur</th>\n",
              "      <th>Varthur Road</th>\n",
              "      <th>Vasanthapura</th>\n",
              "      <th>Vidyaranyapura</th>\n",
              "      <th>Vijayanagar</th>\n",
              "      <th>Vishveshwarya Layout</th>\n",
              "      <th>Vishwapriya Layout</th>\n",
              "      <th>Vittasandra</th>\n",
              "      <th>Whitefield</th>\n",
              "      <th>Yelachenahalli</th>\n",
              "      <th>Yelahanka</th>\n",
              "      <th>Yelahanka New Town</th>\n",
              "      <th>Yelenahalli</th>\n",
              "      <th>Yeshwanthpur</th>\n",
              "    </tr>\n",
              "  </thead>\n",
              "  <tbody>\n",
              "    <tr>\n",
              "      <th>0</th>\n",
              "      <td>1st Block Jayanagar</td>\n",
              "      <td>2850.0</td>\n",
              "      <td>4.0</td>\n",
              "      <td>428.0</td>\n",
              "      <td>4</td>\n",
              "      <td>1</td>\n",
              "      <td>0</td>\n",
              "      <td>0</td>\n",
              "      <td>0</td>\n",
              "      <td>0</td>\n",
              "      <td>0</td>\n",
              "      <td>0</td>\n",
              "      <td>0</td>\n",
              "      <td>0</td>\n",
              "      <td>0</td>\n",
              "      <td>0</td>\n",
              "      <td>0</td>\n",
              "      <td>0</td>\n",
              "      <td>0</td>\n",
              "      <td>0</td>\n",
              "      <td>0</td>\n",
              "      <td>0</td>\n",
              "      <td>0</td>\n",
              "      <td>0</td>\n",
              "      <td>0</td>\n",
              "      <td>0</td>\n",
              "      <td>0</td>\n",
              "      <td>0</td>\n",
              "      <td>0</td>\n",
              "      <td>0</td>\n",
              "      <td>0</td>\n",
              "      <td>0</td>\n",
              "      <td>0</td>\n",
              "      <td>0</td>\n",
              "      <td>0</td>\n",
              "      <td>0</td>\n",
              "      <td>0</td>\n",
              "      <td>0</td>\n",
              "      <td>0</td>\n",
              "      <td>0</td>\n",
              "      <td>...</td>\n",
              "      <td>0</td>\n",
              "      <td>0</td>\n",
              "      <td>0</td>\n",
              "      <td>0</td>\n",
              "      <td>0</td>\n",
              "      <td>0</td>\n",
              "      <td>0</td>\n",
              "      <td>0</td>\n",
              "      <td>0</td>\n",
              "      <td>0</td>\n",
              "      <td>0</td>\n",
              "      <td>0</td>\n",
              "      <td>0</td>\n",
              "      <td>0</td>\n",
              "      <td>0</td>\n",
              "      <td>0</td>\n",
              "      <td>0</td>\n",
              "      <td>0</td>\n",
              "      <td>0</td>\n",
              "      <td>0</td>\n",
              "      <td>0</td>\n",
              "      <td>0</td>\n",
              "      <td>0</td>\n",
              "      <td>0</td>\n",
              "      <td>0</td>\n",
              "      <td>0</td>\n",
              "      <td>0</td>\n",
              "      <td>0</td>\n",
              "      <td>0</td>\n",
              "      <td>0</td>\n",
              "      <td>0</td>\n",
              "      <td>0</td>\n",
              "      <td>0</td>\n",
              "      <td>0</td>\n",
              "      <td>0</td>\n",
              "      <td>0</td>\n",
              "      <td>0</td>\n",
              "      <td>0</td>\n",
              "      <td>0</td>\n",
              "      <td>0</td>\n",
              "    </tr>\n",
              "    <tr>\n",
              "      <th>1</th>\n",
              "      <td>1st Block Jayanagar</td>\n",
              "      <td>1630.0</td>\n",
              "      <td>3.0</td>\n",
              "      <td>194.0</td>\n",
              "      <td>3</td>\n",
              "      <td>1</td>\n",
              "      <td>0</td>\n",
              "      <td>0</td>\n",
              "      <td>0</td>\n",
              "      <td>0</td>\n",
              "      <td>0</td>\n",
              "      <td>0</td>\n",
              "      <td>0</td>\n",
              "      <td>0</td>\n",
              "      <td>0</td>\n",
              "      <td>0</td>\n",
              "      <td>0</td>\n",
              "      <td>0</td>\n",
              "      <td>0</td>\n",
              "      <td>0</td>\n",
              "      <td>0</td>\n",
              "      <td>0</td>\n",
              "      <td>0</td>\n",
              "      <td>0</td>\n",
              "      <td>0</td>\n",
              "      <td>0</td>\n",
              "      <td>0</td>\n",
              "      <td>0</td>\n",
              "      <td>0</td>\n",
              "      <td>0</td>\n",
              "      <td>0</td>\n",
              "      <td>0</td>\n",
              "      <td>0</td>\n",
              "      <td>0</td>\n",
              "      <td>0</td>\n",
              "      <td>0</td>\n",
              "      <td>0</td>\n",
              "      <td>0</td>\n",
              "      <td>0</td>\n",
              "      <td>0</td>\n",
              "      <td>...</td>\n",
              "      <td>0</td>\n",
              "      <td>0</td>\n",
              "      <td>0</td>\n",
              "      <td>0</td>\n",
              "      <td>0</td>\n",
              "      <td>0</td>\n",
              "      <td>0</td>\n",
              "      <td>0</td>\n",
              "      <td>0</td>\n",
              "      <td>0</td>\n",
              "      <td>0</td>\n",
              "      <td>0</td>\n",
              "      <td>0</td>\n",
              "      <td>0</td>\n",
              "      <td>0</td>\n",
              "      <td>0</td>\n",
              "      <td>0</td>\n",
              "      <td>0</td>\n",
              "      <td>0</td>\n",
              "      <td>0</td>\n",
              "      <td>0</td>\n",
              "      <td>0</td>\n",
              "      <td>0</td>\n",
              "      <td>0</td>\n",
              "      <td>0</td>\n",
              "      <td>0</td>\n",
              "      <td>0</td>\n",
              "      <td>0</td>\n",
              "      <td>0</td>\n",
              "      <td>0</td>\n",
              "      <td>0</td>\n",
              "      <td>0</td>\n",
              "      <td>0</td>\n",
              "      <td>0</td>\n",
              "      <td>0</td>\n",
              "      <td>0</td>\n",
              "      <td>0</td>\n",
              "      <td>0</td>\n",
              "      <td>0</td>\n",
              "      <td>0</td>\n",
              "    </tr>\n",
              "    <tr>\n",
              "      <th>2</th>\n",
              "      <td>1st Block Jayanagar</td>\n",
              "      <td>1875.0</td>\n",
              "      <td>2.0</td>\n",
              "      <td>235.0</td>\n",
              "      <td>3</td>\n",
              "      <td>1</td>\n",
              "      <td>0</td>\n",
              "      <td>0</td>\n",
              "      <td>0</td>\n",
              "      <td>0</td>\n",
              "      <td>0</td>\n",
              "      <td>0</td>\n",
              "      <td>0</td>\n",
              "      <td>0</td>\n",
              "      <td>0</td>\n",
              "      <td>0</td>\n",
              "      <td>0</td>\n",
              "      <td>0</td>\n",
              "      <td>0</td>\n",
              "      <td>0</td>\n",
              "      <td>0</td>\n",
              "      <td>0</td>\n",
              "      <td>0</td>\n",
              "      <td>0</td>\n",
              "      <td>0</td>\n",
              "      <td>0</td>\n",
              "      <td>0</td>\n",
              "      <td>0</td>\n",
              "      <td>0</td>\n",
              "      <td>0</td>\n",
              "      <td>0</td>\n",
              "      <td>0</td>\n",
              "      <td>0</td>\n",
              "      <td>0</td>\n",
              "      <td>0</td>\n",
              "      <td>0</td>\n",
              "      <td>0</td>\n",
              "      <td>0</td>\n",
              "      <td>0</td>\n",
              "      <td>0</td>\n",
              "      <td>...</td>\n",
              "      <td>0</td>\n",
              "      <td>0</td>\n",
              "      <td>0</td>\n",
              "      <td>0</td>\n",
              "      <td>0</td>\n",
              "      <td>0</td>\n",
              "      <td>0</td>\n",
              "      <td>0</td>\n",
              "      <td>0</td>\n",
              "      <td>0</td>\n",
              "      <td>0</td>\n",
              "      <td>0</td>\n",
              "      <td>0</td>\n",
              "      <td>0</td>\n",
              "      <td>0</td>\n",
              "      <td>0</td>\n",
              "      <td>0</td>\n",
              "      <td>0</td>\n",
              "      <td>0</td>\n",
              "      <td>0</td>\n",
              "      <td>0</td>\n",
              "      <td>0</td>\n",
              "      <td>0</td>\n",
              "      <td>0</td>\n",
              "      <td>0</td>\n",
              "      <td>0</td>\n",
              "      <td>0</td>\n",
              "      <td>0</td>\n",
              "      <td>0</td>\n",
              "      <td>0</td>\n",
              "      <td>0</td>\n",
              "      <td>0</td>\n",
              "      <td>0</td>\n",
              "      <td>0</td>\n",
              "      <td>0</td>\n",
              "      <td>0</td>\n",
              "      <td>0</td>\n",
              "      <td>0</td>\n",
              "      <td>0</td>\n",
              "      <td>0</td>\n",
              "    </tr>\n",
              "    <tr>\n",
              "      <th>3</th>\n",
              "      <td>1st Block Jayanagar</td>\n",
              "      <td>1200.0</td>\n",
              "      <td>2.0</td>\n",
              "      <td>130.0</td>\n",
              "      <td>3</td>\n",
              "      <td>1</td>\n",
              "      <td>0</td>\n",
              "      <td>0</td>\n",
              "      <td>0</td>\n",
              "      <td>0</td>\n",
              "      <td>0</td>\n",
              "      <td>0</td>\n",
              "      <td>0</td>\n",
              "      <td>0</td>\n",
              "      <td>0</td>\n",
              "      <td>0</td>\n",
              "      <td>0</td>\n",
              "      <td>0</td>\n",
              "      <td>0</td>\n",
              "      <td>0</td>\n",
              "      <td>0</td>\n",
              "      <td>0</td>\n",
              "      <td>0</td>\n",
              "      <td>0</td>\n",
              "      <td>0</td>\n",
              "      <td>0</td>\n",
              "      <td>0</td>\n",
              "      <td>0</td>\n",
              "      <td>0</td>\n",
              "      <td>0</td>\n",
              "      <td>0</td>\n",
              "      <td>0</td>\n",
              "      <td>0</td>\n",
              "      <td>0</td>\n",
              "      <td>0</td>\n",
              "      <td>0</td>\n",
              "      <td>0</td>\n",
              "      <td>0</td>\n",
              "      <td>0</td>\n",
              "      <td>0</td>\n",
              "      <td>...</td>\n",
              "      <td>0</td>\n",
              "      <td>0</td>\n",
              "      <td>0</td>\n",
              "      <td>0</td>\n",
              "      <td>0</td>\n",
              "      <td>0</td>\n",
              "      <td>0</td>\n",
              "      <td>0</td>\n",
              "      <td>0</td>\n",
              "      <td>0</td>\n",
              "      <td>0</td>\n",
              "      <td>0</td>\n",
              "      <td>0</td>\n",
              "      <td>0</td>\n",
              "      <td>0</td>\n",
              "      <td>0</td>\n",
              "      <td>0</td>\n",
              "      <td>0</td>\n",
              "      <td>0</td>\n",
              "      <td>0</td>\n",
              "      <td>0</td>\n",
              "      <td>0</td>\n",
              "      <td>0</td>\n",
              "      <td>0</td>\n",
              "      <td>0</td>\n",
              "      <td>0</td>\n",
              "      <td>0</td>\n",
              "      <td>0</td>\n",
              "      <td>0</td>\n",
              "      <td>0</td>\n",
              "      <td>0</td>\n",
              "      <td>0</td>\n",
              "      <td>0</td>\n",
              "      <td>0</td>\n",
              "      <td>0</td>\n",
              "      <td>0</td>\n",
              "      <td>0</td>\n",
              "      <td>0</td>\n",
              "      <td>0</td>\n",
              "      <td>0</td>\n",
              "    </tr>\n",
              "    <tr>\n",
              "      <th>4</th>\n",
              "      <td>1st Block Jayanagar</td>\n",
              "      <td>1235.0</td>\n",
              "      <td>2.0</td>\n",
              "      <td>148.0</td>\n",
              "      <td>2</td>\n",
              "      <td>1</td>\n",
              "      <td>0</td>\n",
              "      <td>0</td>\n",
              "      <td>0</td>\n",
              "      <td>0</td>\n",
              "      <td>0</td>\n",
              "      <td>0</td>\n",
              "      <td>0</td>\n",
              "      <td>0</td>\n",
              "      <td>0</td>\n",
              "      <td>0</td>\n",
              "      <td>0</td>\n",
              "      <td>0</td>\n",
              "      <td>0</td>\n",
              "      <td>0</td>\n",
              "      <td>0</td>\n",
              "      <td>0</td>\n",
              "      <td>0</td>\n",
              "      <td>0</td>\n",
              "      <td>0</td>\n",
              "      <td>0</td>\n",
              "      <td>0</td>\n",
              "      <td>0</td>\n",
              "      <td>0</td>\n",
              "      <td>0</td>\n",
              "      <td>0</td>\n",
              "      <td>0</td>\n",
              "      <td>0</td>\n",
              "      <td>0</td>\n",
              "      <td>0</td>\n",
              "      <td>0</td>\n",
              "      <td>0</td>\n",
              "      <td>0</td>\n",
              "      <td>0</td>\n",
              "      <td>0</td>\n",
              "      <td>...</td>\n",
              "      <td>0</td>\n",
              "      <td>0</td>\n",
              "      <td>0</td>\n",
              "      <td>0</td>\n",
              "      <td>0</td>\n",
              "      <td>0</td>\n",
              "      <td>0</td>\n",
              "      <td>0</td>\n",
              "      <td>0</td>\n",
              "      <td>0</td>\n",
              "      <td>0</td>\n",
              "      <td>0</td>\n",
              "      <td>0</td>\n",
              "      <td>0</td>\n",
              "      <td>0</td>\n",
              "      <td>0</td>\n",
              "      <td>0</td>\n",
              "      <td>0</td>\n",
              "      <td>0</td>\n",
              "      <td>0</td>\n",
              "      <td>0</td>\n",
              "      <td>0</td>\n",
              "      <td>0</td>\n",
              "      <td>0</td>\n",
              "      <td>0</td>\n",
              "      <td>0</td>\n",
              "      <td>0</td>\n",
              "      <td>0</td>\n",
              "      <td>0</td>\n",
              "      <td>0</td>\n",
              "      <td>0</td>\n",
              "      <td>0</td>\n",
              "      <td>0</td>\n",
              "      <td>0</td>\n",
              "      <td>0</td>\n",
              "      <td>0</td>\n",
              "      <td>0</td>\n",
              "      <td>0</td>\n",
              "      <td>0</td>\n",
              "      <td>0</td>\n",
              "    </tr>\n",
              "  </tbody>\n",
              "</table>\n",
              "<p>5 rows × 246 columns</p>\n",
              "</div>"
            ],
            "text/plain": [
              "              location  total_sqft  ...  Yelenahalli  Yeshwanthpur\n",
              "0  1st Block Jayanagar      2850.0  ...            0             0\n",
              "1  1st Block Jayanagar      1630.0  ...            0             0\n",
              "2  1st Block Jayanagar      1875.0  ...            0             0\n",
              "3  1st Block Jayanagar      1200.0  ...            0             0\n",
              "4  1st Block Jayanagar      1235.0  ...            0             0\n",
              "\n",
              "[5 rows x 246 columns]"
            ]
          },
          "metadata": {
            "tags": []
          },
          "execution_count": 60
        }
      ]
    },
    {
      "cell_type": "code",
      "metadata": {
        "id": "34R02TSJbwoC",
        "colab_type": "code",
        "colab": {
          "base_uri": "https://localhost:8080/",
          "height": 304
        },
        "outputId": "31e11d8b-b27e-4bca-eafa-85fa97f4e525"
      },
      "source": [
        "df12 = df11.drop(['location'], axis = 'columns')\n",
        "df12.head()"
      ],
      "execution_count": 61,
      "outputs": [
        {
          "output_type": "execute_result",
          "data": {
            "text/html": [
              "<div>\n",
              "<style scoped>\n",
              "    .dataframe tbody tr th:only-of-type {\n",
              "        vertical-align: middle;\n",
              "    }\n",
              "\n",
              "    .dataframe tbody tr th {\n",
              "        vertical-align: top;\n",
              "    }\n",
              "\n",
              "    .dataframe thead th {\n",
              "        text-align: right;\n",
              "    }\n",
              "</style>\n",
              "<table border=\"1\" class=\"dataframe\">\n",
              "  <thead>\n",
              "    <tr style=\"text-align: right;\">\n",
              "      <th></th>\n",
              "      <th>total_sqft</th>\n",
              "      <th>bath</th>\n",
              "      <th>price</th>\n",
              "      <th>bhk</th>\n",
              "      <th>1st Block Jayanagar</th>\n",
              "      <th>1st Phase JP Nagar</th>\n",
              "      <th>2nd Phase Judicial Layout</th>\n",
              "      <th>2nd Stage Nagarbhavi</th>\n",
              "      <th>5th Block Hbr Layout</th>\n",
              "      <th>5th Phase JP Nagar</th>\n",
              "      <th>6th Phase JP Nagar</th>\n",
              "      <th>7th Phase JP Nagar</th>\n",
              "      <th>8th Phase JP Nagar</th>\n",
              "      <th>9th Phase JP Nagar</th>\n",
              "      <th>AECS Layout</th>\n",
              "      <th>Abbigere</th>\n",
              "      <th>Akshaya Nagar</th>\n",
              "      <th>Ambalipura</th>\n",
              "      <th>Ambedkar Nagar</th>\n",
              "      <th>Amruthahalli</th>\n",
              "      <th>Anandapura</th>\n",
              "      <th>Ananth Nagar</th>\n",
              "      <th>Anekal</th>\n",
              "      <th>Anjanapura</th>\n",
              "      <th>Ardendale</th>\n",
              "      <th>Arekere</th>\n",
              "      <th>Attibele</th>\n",
              "      <th>BEML Layout</th>\n",
              "      <th>BTM 2nd Stage</th>\n",
              "      <th>BTM Layout</th>\n",
              "      <th>Babusapalaya</th>\n",
              "      <th>Badavala Nagar</th>\n",
              "      <th>Balagere</th>\n",
              "      <th>Banashankari</th>\n",
              "      <th>Banashankari Stage II</th>\n",
              "      <th>Banashankari Stage III</th>\n",
              "      <th>Banashankari Stage V</th>\n",
              "      <th>Banashankari Stage VI</th>\n",
              "      <th>Banaswadi</th>\n",
              "      <th>Banjara Layout</th>\n",
              "      <th>...</th>\n",
              "      <th>Sanjay nagar</th>\n",
              "      <th>Sarakki Nagar</th>\n",
              "      <th>Sarjapur</th>\n",
              "      <th>Sarjapur  Road</th>\n",
              "      <th>Sarjapura - Attibele Road</th>\n",
              "      <th>Sector 2 HSR Layout</th>\n",
              "      <th>Sector 7 HSR Layout</th>\n",
              "      <th>Seegehalli</th>\n",
              "      <th>Shampura</th>\n",
              "      <th>Shivaji Nagar</th>\n",
              "      <th>Singasandra</th>\n",
              "      <th>Somasundara Palya</th>\n",
              "      <th>Sompura</th>\n",
              "      <th>Sonnenahalli</th>\n",
              "      <th>Subramanyapura</th>\n",
              "      <th>Sultan Palaya</th>\n",
              "      <th>TC Palaya</th>\n",
              "      <th>Talaghattapura</th>\n",
              "      <th>Thanisandra</th>\n",
              "      <th>Thigalarapalya</th>\n",
              "      <th>Thubarahalli</th>\n",
              "      <th>Thyagaraja Nagar</th>\n",
              "      <th>Tindlu</th>\n",
              "      <th>Tumkur Road</th>\n",
              "      <th>Ulsoor</th>\n",
              "      <th>Uttarahalli</th>\n",
              "      <th>Varthur</th>\n",
              "      <th>Varthur Road</th>\n",
              "      <th>Vasanthapura</th>\n",
              "      <th>Vidyaranyapura</th>\n",
              "      <th>Vijayanagar</th>\n",
              "      <th>Vishveshwarya Layout</th>\n",
              "      <th>Vishwapriya Layout</th>\n",
              "      <th>Vittasandra</th>\n",
              "      <th>Whitefield</th>\n",
              "      <th>Yelachenahalli</th>\n",
              "      <th>Yelahanka</th>\n",
              "      <th>Yelahanka New Town</th>\n",
              "      <th>Yelenahalli</th>\n",
              "      <th>Yeshwanthpur</th>\n",
              "    </tr>\n",
              "  </thead>\n",
              "  <tbody>\n",
              "    <tr>\n",
              "      <th>0</th>\n",
              "      <td>2850.0</td>\n",
              "      <td>4.0</td>\n",
              "      <td>428.0</td>\n",
              "      <td>4</td>\n",
              "      <td>1</td>\n",
              "      <td>0</td>\n",
              "      <td>0</td>\n",
              "      <td>0</td>\n",
              "      <td>0</td>\n",
              "      <td>0</td>\n",
              "      <td>0</td>\n",
              "      <td>0</td>\n",
              "      <td>0</td>\n",
              "      <td>0</td>\n",
              "      <td>0</td>\n",
              "      <td>0</td>\n",
              "      <td>0</td>\n",
              "      <td>0</td>\n",
              "      <td>0</td>\n",
              "      <td>0</td>\n",
              "      <td>0</td>\n",
              "      <td>0</td>\n",
              "      <td>0</td>\n",
              "      <td>0</td>\n",
              "      <td>0</td>\n",
              "      <td>0</td>\n",
              "      <td>0</td>\n",
              "      <td>0</td>\n",
              "      <td>0</td>\n",
              "      <td>0</td>\n",
              "      <td>0</td>\n",
              "      <td>0</td>\n",
              "      <td>0</td>\n",
              "      <td>0</td>\n",
              "      <td>0</td>\n",
              "      <td>0</td>\n",
              "      <td>0</td>\n",
              "      <td>0</td>\n",
              "      <td>0</td>\n",
              "      <td>0</td>\n",
              "      <td>...</td>\n",
              "      <td>0</td>\n",
              "      <td>0</td>\n",
              "      <td>0</td>\n",
              "      <td>0</td>\n",
              "      <td>0</td>\n",
              "      <td>0</td>\n",
              "      <td>0</td>\n",
              "      <td>0</td>\n",
              "      <td>0</td>\n",
              "      <td>0</td>\n",
              "      <td>0</td>\n",
              "      <td>0</td>\n",
              "      <td>0</td>\n",
              "      <td>0</td>\n",
              "      <td>0</td>\n",
              "      <td>0</td>\n",
              "      <td>0</td>\n",
              "      <td>0</td>\n",
              "      <td>0</td>\n",
              "      <td>0</td>\n",
              "      <td>0</td>\n",
              "      <td>0</td>\n",
              "      <td>0</td>\n",
              "      <td>0</td>\n",
              "      <td>0</td>\n",
              "      <td>0</td>\n",
              "      <td>0</td>\n",
              "      <td>0</td>\n",
              "      <td>0</td>\n",
              "      <td>0</td>\n",
              "      <td>0</td>\n",
              "      <td>0</td>\n",
              "      <td>0</td>\n",
              "      <td>0</td>\n",
              "      <td>0</td>\n",
              "      <td>0</td>\n",
              "      <td>0</td>\n",
              "      <td>0</td>\n",
              "      <td>0</td>\n",
              "      <td>0</td>\n",
              "    </tr>\n",
              "    <tr>\n",
              "      <th>1</th>\n",
              "      <td>1630.0</td>\n",
              "      <td>3.0</td>\n",
              "      <td>194.0</td>\n",
              "      <td>3</td>\n",
              "      <td>1</td>\n",
              "      <td>0</td>\n",
              "      <td>0</td>\n",
              "      <td>0</td>\n",
              "      <td>0</td>\n",
              "      <td>0</td>\n",
              "      <td>0</td>\n",
              "      <td>0</td>\n",
              "      <td>0</td>\n",
              "      <td>0</td>\n",
              "      <td>0</td>\n",
              "      <td>0</td>\n",
              "      <td>0</td>\n",
              "      <td>0</td>\n",
              "      <td>0</td>\n",
              "      <td>0</td>\n",
              "      <td>0</td>\n",
              "      <td>0</td>\n",
              "      <td>0</td>\n",
              "      <td>0</td>\n",
              "      <td>0</td>\n",
              "      <td>0</td>\n",
              "      <td>0</td>\n",
              "      <td>0</td>\n",
              "      <td>0</td>\n",
              "      <td>0</td>\n",
              "      <td>0</td>\n",
              "      <td>0</td>\n",
              "      <td>0</td>\n",
              "      <td>0</td>\n",
              "      <td>0</td>\n",
              "      <td>0</td>\n",
              "      <td>0</td>\n",
              "      <td>0</td>\n",
              "      <td>0</td>\n",
              "      <td>0</td>\n",
              "      <td>...</td>\n",
              "      <td>0</td>\n",
              "      <td>0</td>\n",
              "      <td>0</td>\n",
              "      <td>0</td>\n",
              "      <td>0</td>\n",
              "      <td>0</td>\n",
              "      <td>0</td>\n",
              "      <td>0</td>\n",
              "      <td>0</td>\n",
              "      <td>0</td>\n",
              "      <td>0</td>\n",
              "      <td>0</td>\n",
              "      <td>0</td>\n",
              "      <td>0</td>\n",
              "      <td>0</td>\n",
              "      <td>0</td>\n",
              "      <td>0</td>\n",
              "      <td>0</td>\n",
              "      <td>0</td>\n",
              "      <td>0</td>\n",
              "      <td>0</td>\n",
              "      <td>0</td>\n",
              "      <td>0</td>\n",
              "      <td>0</td>\n",
              "      <td>0</td>\n",
              "      <td>0</td>\n",
              "      <td>0</td>\n",
              "      <td>0</td>\n",
              "      <td>0</td>\n",
              "      <td>0</td>\n",
              "      <td>0</td>\n",
              "      <td>0</td>\n",
              "      <td>0</td>\n",
              "      <td>0</td>\n",
              "      <td>0</td>\n",
              "      <td>0</td>\n",
              "      <td>0</td>\n",
              "      <td>0</td>\n",
              "      <td>0</td>\n",
              "      <td>0</td>\n",
              "    </tr>\n",
              "    <tr>\n",
              "      <th>2</th>\n",
              "      <td>1875.0</td>\n",
              "      <td>2.0</td>\n",
              "      <td>235.0</td>\n",
              "      <td>3</td>\n",
              "      <td>1</td>\n",
              "      <td>0</td>\n",
              "      <td>0</td>\n",
              "      <td>0</td>\n",
              "      <td>0</td>\n",
              "      <td>0</td>\n",
              "      <td>0</td>\n",
              "      <td>0</td>\n",
              "      <td>0</td>\n",
              "      <td>0</td>\n",
              "      <td>0</td>\n",
              "      <td>0</td>\n",
              "      <td>0</td>\n",
              "      <td>0</td>\n",
              "      <td>0</td>\n",
              "      <td>0</td>\n",
              "      <td>0</td>\n",
              "      <td>0</td>\n",
              "      <td>0</td>\n",
              "      <td>0</td>\n",
              "      <td>0</td>\n",
              "      <td>0</td>\n",
              "      <td>0</td>\n",
              "      <td>0</td>\n",
              "      <td>0</td>\n",
              "      <td>0</td>\n",
              "      <td>0</td>\n",
              "      <td>0</td>\n",
              "      <td>0</td>\n",
              "      <td>0</td>\n",
              "      <td>0</td>\n",
              "      <td>0</td>\n",
              "      <td>0</td>\n",
              "      <td>0</td>\n",
              "      <td>0</td>\n",
              "      <td>0</td>\n",
              "      <td>...</td>\n",
              "      <td>0</td>\n",
              "      <td>0</td>\n",
              "      <td>0</td>\n",
              "      <td>0</td>\n",
              "      <td>0</td>\n",
              "      <td>0</td>\n",
              "      <td>0</td>\n",
              "      <td>0</td>\n",
              "      <td>0</td>\n",
              "      <td>0</td>\n",
              "      <td>0</td>\n",
              "      <td>0</td>\n",
              "      <td>0</td>\n",
              "      <td>0</td>\n",
              "      <td>0</td>\n",
              "      <td>0</td>\n",
              "      <td>0</td>\n",
              "      <td>0</td>\n",
              "      <td>0</td>\n",
              "      <td>0</td>\n",
              "      <td>0</td>\n",
              "      <td>0</td>\n",
              "      <td>0</td>\n",
              "      <td>0</td>\n",
              "      <td>0</td>\n",
              "      <td>0</td>\n",
              "      <td>0</td>\n",
              "      <td>0</td>\n",
              "      <td>0</td>\n",
              "      <td>0</td>\n",
              "      <td>0</td>\n",
              "      <td>0</td>\n",
              "      <td>0</td>\n",
              "      <td>0</td>\n",
              "      <td>0</td>\n",
              "      <td>0</td>\n",
              "      <td>0</td>\n",
              "      <td>0</td>\n",
              "      <td>0</td>\n",
              "      <td>0</td>\n",
              "    </tr>\n",
              "    <tr>\n",
              "      <th>3</th>\n",
              "      <td>1200.0</td>\n",
              "      <td>2.0</td>\n",
              "      <td>130.0</td>\n",
              "      <td>3</td>\n",
              "      <td>1</td>\n",
              "      <td>0</td>\n",
              "      <td>0</td>\n",
              "      <td>0</td>\n",
              "      <td>0</td>\n",
              "      <td>0</td>\n",
              "      <td>0</td>\n",
              "      <td>0</td>\n",
              "      <td>0</td>\n",
              "      <td>0</td>\n",
              "      <td>0</td>\n",
              "      <td>0</td>\n",
              "      <td>0</td>\n",
              "      <td>0</td>\n",
              "      <td>0</td>\n",
              "      <td>0</td>\n",
              "      <td>0</td>\n",
              "      <td>0</td>\n",
              "      <td>0</td>\n",
              "      <td>0</td>\n",
              "      <td>0</td>\n",
              "      <td>0</td>\n",
              "      <td>0</td>\n",
              "      <td>0</td>\n",
              "      <td>0</td>\n",
              "      <td>0</td>\n",
              "      <td>0</td>\n",
              "      <td>0</td>\n",
              "      <td>0</td>\n",
              "      <td>0</td>\n",
              "      <td>0</td>\n",
              "      <td>0</td>\n",
              "      <td>0</td>\n",
              "      <td>0</td>\n",
              "      <td>0</td>\n",
              "      <td>0</td>\n",
              "      <td>...</td>\n",
              "      <td>0</td>\n",
              "      <td>0</td>\n",
              "      <td>0</td>\n",
              "      <td>0</td>\n",
              "      <td>0</td>\n",
              "      <td>0</td>\n",
              "      <td>0</td>\n",
              "      <td>0</td>\n",
              "      <td>0</td>\n",
              "      <td>0</td>\n",
              "      <td>0</td>\n",
              "      <td>0</td>\n",
              "      <td>0</td>\n",
              "      <td>0</td>\n",
              "      <td>0</td>\n",
              "      <td>0</td>\n",
              "      <td>0</td>\n",
              "      <td>0</td>\n",
              "      <td>0</td>\n",
              "      <td>0</td>\n",
              "      <td>0</td>\n",
              "      <td>0</td>\n",
              "      <td>0</td>\n",
              "      <td>0</td>\n",
              "      <td>0</td>\n",
              "      <td>0</td>\n",
              "      <td>0</td>\n",
              "      <td>0</td>\n",
              "      <td>0</td>\n",
              "      <td>0</td>\n",
              "      <td>0</td>\n",
              "      <td>0</td>\n",
              "      <td>0</td>\n",
              "      <td>0</td>\n",
              "      <td>0</td>\n",
              "      <td>0</td>\n",
              "      <td>0</td>\n",
              "      <td>0</td>\n",
              "      <td>0</td>\n",
              "      <td>0</td>\n",
              "    </tr>\n",
              "    <tr>\n",
              "      <th>4</th>\n",
              "      <td>1235.0</td>\n",
              "      <td>2.0</td>\n",
              "      <td>148.0</td>\n",
              "      <td>2</td>\n",
              "      <td>1</td>\n",
              "      <td>0</td>\n",
              "      <td>0</td>\n",
              "      <td>0</td>\n",
              "      <td>0</td>\n",
              "      <td>0</td>\n",
              "      <td>0</td>\n",
              "      <td>0</td>\n",
              "      <td>0</td>\n",
              "      <td>0</td>\n",
              "      <td>0</td>\n",
              "      <td>0</td>\n",
              "      <td>0</td>\n",
              "      <td>0</td>\n",
              "      <td>0</td>\n",
              "      <td>0</td>\n",
              "      <td>0</td>\n",
              "      <td>0</td>\n",
              "      <td>0</td>\n",
              "      <td>0</td>\n",
              "      <td>0</td>\n",
              "      <td>0</td>\n",
              "      <td>0</td>\n",
              "      <td>0</td>\n",
              "      <td>0</td>\n",
              "      <td>0</td>\n",
              "      <td>0</td>\n",
              "      <td>0</td>\n",
              "      <td>0</td>\n",
              "      <td>0</td>\n",
              "      <td>0</td>\n",
              "      <td>0</td>\n",
              "      <td>0</td>\n",
              "      <td>0</td>\n",
              "      <td>0</td>\n",
              "      <td>0</td>\n",
              "      <td>...</td>\n",
              "      <td>0</td>\n",
              "      <td>0</td>\n",
              "      <td>0</td>\n",
              "      <td>0</td>\n",
              "      <td>0</td>\n",
              "      <td>0</td>\n",
              "      <td>0</td>\n",
              "      <td>0</td>\n",
              "      <td>0</td>\n",
              "      <td>0</td>\n",
              "      <td>0</td>\n",
              "      <td>0</td>\n",
              "      <td>0</td>\n",
              "      <td>0</td>\n",
              "      <td>0</td>\n",
              "      <td>0</td>\n",
              "      <td>0</td>\n",
              "      <td>0</td>\n",
              "      <td>0</td>\n",
              "      <td>0</td>\n",
              "      <td>0</td>\n",
              "      <td>0</td>\n",
              "      <td>0</td>\n",
              "      <td>0</td>\n",
              "      <td>0</td>\n",
              "      <td>0</td>\n",
              "      <td>0</td>\n",
              "      <td>0</td>\n",
              "      <td>0</td>\n",
              "      <td>0</td>\n",
              "      <td>0</td>\n",
              "      <td>0</td>\n",
              "      <td>0</td>\n",
              "      <td>0</td>\n",
              "      <td>0</td>\n",
              "      <td>0</td>\n",
              "      <td>0</td>\n",
              "      <td>0</td>\n",
              "      <td>0</td>\n",
              "      <td>0</td>\n",
              "    </tr>\n",
              "  </tbody>\n",
              "</table>\n",
              "<p>5 rows × 245 columns</p>\n",
              "</div>"
            ],
            "text/plain": [
              "   total_sqft  bath  price  ...  Yelahanka New Town  Yelenahalli  Yeshwanthpur\n",
              "0      2850.0   4.0  428.0  ...                   0            0             0\n",
              "1      1630.0   3.0  194.0  ...                   0            0             0\n",
              "2      1875.0   2.0  235.0  ...                   0            0             0\n",
              "3      1200.0   2.0  130.0  ...                   0            0             0\n",
              "4      1235.0   2.0  148.0  ...                   0            0             0\n",
              "\n",
              "[5 rows x 245 columns]"
            ]
          },
          "metadata": {
            "tags": []
          },
          "execution_count": 61
        }
      ]
    },
    {
      "cell_type": "code",
      "metadata": {
        "id": "C7UMCNdacLsG",
        "colab_type": "code",
        "colab": {
          "base_uri": "https://localhost:8080/",
          "height": 304
        },
        "outputId": "f6df8b54-e1a1-45c0-cb39-256f215c4706"
      },
      "source": [
        "X = df12.drop(['price'], axis = 'columns')\n",
        "X.head()"
      ],
      "execution_count": 62,
      "outputs": [
        {
          "output_type": "execute_result",
          "data": {
            "text/html": [
              "<div>\n",
              "<style scoped>\n",
              "    .dataframe tbody tr th:only-of-type {\n",
              "        vertical-align: middle;\n",
              "    }\n",
              "\n",
              "    .dataframe tbody tr th {\n",
              "        vertical-align: top;\n",
              "    }\n",
              "\n",
              "    .dataframe thead th {\n",
              "        text-align: right;\n",
              "    }\n",
              "</style>\n",
              "<table border=\"1\" class=\"dataframe\">\n",
              "  <thead>\n",
              "    <tr style=\"text-align: right;\">\n",
              "      <th></th>\n",
              "      <th>total_sqft</th>\n",
              "      <th>bath</th>\n",
              "      <th>bhk</th>\n",
              "      <th>1st Block Jayanagar</th>\n",
              "      <th>1st Phase JP Nagar</th>\n",
              "      <th>2nd Phase Judicial Layout</th>\n",
              "      <th>2nd Stage Nagarbhavi</th>\n",
              "      <th>5th Block Hbr Layout</th>\n",
              "      <th>5th Phase JP Nagar</th>\n",
              "      <th>6th Phase JP Nagar</th>\n",
              "      <th>7th Phase JP Nagar</th>\n",
              "      <th>8th Phase JP Nagar</th>\n",
              "      <th>9th Phase JP Nagar</th>\n",
              "      <th>AECS Layout</th>\n",
              "      <th>Abbigere</th>\n",
              "      <th>Akshaya Nagar</th>\n",
              "      <th>Ambalipura</th>\n",
              "      <th>Ambedkar Nagar</th>\n",
              "      <th>Amruthahalli</th>\n",
              "      <th>Anandapura</th>\n",
              "      <th>Ananth Nagar</th>\n",
              "      <th>Anekal</th>\n",
              "      <th>Anjanapura</th>\n",
              "      <th>Ardendale</th>\n",
              "      <th>Arekere</th>\n",
              "      <th>Attibele</th>\n",
              "      <th>BEML Layout</th>\n",
              "      <th>BTM 2nd Stage</th>\n",
              "      <th>BTM Layout</th>\n",
              "      <th>Babusapalaya</th>\n",
              "      <th>Badavala Nagar</th>\n",
              "      <th>Balagere</th>\n",
              "      <th>Banashankari</th>\n",
              "      <th>Banashankari Stage II</th>\n",
              "      <th>Banashankari Stage III</th>\n",
              "      <th>Banashankari Stage V</th>\n",
              "      <th>Banashankari Stage VI</th>\n",
              "      <th>Banaswadi</th>\n",
              "      <th>Banjara Layout</th>\n",
              "      <th>Bannerghatta</th>\n",
              "      <th>...</th>\n",
              "      <th>Sanjay nagar</th>\n",
              "      <th>Sarakki Nagar</th>\n",
              "      <th>Sarjapur</th>\n",
              "      <th>Sarjapur  Road</th>\n",
              "      <th>Sarjapura - Attibele Road</th>\n",
              "      <th>Sector 2 HSR Layout</th>\n",
              "      <th>Sector 7 HSR Layout</th>\n",
              "      <th>Seegehalli</th>\n",
              "      <th>Shampura</th>\n",
              "      <th>Shivaji Nagar</th>\n",
              "      <th>Singasandra</th>\n",
              "      <th>Somasundara Palya</th>\n",
              "      <th>Sompura</th>\n",
              "      <th>Sonnenahalli</th>\n",
              "      <th>Subramanyapura</th>\n",
              "      <th>Sultan Palaya</th>\n",
              "      <th>TC Palaya</th>\n",
              "      <th>Talaghattapura</th>\n",
              "      <th>Thanisandra</th>\n",
              "      <th>Thigalarapalya</th>\n",
              "      <th>Thubarahalli</th>\n",
              "      <th>Thyagaraja Nagar</th>\n",
              "      <th>Tindlu</th>\n",
              "      <th>Tumkur Road</th>\n",
              "      <th>Ulsoor</th>\n",
              "      <th>Uttarahalli</th>\n",
              "      <th>Varthur</th>\n",
              "      <th>Varthur Road</th>\n",
              "      <th>Vasanthapura</th>\n",
              "      <th>Vidyaranyapura</th>\n",
              "      <th>Vijayanagar</th>\n",
              "      <th>Vishveshwarya Layout</th>\n",
              "      <th>Vishwapriya Layout</th>\n",
              "      <th>Vittasandra</th>\n",
              "      <th>Whitefield</th>\n",
              "      <th>Yelachenahalli</th>\n",
              "      <th>Yelahanka</th>\n",
              "      <th>Yelahanka New Town</th>\n",
              "      <th>Yelenahalli</th>\n",
              "      <th>Yeshwanthpur</th>\n",
              "    </tr>\n",
              "  </thead>\n",
              "  <tbody>\n",
              "    <tr>\n",
              "      <th>0</th>\n",
              "      <td>2850.0</td>\n",
              "      <td>4.0</td>\n",
              "      <td>4</td>\n",
              "      <td>1</td>\n",
              "      <td>0</td>\n",
              "      <td>0</td>\n",
              "      <td>0</td>\n",
              "      <td>0</td>\n",
              "      <td>0</td>\n",
              "      <td>0</td>\n",
              "      <td>0</td>\n",
              "      <td>0</td>\n",
              "      <td>0</td>\n",
              "      <td>0</td>\n",
              "      <td>0</td>\n",
              "      <td>0</td>\n",
              "      <td>0</td>\n",
              "      <td>0</td>\n",
              "      <td>0</td>\n",
              "      <td>0</td>\n",
              "      <td>0</td>\n",
              "      <td>0</td>\n",
              "      <td>0</td>\n",
              "      <td>0</td>\n",
              "      <td>0</td>\n",
              "      <td>0</td>\n",
              "      <td>0</td>\n",
              "      <td>0</td>\n",
              "      <td>0</td>\n",
              "      <td>0</td>\n",
              "      <td>0</td>\n",
              "      <td>0</td>\n",
              "      <td>0</td>\n",
              "      <td>0</td>\n",
              "      <td>0</td>\n",
              "      <td>0</td>\n",
              "      <td>0</td>\n",
              "      <td>0</td>\n",
              "      <td>0</td>\n",
              "      <td>0</td>\n",
              "      <td>...</td>\n",
              "      <td>0</td>\n",
              "      <td>0</td>\n",
              "      <td>0</td>\n",
              "      <td>0</td>\n",
              "      <td>0</td>\n",
              "      <td>0</td>\n",
              "      <td>0</td>\n",
              "      <td>0</td>\n",
              "      <td>0</td>\n",
              "      <td>0</td>\n",
              "      <td>0</td>\n",
              "      <td>0</td>\n",
              "      <td>0</td>\n",
              "      <td>0</td>\n",
              "      <td>0</td>\n",
              "      <td>0</td>\n",
              "      <td>0</td>\n",
              "      <td>0</td>\n",
              "      <td>0</td>\n",
              "      <td>0</td>\n",
              "      <td>0</td>\n",
              "      <td>0</td>\n",
              "      <td>0</td>\n",
              "      <td>0</td>\n",
              "      <td>0</td>\n",
              "      <td>0</td>\n",
              "      <td>0</td>\n",
              "      <td>0</td>\n",
              "      <td>0</td>\n",
              "      <td>0</td>\n",
              "      <td>0</td>\n",
              "      <td>0</td>\n",
              "      <td>0</td>\n",
              "      <td>0</td>\n",
              "      <td>0</td>\n",
              "      <td>0</td>\n",
              "      <td>0</td>\n",
              "      <td>0</td>\n",
              "      <td>0</td>\n",
              "      <td>0</td>\n",
              "    </tr>\n",
              "    <tr>\n",
              "      <th>1</th>\n",
              "      <td>1630.0</td>\n",
              "      <td>3.0</td>\n",
              "      <td>3</td>\n",
              "      <td>1</td>\n",
              "      <td>0</td>\n",
              "      <td>0</td>\n",
              "      <td>0</td>\n",
              "      <td>0</td>\n",
              "      <td>0</td>\n",
              "      <td>0</td>\n",
              "      <td>0</td>\n",
              "      <td>0</td>\n",
              "      <td>0</td>\n",
              "      <td>0</td>\n",
              "      <td>0</td>\n",
              "      <td>0</td>\n",
              "      <td>0</td>\n",
              "      <td>0</td>\n",
              "      <td>0</td>\n",
              "      <td>0</td>\n",
              "      <td>0</td>\n",
              "      <td>0</td>\n",
              "      <td>0</td>\n",
              "      <td>0</td>\n",
              "      <td>0</td>\n",
              "      <td>0</td>\n",
              "      <td>0</td>\n",
              "      <td>0</td>\n",
              "      <td>0</td>\n",
              "      <td>0</td>\n",
              "      <td>0</td>\n",
              "      <td>0</td>\n",
              "      <td>0</td>\n",
              "      <td>0</td>\n",
              "      <td>0</td>\n",
              "      <td>0</td>\n",
              "      <td>0</td>\n",
              "      <td>0</td>\n",
              "      <td>0</td>\n",
              "      <td>0</td>\n",
              "      <td>...</td>\n",
              "      <td>0</td>\n",
              "      <td>0</td>\n",
              "      <td>0</td>\n",
              "      <td>0</td>\n",
              "      <td>0</td>\n",
              "      <td>0</td>\n",
              "      <td>0</td>\n",
              "      <td>0</td>\n",
              "      <td>0</td>\n",
              "      <td>0</td>\n",
              "      <td>0</td>\n",
              "      <td>0</td>\n",
              "      <td>0</td>\n",
              "      <td>0</td>\n",
              "      <td>0</td>\n",
              "      <td>0</td>\n",
              "      <td>0</td>\n",
              "      <td>0</td>\n",
              "      <td>0</td>\n",
              "      <td>0</td>\n",
              "      <td>0</td>\n",
              "      <td>0</td>\n",
              "      <td>0</td>\n",
              "      <td>0</td>\n",
              "      <td>0</td>\n",
              "      <td>0</td>\n",
              "      <td>0</td>\n",
              "      <td>0</td>\n",
              "      <td>0</td>\n",
              "      <td>0</td>\n",
              "      <td>0</td>\n",
              "      <td>0</td>\n",
              "      <td>0</td>\n",
              "      <td>0</td>\n",
              "      <td>0</td>\n",
              "      <td>0</td>\n",
              "      <td>0</td>\n",
              "      <td>0</td>\n",
              "      <td>0</td>\n",
              "      <td>0</td>\n",
              "    </tr>\n",
              "    <tr>\n",
              "      <th>2</th>\n",
              "      <td>1875.0</td>\n",
              "      <td>2.0</td>\n",
              "      <td>3</td>\n",
              "      <td>1</td>\n",
              "      <td>0</td>\n",
              "      <td>0</td>\n",
              "      <td>0</td>\n",
              "      <td>0</td>\n",
              "      <td>0</td>\n",
              "      <td>0</td>\n",
              "      <td>0</td>\n",
              "      <td>0</td>\n",
              "      <td>0</td>\n",
              "      <td>0</td>\n",
              "      <td>0</td>\n",
              "      <td>0</td>\n",
              "      <td>0</td>\n",
              "      <td>0</td>\n",
              "      <td>0</td>\n",
              "      <td>0</td>\n",
              "      <td>0</td>\n",
              "      <td>0</td>\n",
              "      <td>0</td>\n",
              "      <td>0</td>\n",
              "      <td>0</td>\n",
              "      <td>0</td>\n",
              "      <td>0</td>\n",
              "      <td>0</td>\n",
              "      <td>0</td>\n",
              "      <td>0</td>\n",
              "      <td>0</td>\n",
              "      <td>0</td>\n",
              "      <td>0</td>\n",
              "      <td>0</td>\n",
              "      <td>0</td>\n",
              "      <td>0</td>\n",
              "      <td>0</td>\n",
              "      <td>0</td>\n",
              "      <td>0</td>\n",
              "      <td>0</td>\n",
              "      <td>...</td>\n",
              "      <td>0</td>\n",
              "      <td>0</td>\n",
              "      <td>0</td>\n",
              "      <td>0</td>\n",
              "      <td>0</td>\n",
              "      <td>0</td>\n",
              "      <td>0</td>\n",
              "      <td>0</td>\n",
              "      <td>0</td>\n",
              "      <td>0</td>\n",
              "      <td>0</td>\n",
              "      <td>0</td>\n",
              "      <td>0</td>\n",
              "      <td>0</td>\n",
              "      <td>0</td>\n",
              "      <td>0</td>\n",
              "      <td>0</td>\n",
              "      <td>0</td>\n",
              "      <td>0</td>\n",
              "      <td>0</td>\n",
              "      <td>0</td>\n",
              "      <td>0</td>\n",
              "      <td>0</td>\n",
              "      <td>0</td>\n",
              "      <td>0</td>\n",
              "      <td>0</td>\n",
              "      <td>0</td>\n",
              "      <td>0</td>\n",
              "      <td>0</td>\n",
              "      <td>0</td>\n",
              "      <td>0</td>\n",
              "      <td>0</td>\n",
              "      <td>0</td>\n",
              "      <td>0</td>\n",
              "      <td>0</td>\n",
              "      <td>0</td>\n",
              "      <td>0</td>\n",
              "      <td>0</td>\n",
              "      <td>0</td>\n",
              "      <td>0</td>\n",
              "    </tr>\n",
              "    <tr>\n",
              "      <th>3</th>\n",
              "      <td>1200.0</td>\n",
              "      <td>2.0</td>\n",
              "      <td>3</td>\n",
              "      <td>1</td>\n",
              "      <td>0</td>\n",
              "      <td>0</td>\n",
              "      <td>0</td>\n",
              "      <td>0</td>\n",
              "      <td>0</td>\n",
              "      <td>0</td>\n",
              "      <td>0</td>\n",
              "      <td>0</td>\n",
              "      <td>0</td>\n",
              "      <td>0</td>\n",
              "      <td>0</td>\n",
              "      <td>0</td>\n",
              "      <td>0</td>\n",
              "      <td>0</td>\n",
              "      <td>0</td>\n",
              "      <td>0</td>\n",
              "      <td>0</td>\n",
              "      <td>0</td>\n",
              "      <td>0</td>\n",
              "      <td>0</td>\n",
              "      <td>0</td>\n",
              "      <td>0</td>\n",
              "      <td>0</td>\n",
              "      <td>0</td>\n",
              "      <td>0</td>\n",
              "      <td>0</td>\n",
              "      <td>0</td>\n",
              "      <td>0</td>\n",
              "      <td>0</td>\n",
              "      <td>0</td>\n",
              "      <td>0</td>\n",
              "      <td>0</td>\n",
              "      <td>0</td>\n",
              "      <td>0</td>\n",
              "      <td>0</td>\n",
              "      <td>0</td>\n",
              "      <td>...</td>\n",
              "      <td>0</td>\n",
              "      <td>0</td>\n",
              "      <td>0</td>\n",
              "      <td>0</td>\n",
              "      <td>0</td>\n",
              "      <td>0</td>\n",
              "      <td>0</td>\n",
              "      <td>0</td>\n",
              "      <td>0</td>\n",
              "      <td>0</td>\n",
              "      <td>0</td>\n",
              "      <td>0</td>\n",
              "      <td>0</td>\n",
              "      <td>0</td>\n",
              "      <td>0</td>\n",
              "      <td>0</td>\n",
              "      <td>0</td>\n",
              "      <td>0</td>\n",
              "      <td>0</td>\n",
              "      <td>0</td>\n",
              "      <td>0</td>\n",
              "      <td>0</td>\n",
              "      <td>0</td>\n",
              "      <td>0</td>\n",
              "      <td>0</td>\n",
              "      <td>0</td>\n",
              "      <td>0</td>\n",
              "      <td>0</td>\n",
              "      <td>0</td>\n",
              "      <td>0</td>\n",
              "      <td>0</td>\n",
              "      <td>0</td>\n",
              "      <td>0</td>\n",
              "      <td>0</td>\n",
              "      <td>0</td>\n",
              "      <td>0</td>\n",
              "      <td>0</td>\n",
              "      <td>0</td>\n",
              "      <td>0</td>\n",
              "      <td>0</td>\n",
              "    </tr>\n",
              "    <tr>\n",
              "      <th>4</th>\n",
              "      <td>1235.0</td>\n",
              "      <td>2.0</td>\n",
              "      <td>2</td>\n",
              "      <td>1</td>\n",
              "      <td>0</td>\n",
              "      <td>0</td>\n",
              "      <td>0</td>\n",
              "      <td>0</td>\n",
              "      <td>0</td>\n",
              "      <td>0</td>\n",
              "      <td>0</td>\n",
              "      <td>0</td>\n",
              "      <td>0</td>\n",
              "      <td>0</td>\n",
              "      <td>0</td>\n",
              "      <td>0</td>\n",
              "      <td>0</td>\n",
              "      <td>0</td>\n",
              "      <td>0</td>\n",
              "      <td>0</td>\n",
              "      <td>0</td>\n",
              "      <td>0</td>\n",
              "      <td>0</td>\n",
              "      <td>0</td>\n",
              "      <td>0</td>\n",
              "      <td>0</td>\n",
              "      <td>0</td>\n",
              "      <td>0</td>\n",
              "      <td>0</td>\n",
              "      <td>0</td>\n",
              "      <td>0</td>\n",
              "      <td>0</td>\n",
              "      <td>0</td>\n",
              "      <td>0</td>\n",
              "      <td>0</td>\n",
              "      <td>0</td>\n",
              "      <td>0</td>\n",
              "      <td>0</td>\n",
              "      <td>0</td>\n",
              "      <td>0</td>\n",
              "      <td>...</td>\n",
              "      <td>0</td>\n",
              "      <td>0</td>\n",
              "      <td>0</td>\n",
              "      <td>0</td>\n",
              "      <td>0</td>\n",
              "      <td>0</td>\n",
              "      <td>0</td>\n",
              "      <td>0</td>\n",
              "      <td>0</td>\n",
              "      <td>0</td>\n",
              "      <td>0</td>\n",
              "      <td>0</td>\n",
              "      <td>0</td>\n",
              "      <td>0</td>\n",
              "      <td>0</td>\n",
              "      <td>0</td>\n",
              "      <td>0</td>\n",
              "      <td>0</td>\n",
              "      <td>0</td>\n",
              "      <td>0</td>\n",
              "      <td>0</td>\n",
              "      <td>0</td>\n",
              "      <td>0</td>\n",
              "      <td>0</td>\n",
              "      <td>0</td>\n",
              "      <td>0</td>\n",
              "      <td>0</td>\n",
              "      <td>0</td>\n",
              "      <td>0</td>\n",
              "      <td>0</td>\n",
              "      <td>0</td>\n",
              "      <td>0</td>\n",
              "      <td>0</td>\n",
              "      <td>0</td>\n",
              "      <td>0</td>\n",
              "      <td>0</td>\n",
              "      <td>0</td>\n",
              "      <td>0</td>\n",
              "      <td>0</td>\n",
              "      <td>0</td>\n",
              "    </tr>\n",
              "  </tbody>\n",
              "</table>\n",
              "<p>5 rows × 244 columns</p>\n",
              "</div>"
            ],
            "text/plain": [
              "   total_sqft  bath  bhk  ...  Yelahanka New Town  Yelenahalli  Yeshwanthpur\n",
              "0      2850.0   4.0    4  ...                   0            0             0\n",
              "1      1630.0   3.0    3  ...                   0            0             0\n",
              "2      1875.0   2.0    3  ...                   0            0             0\n",
              "3      1200.0   2.0    3  ...                   0            0             0\n",
              "4      1235.0   2.0    2  ...                   0            0             0\n",
              "\n",
              "[5 rows x 244 columns]"
            ]
          },
          "metadata": {
            "tags": []
          },
          "execution_count": 62
        }
      ]
    },
    {
      "cell_type": "code",
      "metadata": {
        "id": "BNVp1yHuccQa",
        "colab_type": "code",
        "colab": {
          "base_uri": "https://localhost:8080/",
          "height": 119
        },
        "outputId": "2d5a87a5-dbbc-4672-e1eb-0735e0e715ee"
      },
      "source": [
        "y = df12['price']\n",
        "y.head()"
      ],
      "execution_count": 63,
      "outputs": [
        {
          "output_type": "execute_result",
          "data": {
            "text/plain": [
              "0    428.0\n",
              "1    194.0\n",
              "2    235.0\n",
              "3    130.0\n",
              "4    148.0\n",
              "Name: price, dtype: float64"
            ]
          },
          "metadata": {
            "tags": []
          },
          "execution_count": 63
        }
      ]
    },
    {
      "cell_type": "code",
      "metadata": {
        "id": "3LnI6qgmckS4",
        "colab_type": "code",
        "colab": {}
      },
      "source": [
        "from sklearn.model_selection import train_test_split\n",
        "X_train, X_test, y_train, y_test = train_test_split(X, y, test_size = 0.2)"
      ],
      "execution_count": 0,
      "outputs": []
    },
    {
      "cell_type": "code",
      "metadata": {
        "id": "oTcnLUAoc5dZ",
        "colab_type": "code",
        "colab": {
          "base_uri": "https://localhost:8080/",
          "height": 34
        },
        "outputId": "c0ae053a-6324-49ab-ba90-5a5217c914b0"
      },
      "source": [
        "from sklearn.linear_model import LinearRegression\n",
        "lr_clf = LinearRegression()\n",
        "lr_clf.fit(X_train, y_train)"
      ],
      "execution_count": 65,
      "outputs": [
        {
          "output_type": "execute_result",
          "data": {
            "text/plain": [
              "LinearRegression(copy_X=True, fit_intercept=True, n_jobs=None, normalize=False)"
            ]
          },
          "metadata": {
            "tags": []
          },
          "execution_count": 65
        }
      ]
    },
    {
      "cell_type": "code",
      "metadata": {
        "id": "yVOZpTwDdoT8",
        "colab_type": "code",
        "colab": {
          "base_uri": "https://localhost:8080/",
          "height": 34
        },
        "outputId": "50e9324f-1dc3-4880-d10c-b4c8ddd2f227"
      },
      "source": [
        "lr_clf.score(X_test, y_test)"
      ],
      "execution_count": 66,
      "outputs": [
        {
          "output_type": "execute_result",
          "data": {
            "text/plain": [
              "0.8667442970099524"
            ]
          },
          "metadata": {
            "tags": []
          },
          "execution_count": 66
        }
      ]
    },
    {
      "cell_type": "code",
      "metadata": {
        "id": "xKAokpILdpo1",
        "colab_type": "code",
        "colab": {
          "base_uri": "https://localhost:8080/",
          "height": 34
        },
        "outputId": "dce439f3-fa1c-45f1-9062-694f92707aa3"
      },
      "source": [
        "from sklearn.model_selection import ShuffleSplit\n",
        "from sklearn.model_selection import cross_val_score\n",
        "\n",
        "cv = ShuffleSplit(n_splits = 5, test_size = 0.2)\n",
        "\n",
        "print(np.average(cross_val_score(LinearRegression(), X, y, cv = cv)))"
      ],
      "execution_count": 79,
      "outputs": [
        {
          "output_type": "stream",
          "text": [
            "0.8484758308899307\n"
          ],
          "name": "stdout"
        }
      ]
    },
    {
      "cell_type": "markdown",
      "metadata": {
        "id": "CGaGXaMWwbz1",
        "colab_type": "text"
      },
      "source": [
        "We can see that in 5 iterations we get a score above 80% all the time. This is pretty good but we want to test few other algorithms for regression to see if we can get even better score. We will use GridSearchCV for this purpose\n",
        "\n"
      ]
    },
    {
      "cell_type": "markdown",
      "metadata": {
        "id": "gzsk5NgSwfN6",
        "colab_type": "text"
      },
      "source": [
        "### Find best model using GridSearchCV\n"
      ]
    },
    {
      "cell_type": "code",
      "metadata": {
        "id": "hmvi_ZvZvL8Y",
        "colab_type": "code",
        "colab": {}
      },
      "source": [
        "from sklearn.model_selection import GridSearchCV\n",
        "\n",
        "from sklearn.linear_model import Lasso\n",
        "from sklearn.svm import SVR\n",
        "from sklearn.tree import DecisionTreeRegressor\n",
        "from sklearn.ensemble import RandomForestRegressor\n",
        "\n",
        "def find_best_model_using_gridsearchcv(X,y):\n",
        "    algos = {\n",
        "        'linear_regression' : {\n",
        "            'model': LinearRegression(),\n",
        "            'params': {\n",
        "                'normalize': [True, False]\n",
        "            }\n",
        "        },\n",
        "        'lasso': {\n",
        "            'model': Lasso(),\n",
        "            'params': {\n",
        "                'alpha': [1,2],\n",
        "                'selection': ['random', 'cyclic']\n",
        "            }\n",
        "        },\n",
        "        'decision_tree': {\n",
        "            'model': DecisionTreeRegressor(),\n",
        "            'params': {\n",
        "                'criterion' : ['mse','friedman_mse'],\n",
        "                'splitter': ['best','random']\n",
        "            }\n",
        "        }\n",
        "    }\n",
        "\n",
        "    scores = []\n",
        "    cv = ShuffleSplit(n_splits=5, test_size=0.2, random_state=0)\n",
        "    for algo_name, config in algos.items():\n",
        "        gs =  GridSearchCV(config['model'], config['params'], cv=cv, return_train_score=False)\n",
        "        gs.fit(X,y)\n",
        "        scores.append({\n",
        "            'model': algo_name,\n",
        "            'best_score': gs.best_score_,\n",
        "            'best_params': gs.best_params_\n",
        "        })\n",
        "\n",
        "    return pd.DataFrame(scores,columns=['model','best_score','best_params'])\n"
      ],
      "execution_count": 0,
      "outputs": []
    },
    {
      "cell_type": "code",
      "metadata": {
        "id": "9p0HN3FLwolx",
        "colab_type": "code",
        "colab": {
          "base_uri": "https://localhost:8080/",
          "height": 142
        },
        "outputId": "2d1ddf44-c1db-48cd-897c-cb5e2b957b0e"
      },
      "source": [
        "find_best_model_using_gridsearchcv(X,y)"
      ],
      "execution_count": 78,
      "outputs": [
        {
          "output_type": "execute_result",
          "data": {
            "text/html": [
              "<div>\n",
              "<style scoped>\n",
              "    .dataframe tbody tr th:only-of-type {\n",
              "        vertical-align: middle;\n",
              "    }\n",
              "\n",
              "    .dataframe tbody tr th {\n",
              "        vertical-align: top;\n",
              "    }\n",
              "\n",
              "    .dataframe thead th {\n",
              "        text-align: right;\n",
              "    }\n",
              "</style>\n",
              "<table border=\"1\" class=\"dataframe\">\n",
              "  <thead>\n",
              "    <tr style=\"text-align: right;\">\n",
              "      <th></th>\n",
              "      <th>model</th>\n",
              "      <th>best_score</th>\n",
              "      <th>best_params</th>\n",
              "    </tr>\n",
              "  </thead>\n",
              "  <tbody>\n",
              "    <tr>\n",
              "      <th>0</th>\n",
              "      <td>linear_regression</td>\n",
              "      <td>0.818354</td>\n",
              "      <td>{'normalize': False}</td>\n",
              "    </tr>\n",
              "    <tr>\n",
              "      <th>1</th>\n",
              "      <td>lasso</td>\n",
              "      <td>0.687429</td>\n",
              "      <td>{'alpha': 1, 'selection': 'cyclic'}</td>\n",
              "    </tr>\n",
              "    <tr>\n",
              "      <th>2</th>\n",
              "      <td>decision_tree</td>\n",
              "      <td>0.718764</td>\n",
              "      <td>{'criterion': 'friedman_mse', 'splitter': 'best'}</td>\n",
              "    </tr>\n",
              "  </tbody>\n",
              "</table>\n",
              "</div>"
            ],
            "text/plain": [
              "               model  ...                                        best_params\n",
              "0  linear_regression  ...                               {'normalize': False}\n",
              "1              lasso  ...                {'alpha': 1, 'selection': 'cyclic'}\n",
              "2      decision_tree  ...  {'criterion': 'friedman_mse', 'splitter': 'best'}\n",
              "\n",
              "[3 rows x 3 columns]"
            ]
          },
          "metadata": {
            "tags": []
          },
          "execution_count": 78
        }
      ]
    },
    {
      "cell_type": "markdown",
      "metadata": {
        "id": "5vK8ljlTzVHA",
        "colab_type": "text"
      },
      "source": [
        "Based on above results we can say that LinearRegression gives the best score. Hence we will use that.\n",
        "\n"
      ]
    },
    {
      "cell_type": "markdown",
      "metadata": {
        "id": "Zg6qHNIe0eym",
        "colab_type": "text"
      },
      "source": [
        "Test the model for few properties"
      ]
    },
    {
      "cell_type": "code",
      "metadata": {
        "id": "qx1pQFsY1AKc",
        "colab_type": "code",
        "colab": {
          "base_uri": "https://localhost:8080/",
          "height": 170
        },
        "outputId": "7465c380-1144-48e4-de26-767facd8f8d4"
      },
      "source": [
        "X.columns"
      ],
      "execution_count": 87,
      "outputs": [
        {
          "output_type": "execute_result",
          "data": {
            "text/plain": [
              "Index(['total_sqft', 'bath', 'bhk', '1st Block Jayanagar',\n",
              "       '1st Phase JP Nagar', '2nd Phase Judicial Layout',\n",
              "       '2nd Stage Nagarbhavi', '5th Block Hbr Layout', '5th Phase JP Nagar',\n",
              "       '6th Phase JP Nagar',\n",
              "       ...\n",
              "       'Vijayanagar', 'Vishveshwarya Layout', 'Vishwapriya Layout',\n",
              "       'Vittasandra', 'Whitefield', 'Yelachenahalli', 'Yelahanka',\n",
              "       'Yelahanka New Town', 'Yelenahalli', 'Yeshwanthpur'],\n",
              "      dtype='object', length=244)"
            ]
          },
          "metadata": {
            "tags": []
          },
          "execution_count": 87
        }
      ]
    },
    {
      "cell_type": "code",
      "metadata": {
        "id": "68AaJgIS1ExP",
        "colab_type": "code",
        "colab": {
          "base_uri": "https://localhost:8080/",
          "height": 34
        },
        "outputId": "19807685-de90-40da-8c45-bbc44fc73ea2"
      },
      "source": [
        "np.where(X.columns == '2nd Phase Judicial Layout')[0][0]"
      ],
      "execution_count": 88,
      "outputs": [
        {
          "output_type": "execute_result",
          "data": {
            "text/plain": [
              "5"
            ]
          },
          "metadata": {
            "tags": []
          },
          "execution_count": 88
        }
      ]
    },
    {
      "cell_type": "code",
      "metadata": {
        "id": "6JRPQpR_wpjm",
        "colab_type": "code",
        "colab": {}
      },
      "source": [
        "def predict_price(location, sqft, bath, bhk):    \n",
        "    loc_index = np.where(X.columns == location)[0][0]\n",
        "\n",
        "    x = np.zeros(len(X.columns))\n",
        "    x[0] = sqft\n",
        "    x[1] = bath\n",
        "    x[2] = bhk\n",
        "    # since locations start from 4th column \n",
        "    if loc_index >= 0:\n",
        "        x[loc_index] = 1\n",
        "\n",
        "    return lr_clf.predict([x])[0]"
      ],
      "execution_count": 0,
      "outputs": []
    },
    {
      "cell_type": "code",
      "metadata": {
        "id": "L50MC6xN0iQC",
        "colab_type": "code",
        "colab": {
          "base_uri": "https://localhost:8080/",
          "height": 34
        },
        "outputId": "e04cfba4-5cf3-45f0-ebe6-42d6890172d1"
      },
      "source": [
        "predict_price('1st Phase JP Nagar',1000, 2, 2)"
      ],
      "execution_count": 81,
      "outputs": [
        {
          "output_type": "execute_result",
          "data": {
            "text/plain": [
              "86.57311112835828"
            ]
          },
          "metadata": {
            "tags": []
          },
          "execution_count": 81
        }
      ]
    },
    {
      "cell_type": "code",
      "metadata": {
        "id": "QFJv0LdL0oe_",
        "colab_type": "code",
        "colab": {
          "base_uri": "https://localhost:8080/",
          "height": 34
        },
        "outputId": "cafa3074-7c38-4370-d478-004b179b09f6"
      },
      "source": [
        "predict_price('1st Phase JP Nagar',1000, 3, 3)"
      ],
      "execution_count": 83,
      "outputs": [
        {
          "output_type": "execute_result",
          "data": {
            "text/plain": [
              "89.39615846417644"
            ]
          },
          "metadata": {
            "tags": []
          },
          "execution_count": 83
        }
      ]
    },
    {
      "cell_type": "code",
      "metadata": {
        "id": "vCqli5d70q7z",
        "colab_type": "code",
        "colab": {
          "base_uri": "https://localhost:8080/",
          "height": 34
        },
        "outputId": "e1ed6e82-82a9-44cc-9731-9bcd35a5036c"
      },
      "source": [
        "predict_price('Indira Nagar',1000, 2, 2)"
      ],
      "execution_count": 84,
      "outputs": [
        {
          "output_type": "execute_result",
          "data": {
            "text/plain": [
              "180.14556677759506"
            ]
          },
          "metadata": {
            "tags": []
          },
          "execution_count": 84
        }
      ]
    },
    {
      "cell_type": "code",
      "metadata": {
        "id": "rPAP1Rkq0tdb",
        "colab_type": "code",
        "colab": {
          "base_uri": "https://localhost:8080/",
          "height": 34
        },
        "outputId": "06b1351c-b95c-4654-df1b-8b00b9159f62"
      },
      "source": [
        "predict_price('Indira Nagar',1000, 3, 3)"
      ],
      "execution_count": 85,
      "outputs": [
        {
          "output_type": "execute_result",
          "data": {
            "text/plain": [
              "182.96861411341322"
            ]
          },
          "metadata": {
            "tags": []
          },
          "execution_count": 85
        }
      ]
    },
    {
      "cell_type": "markdown",
      "metadata": {
        "id": "g0MrDDww2EJl",
        "colab_type": "text"
      },
      "source": [
        "Export the tested model to a pickle file\n"
      ]
    },
    {
      "cell_type": "code",
      "metadata": {
        "id": "NYqs9PU20vVq",
        "colab_type": "code",
        "colab": {}
      },
      "source": [
        "import pickle\n",
        "with open('banglore_home_prices_model.pickle','wb') as f:\n",
        "    pickle.dump(lr_clf,f)"
      ],
      "execution_count": 0,
      "outputs": []
    },
    {
      "cell_type": "markdown",
      "metadata": {
        "id": "OAr9-RkC2J9l",
        "colab_type": "text"
      },
      "source": [
        "Export location and column information to a file that will be useful later on in our prediction application\n"
      ]
    },
    {
      "cell_type": "code",
      "metadata": {
        "id": "aOoCvZfw2HWN",
        "colab_type": "code",
        "colab": {}
      },
      "source": [
        "import json\n",
        "columns = {\n",
        "    'data_columns' : [col.lower() for col in X.columns]\n",
        "}\n",
        "with open(\"columns.json\",\"w\") as f:\n",
        "    f.write(json.dumps(columns))"
      ],
      "execution_count": 0,
      "outputs": []
    },
    {
      "cell_type": "code",
      "metadata": {
        "id": "qs5znh4d2NBZ",
        "colab_type": "code",
        "colab": {}
      },
      "source": [
        ""
      ],
      "execution_count": 0,
      "outputs": []
    }
  ]
}